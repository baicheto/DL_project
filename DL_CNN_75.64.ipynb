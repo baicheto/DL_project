{
  "cells": [
    {
      "cell_type": "code",
      "execution_count": 188,
      "metadata": {
        "id": "NTv9lY00TABL"
      },
      "outputs": [],
      "source": [
        "import tensorflow as tf\n",
        "from tensorflow.keras import layers\n",
        "from tensorflow.keras.models import Model\n",
        "from tensorflow.keras.datasets import cifar10\n",
        "import numpy as np\n",
        "from matplotlib import pyplot as plt\n",
        "\n",
        "(cifar10_x_train, cifar10_y_train), (cifar10_x_test, cifar10_y_test) = cifar10.load_data()\n",
        "assert cifar10_x_train.shape == (50000, 32, 32, 3)\n",
        "assert cifar10_x_test.shape == (10000, 32, 32, 3)\n",
        "assert cifar10_y_train.shape == (50000, 1)\n",
        "assert cifar10_y_test.shape == (10000, 1)\n",
        "\n",
        "classes = [\"airplane\", \"automobile\", \"bird\", \"cat\", \"deer\", \"dog\", \"frog\", \"horse\", \"ship\", \"truck\"]\n",
        "\n",
        "cifar10_x_train = (cifar10_x_train / 255.).astype(np.float32)\n",
        "cifar10_x_test = (cifar10_x_test / 255.).astype(np.float32)\n",
        "\n",
        "# Split training data into train and validation sets\n",
        "val_split = 0.2\n",
        "num_val_samples = int(cifar10_x_train.shape[0] * val_split)\n",
        "\n",
        "cifar10_x_val = cifar10_x_train[:num_val_samples]\n",
        "cifar10_y_val = cifar10_y_train[:num_val_samples]\n",
        "\n",
        "cifar10_x_train = cifar10_x_train[num_val_samples:]\n",
        "cifar10_y_train = cifar10_y_train[num_val_samples:]\n",
        "\n",
        "# Separate data into two groups for training\n",
        "cond_1_train = cifar10_y_train[:, 0] < 5\n",
        "cifar10_x_train_1 = cifar10_x_train[cond_1_train]\n",
        "cifar10_y_train_1 = cifar10_y_train[cond_1_train]\n",
        "\n",
        "cond_2_train = cifar10_y_train[:, 0] >= 5\n",
        "cifar10_x_train_2 = cifar10_x_train[cond_2_train]\n",
        "cifar10_y_train_2 = cifar10_y_train[cond_2_train]\n",
        "\n",
        "# Separate validation data into two groups\n",
        "cond_1_val = cifar10_y_val[:, 0] < 5\n",
        "cifar10_x_val_1 = cifar10_x_val[cond_1_val]\n",
        "cifar10_y_val_1 = cifar10_y_val[cond_1_val]\n",
        "\n",
        "cond_2_val = cifar10_y_val[:, 0] >= 5\n",
        "cifar10_x_val_2 = cifar10_x_val[cond_2_val]\n",
        "cifar10_y_val_2 = cifar10_y_val[cond_2_val]\n",
        "\n",
        "# Separate test data into two groups\n",
        "cond_1_test = cifar10_y_test[:, 0] < 5\n",
        "cifar10_x_test_1 = cifar10_x_test[cond_1_test]\n",
        "cifar10_y_test_1 = cifar10_y_test[cond_1_test]\n",
        "\n",
        "cond_2_test = cifar10_y_test[:, 0] >= 5\n",
        "cifar10_x_test_2 = cifar10_x_test[cond_2_test]\n",
        "cifar10_y_test_2 = cifar10_y_test[cond_2_test]\n",
        "\n",
        "\n",
        "\n",
        "\n"
      ]
    },
    {
      "cell_type": "code",
      "execution_count": 189,
      "metadata": {
        "colab": {
          "base_uri": "https://localhost:8080/",
          "height": 466
        },
        "id": "o3geZUvqTABN",
        "outputId": "5a90eed8-ea49-49c2-be3d-12d62dc635a6"
      },
      "outputs": [
        {
          "output_type": "stream",
          "name": "stdout",
          "text": [
            "first: bird, second = horse\n"
          ]
        },
        {
          "output_type": "execute_result",
          "data": {
            "text/plain": [
              "<matplotlib.image.AxesImage at 0x7a9a84579f30>"
            ]
          },
          "metadata": {},
          "execution_count": 189
        },
        {
          "output_type": "display_data",
          "data": {
            "text/plain": [
              "<Figure size 640x480 with 1 Axes>"
            ],
            "image/png": "[encoded data removed]"
          },
          "metadata": {}
        }
      ],
      "source": [
        "def datagenerator(X1, X2, Y1, Y2, batchsize):\n",
        "    size1 = X1.shape[0]\n",
        "    size2 = X2.shape[0]\n",
        "    Y1_cat = tf.keras.utils.to_categorical(Y1, num_classes=5)\n",
        "    Y2_cat = tf.keras.utils.to_categorical(Y2 - 5, num_classes=5)\n",
        "\n",
        "    while True:\n",
        "        num1 = np.random.randint(0, size1, batchsize)\n",
        "        num2 = np.random.randint(0, size2, batchsize)\n",
        "        x_data = (X1[num1] + X2[num2]) / 2.0\n",
        "        y_data = (Y1_cat[num1], Y2_cat[num2])\n",
        "        yield x_data, y_data\n",
        "\n",
        "datagen = datagenerator(cifar10_x_train_1, cifar10_x_train_2, cifar10_y_train_1, cifar10_y_train_2, 1)\n",
        "x, y = next(datagen)\n",
        "\n",
        "print(\"first: {}, second = {}\".format(classes[np.argmax(y[0][0])], classes[np.argmax(y[1][0]) + 5]))\n",
        "#print(np.min(x[0]),np.max(x[0]))\n",
        "plt.imshow(x[0])"
      ]
    },
    {
      "cell_type": "code",
      "source": [
        "# Define data augmentation\n",
        "data_augmentation = tf.keras.Sequential([\n",
        "    layers.Resizing(128, 128),\n",
        "    layers.RandomFlip(\"horizontal\"),\n",
        "    layers.RandomRotation(1.0),\n",
        "    layers.RandomZoom(1.0),\n",
        "    layers.RandomContrast(0.5)\n",
        "])"
      ],
      "metadata": {
        "id": "Tx1KehgFb7Dq"
      },
      "execution_count": 190,
      "outputs": []
    },
    {
      "cell_type": "code",
      "execution_count": 191,
      "metadata": {
        "id": "1hxKHhxYTABP"
      },
      "outputs": [],
      "source": [
        "def enhanced_cnn_model():\n",
        "    inputs = tf.keras.Input(shape=(32, 32, 3))\n",
        "    x = data_augmentation(inputs)  # Apply augmentation\n",
        "\n",
        "    # First convolutional block\n",
        "    x = layers.Conv2D(128, (3, 3), activation='relu', padding='same')(inputs)\n",
        "    x = layers.BatchNormalization()(x)\n",
        "    x = layers.MaxPooling2D((2, 2))(x)\n",
        "\n",
        "    x = layers.Conv2D(256, (3, 3), activation='relu', padding='same')(x)\n",
        "    x = layers.BatchNormalization()(x)\n",
        "    x = layers.MaxPooling2D((2, 2))(x)\n",
        "\n",
        "    # Second convolutional block\n",
        "    x = layers.Conv2D(512, (3, 3), activation='relu', padding='same')(x)\n",
        "    x = layers.BatchNormalization()(x)\n",
        "    x = layers.MaxPooling2D((2, 2))(x)\n",
        "\n",
        "    x = layers.Conv2D(1024, (3, 3), activation='relu', padding='same')(x)\n",
        "    x = layers.BatchNormalization()(x)\n",
        "    x = layers.MaxPooling2D((2, 2))(x)\n",
        "\n",
        "    # Global Average Pooling\n",
        "    x = layers.GlobalAveragePooling2D()(x)\n",
        "\n",
        "    \"\"\"\n",
        "    # Fully connected layers for output 1\n",
        "    fc1_output1 = layers.Dense(1024, activation='relu')(x)\n",
        "    fc1_output1 = layers.Dropout(0.5)(fc1_output1)\n",
        "    output1 = layers.Dense(5, activation='softmax', name='output1')(fc1_output1)\n",
        "\n",
        "    # Fully connected layers for output 2\n",
        "    fc1_output2 = layers.Dense(1024, activation='relu')(x)\n",
        "    fc1_output2 = layers.Dropout(0.5)(fc1_output2)\n",
        "    output2 = layers.Dense(5, activation='softmax', name='output2')(fc1_output2)\n",
        "    \"\"\"\n",
        "    # Fully connected layers for output 1 with Leaky ReLU\n",
        "    fc1_output1 = layers.Dense(1024, activation=None)(x)\n",
        "    fc1_output1 = layers.LeakyReLU(alpha=0.1)(fc1_output1)\n",
        "    fc1_output1 = layers.Dropout(0.3)(fc1_output1)\n",
        "    output1 = layers.Dense(5, activation='softmax', name='output1')(fc1_output1)\n",
        "\n",
        "    # Fully connected layers for output 2 with Leaky ReLU\n",
        "    fc1_output2 = layers.Dense(1024, activation=None)(x)\n",
        "    fc1_output2 = layers.LeakyReLU(alpha=0.1)(fc1_output2)\n",
        "    fc1_output2 = layers.Dropout(0.3)(fc1_output2)\n",
        "    output2 = layers.Dense(5, activation='softmax', name='output2')(fc1_output2)\n",
        "\n",
        "    model = Model(inputs=inputs, outputs=[output1, output2])\n",
        "    return model\n",
        "\n"
      ]
    },
    {
      "cell_type": "code",
      "execution_count": 192,
      "metadata": {
        "id": "LewIJ6aITABP"
      },
      "outputs": [],
      "source": [
        "\n",
        "class LabelSmoothingLoss(tf.keras.losses.Loss):\n",
        "    def __init__(self, smoothing=0.0):\n",
        "        super(LabelSmoothingLoss, self).__init__()\n",
        "        self.smoothing = smoothing\n",
        "\n",
        "    def call(self, y_true, y_pred):\n",
        "        num_classes = tf.cast(tf.shape(y_pred)[-1], tf.float32)\n",
        "        smooth_positives = 1.0 - self.smoothing\n",
        "        smooth_negatives = self.smoothing / num_classes\n",
        "        y_true_smoothed = y_true * smooth_positives + smooth_negatives\n",
        "        return tf.reduce_mean(tf.keras.losses.categorical_crossentropy(y_true_smoothed, y_pred))\n",
        "\n"
      ]
    },
    {
      "cell_type": "code",
      "execution_count": 193,
      "metadata": {
        "id": "3gb12eu3TABQ"
      },
      "outputs": [],
      "source": [
        "# Define learning rate scheduler\n",
        "initial_lr = 0.001\n",
        "scheduler = tf.keras.optimizers.schedules.ExponentialDecay(\n",
        "    initial_learning_rate=initial_lr,\n",
        "    decay_steps= 5 * 500,  # Assuming 10 epochs\n",
        "    decay_rate=0.7,\n",
        "    staircase=True\n",
        ")"
      ]
    },
    {
      "cell_type": "code",
      "source": [
        "# Define the optimizer with layer-specific learning rates\n",
        "class CustomAdam(tf.keras.optimizers.Adam):\n",
        "    def __init__(self, lr_multipliers, *args, **kwargs):\n",
        "        super().__init__(*args, **kwargs)\n",
        "        self.lr_multipliers = lr_multipliers\n",
        "\n",
        "    def _resource_apply_dense(self, grad, var, apply_state=None):\n",
        "        multiplier = self.lr_multipliers.get(var.name, 1.0)\n",
        "        scaled_lr = self._get_hyper(\"learning_rate\") * multiplier\n",
        "        self._set_hyper(\"learning_rate\", scaled_lr)\n",
        "        return super()._resource_apply_dense(grad, var, apply_state)\n",
        "\n",
        "# Define learning rate multipliers\n",
        "lr_multipliers = {\n",
        "    'conv2d/kernel:0': 1e-5,  # Early layers\n",
        "    'conv2d_1/kernel:0': 1e-5,\n",
        "    'conv2d_2/kernel:0': 1e-4,  # Middle layers\n",
        "    'conv2d_3/kernel:0': 1e-4,\n",
        "    'dense/kernel:0': 1e-3,  # Final dense layers\n",
        "    'dense_1/kernel:0': 1e-3\n",
        "}\n",
        "\n",
        "# Compile the model with a custom optimizer\n",
        "custom_optimizer = CustomAdam(\n",
        "    learning_rate=scheduler,\n",
        "    lr_multipliers=lr_multipliers\n",
        ")"
      ],
      "metadata": {
        "id": "GMUSlqEPjGjk"
      },
      "execution_count": 194,
      "outputs": []
    },
    {
      "cell_type": "code",
      "execution_count": 195,
      "metadata": {
        "colab": {
          "base_uri": "https://localhost:8080/"
        },
        "id": "gcM9fhAgTABQ",
        "outputId": "b186d181-a99e-4020-80a5-e7f5b06e920a"
      },
      "outputs": [
        {
          "output_type": "stream",
          "name": "stdout",
          "text": [
            "Epoch 1/50\n",
            "\u001b[1m500/500\u001b[0m \u001b[32m━━━━━━━━━━━━━━━━━━━━\u001b[0m\u001b[37m\u001b[0m \u001b[1m12s\u001b[0m 8ms/step - loss: 3.4460 - output1_accuracy: 0.3777 - output1_loss: 1.6708 - output2_accuracy: 0.4244 - output2_loss: 1.7752 - val_loss: 5.0759 - val_output1_accuracy: 0.3197 - val_output1_loss: 2.0187 - val_output2_accuracy: 0.3834 - val_output2_loss: 3.0572\n",
            "Epoch 2/50\n",
            "\u001b[1m500/500\u001b[0m \u001b[32m━━━━━━━━━━━━━━━━━━━━\u001b[0m\u001b[37m\u001b[0m \u001b[1m3s\u001b[0m 6ms/step - loss: 2.4521 - output1_accuracy: 0.5097 - output1_loss: 1.2912 - output2_accuracy: 0.5942 - output2_loss: 1.1609 - val_loss: 2.6518 - val_output1_accuracy: 0.4395 - val_output1_loss: 1.4312 - val_output2_accuracy: 0.5727 - val_output2_loss: 1.2207\n",
            "Epoch 3/50\n",
            "\u001b[1m500/500\u001b[0m \u001b[32m━━━━━━━━━━━━━━━━━━━━\u001b[0m\u001b[37m\u001b[0m \u001b[1m3s\u001b[0m 6ms/step - loss: 2.2726 - output1_accuracy: 0.5599 - output1_loss: 1.2130 - output2_accuracy: 0.6579 - output2_loss: 1.0596 - val_loss: 2.9738 - val_output1_accuracy: 0.4506 - val_output1_loss: 1.4246 - val_output2_accuracy: 0.4238 - val_output2_loss: 1.5493\n",
            "Epoch 4/50\n",
            "\u001b[1m500/500\u001b[0m \u001b[32m━━━━━━━━━━━━━━━━━━━━\u001b[0m\u001b[37m\u001b[0m \u001b[1m3s\u001b[0m 6ms/step - loss: 2.1763 - output1_accuracy: 0.5880 - output1_loss: 1.1705 - output2_accuracy: 0.6891 - output2_loss: 1.0058 - val_loss: 2.9859 - val_output1_accuracy: 0.4008 - val_output1_loss: 1.4858 - val_output2_accuracy: 0.4775 - val_output2_loss: 1.5002\n",
            "Epoch 5/50\n",
            "\u001b[1m500/500\u001b[0m \u001b[32m━━━━━━━━━━━━━━━━━━━━\u001b[0m\u001b[37m\u001b[0m \u001b[1m3s\u001b[0m 6ms/step - loss: 2.1105 - output1_accuracy: 0.6043 - output1_loss: 1.1393 - output2_accuracy: 0.7051 - output2_loss: 0.9712 - val_loss: 3.1018 - val_output1_accuracy: 0.4653 - val_output1_loss: 1.3729 - val_output2_accuracy: 0.4361 - val_output2_loss: 1.7289\n",
            "Epoch 6/50\n",
            "\u001b[1m500/500\u001b[0m \u001b[32m━━━━━━━━━━━━━━━━━━━━\u001b[0m\u001b[37m\u001b[0m \u001b[1m3s\u001b[0m 6ms/step - loss: 1.9919 - output1_accuracy: 0.6422 - output1_loss: 1.0800 - output2_accuracy: 0.7420 - output2_loss: 0.9119 - val_loss: 2.2691 - val_output1_accuracy: 0.5908 - val_output1_loss: 1.1762 - val_output2_accuracy: 0.6520 - val_output2_loss: 1.0929\n",
            "Epoch 7/50\n",
            "\u001b[1m500/500\u001b[0m \u001b[32m━━━━━━━━━━━━━━━━━━━━\u001b[0m\u001b[37m\u001b[0m \u001b[1m3s\u001b[0m 6ms/step - loss: 1.9467 - output1_accuracy: 0.6592 - output1_loss: 1.0530 - output2_accuracy: 0.7493 - output2_loss: 0.8937 - val_loss: 2.1095 - val_output1_accuracy: 0.5916 - val_output1_loss: 1.1707 - val_output2_accuracy: 0.7264 - val_output2_loss: 0.9388\n",
            "Epoch 8/50\n",
            "\u001b[1m500/500\u001b[0m \u001b[32m━━━━━━━━━━━━━━━━━━━━\u001b[0m\u001b[37m\u001b[0m \u001b[1m3s\u001b[0m 6ms/step - loss: 1.9215 - output1_accuracy: 0.6627 - output1_loss: 1.0407 - output2_accuracy: 0.7594 - output2_loss: 0.8808 - val_loss: 2.2540 - val_output1_accuracy: 0.5587 - val_output1_loss: 1.2685 - val_output2_accuracy: 0.7020 - val_output2_loss: 0.9854\n",
            "Epoch 9/50\n",
            "\u001b[1m500/500\u001b[0m \u001b[32m━━━━━━━━━━━━━━━━━━━━\u001b[0m\u001b[37m\u001b[0m \u001b[1m3s\u001b[0m 6ms/step - loss: 1.8794 - output1_accuracy: 0.6760 - output1_loss: 1.0212 - output2_accuracy: 0.7753 - output2_loss: 0.8582 - val_loss: 2.3977 - val_output1_accuracy: 0.5577 - val_output1_loss: 1.3172 - val_output2_accuracy: 0.6561 - val_output2_loss: 1.0805\n",
            "Epoch 10/50\n",
            "\u001b[1m500/500\u001b[0m \u001b[32m━━━━━━━━━━━━━━━━━━━━\u001b[0m\u001b[37m\u001b[0m \u001b[1m3s\u001b[0m 6ms/step - loss: 1.8328 - output1_accuracy: 0.6956 - output1_loss: 0.9872 - output2_accuracy: 0.7797 - output2_loss: 0.8456 - val_loss: 2.3095 - val_output1_accuracy: 0.5839 - val_output1_loss: 1.2135 - val_output2_accuracy: 0.6416 - val_output2_loss: 1.0961\n",
            "Epoch 11/50\n",
            "\u001b[1m500/500\u001b[0m \u001b[32m━━━━━━━━━━━━━━━━━━━━\u001b[0m\u001b[37m\u001b[0m \u001b[1m3s\u001b[0m 6ms/step - loss: 1.7798 - output1_accuracy: 0.7050 - output1_loss: 0.9652 - output2_accuracy: 0.7936 - output2_loss: 0.8145 - val_loss: 2.0359 - val_output1_accuracy: 0.6269 - val_output1_loss: 1.1107 - val_output2_accuracy: 0.7362 - val_output2_loss: 0.9252\n",
            "Epoch 12/50\n",
            "\u001b[1m500/500\u001b[0m \u001b[32m━━━━━━━━━━━━━━━━━━━━\u001b[0m\u001b[37m\u001b[0m \u001b[1m3s\u001b[0m 6ms/step - loss: 1.7427 - output1_accuracy: 0.7163 - output1_loss: 0.9502 - output2_accuracy: 0.8092 - output2_loss: 0.7925 - val_loss: 2.0353 - val_output1_accuracy: 0.6542 - val_output1_loss: 1.0683 - val_output2_accuracy: 0.7159 - val_output2_loss: 0.9670\n",
            "Epoch 13/50\n",
            "\u001b[1m500/500\u001b[0m \u001b[32m━━━━━━━━━━━━━━━━━━━━\u001b[0m\u001b[37m\u001b[0m \u001b[1m3s\u001b[0m 6ms/step - loss: 1.7094 - output1_accuracy: 0.7218 - output1_loss: 0.9280 - output2_accuracy: 0.8143 - output2_loss: 0.7814 - val_loss: 2.3021 - val_output1_accuracy: 0.5845 - val_output1_loss: 1.2326 - val_output2_accuracy: 0.6620 - val_output2_loss: 1.0695\n",
            "Epoch 14/50\n",
            "\u001b[1m500/500\u001b[0m \u001b[32m━━━━━━━━━━━━━━━━━━━━\u001b[0m\u001b[37m\u001b[0m \u001b[1m3s\u001b[0m 6ms/step - loss: 1.6877 - output1_accuracy: 0.7352 - output1_loss: 0.9189 - output2_accuracy: 0.8194 - output2_loss: 0.7689 - val_loss: 1.9836 - val_output1_accuracy: 0.6648 - val_output1_loss: 1.0488 - val_output2_accuracy: 0.7358 - val_output2_loss: 0.9348\n",
            "Epoch 15/50\n",
            "\u001b[1m500/500\u001b[0m \u001b[32m━━━━━━━━━━━━━━━━━━━━\u001b[0m\u001b[37m\u001b[0m \u001b[1m3s\u001b[0m 6ms/step - loss: 1.6578 - output1_accuracy: 0.7414 - output1_loss: 0.9050 - output2_accuracy: 0.8317 - output2_loss: 0.7528 - val_loss: 2.0347 - val_output1_accuracy: 0.6480 - val_output1_loss: 1.0765 - val_output2_accuracy: 0.7278 - val_output2_loss: 0.9582\n",
            "Epoch 16/50\n",
            "\u001b[1m500/500\u001b[0m \u001b[32m━━━━━━━━━━━━━━━━━━━━\u001b[0m\u001b[37m\u001b[0m \u001b[1m3s\u001b[0m 6ms/step - loss: 1.6136 - output1_accuracy: 0.7520 - output1_loss: 0.8833 - output2_accuracy: 0.8396 - output2_loss: 0.7303 - val_loss: 2.1032 - val_output1_accuracy: 0.6402 - val_output1_loss: 1.1164 - val_output2_accuracy: 0.7098 - val_output2_loss: 0.9868\n",
            "Epoch 17/50\n",
            "\u001b[1m500/500\u001b[0m \u001b[32m━━━━━━━━━━━━━━━━━━━━\u001b[0m\u001b[37m\u001b[0m \u001b[1m3s\u001b[0m 6ms/step - loss: 1.5960 - output1_accuracy: 0.7560 - output1_loss: 0.8760 - output2_accuracy: 0.8445 - output2_loss: 0.7200 - val_loss: 2.0127 - val_output1_accuracy: 0.6480 - val_output1_loss: 1.0955 - val_output2_accuracy: 0.7525 - val_output2_loss: 0.9172\n",
            "Epoch 18/50\n",
            "\u001b[1m500/500\u001b[0m \u001b[32m━━━━━━━━━━━━━━━━━━━━\u001b[0m\u001b[37m\u001b[0m \u001b[1m3s\u001b[0m 6ms/step - loss: 1.5788 - output1_accuracy: 0.7670 - output1_loss: 0.8572 - output2_accuracy: 0.8461 - output2_loss: 0.7216 - val_loss: 1.8997 - val_output1_accuracy: 0.6720 - val_output1_loss: 1.0326 - val_output2_accuracy: 0.7659 - val_output2_loss: 0.8671\n",
            "Epoch 19/50\n",
            "\u001b[1m500/500\u001b[0m \u001b[32m━━━━━━━━━━━━━━━━━━━━\u001b[0m\u001b[37m\u001b[0m \u001b[1m3s\u001b[0m 6ms/step - loss: 1.5604 - output1_accuracy: 0.7728 - output1_loss: 0.8524 - output2_accuracy: 0.8542 - output2_loss: 0.7080 - val_loss: 1.8792 - val_output1_accuracy: 0.6737 - val_output1_loss: 1.0331 - val_output2_accuracy: 0.7777 - val_output2_loss: 0.8461\n",
            "Epoch 20/50\n",
            "\u001b[1m500/500\u001b[0m \u001b[32m━━━━━━━━━━━━━━━━━━━━\u001b[0m\u001b[37m\u001b[0m \u001b[1m3s\u001b[0m 6ms/step - loss: 1.5388 - output1_accuracy: 0.7765 - output1_loss: 0.8385 - output2_accuracy: 0.8568 - output2_loss: 0.7003 - val_loss: 1.9161 - val_output1_accuracy: 0.6792 - val_output1_loss: 1.0278 - val_output2_accuracy: 0.7561 - val_output2_loss: 0.8883\n",
            "Epoch 21/50\n",
            "\u001b[1m500/500\u001b[0m \u001b[32m━━━━━━━━━━━━━━━━━━━━\u001b[0m\u001b[37m\u001b[0m \u001b[1m3s\u001b[0m 6ms/step - loss: 1.5231 - output1_accuracy: 0.7819 - output1_loss: 0.8347 - output2_accuracy: 0.8610 - output2_loss: 0.6885 - val_loss: 1.9175 - val_output1_accuracy: 0.6756 - val_output1_loss: 1.0321 - val_output2_accuracy: 0.7623 - val_output2_loss: 0.8854\n",
            "Epoch 22/50\n",
            "\u001b[1m500/500\u001b[0m \u001b[32m━━━━━━━━━━━━━━━━━━━━\u001b[0m\u001b[37m\u001b[0m \u001b[1m3s\u001b[0m 6ms/step - loss: 1.4877 - output1_accuracy: 0.7946 - output1_loss: 0.8136 - output2_accuracy: 0.8694 - output2_loss: 0.6741 - val_loss: 1.9843 - val_output1_accuracy: 0.6700 - val_output1_loss: 1.0429 - val_output2_accuracy: 0.7328 - val_output2_loss: 0.9414\n",
            "Epoch 23/50\n",
            "\u001b[1m500/500\u001b[0m \u001b[32m━━━━━━━━━━━━━━━━━━━━\u001b[0m\u001b[37m\u001b[0m \u001b[1m3s\u001b[0m 6ms/step - loss: 1.4789 - output1_accuracy: 0.7935 - output1_loss: 0.8104 - output2_accuracy: 0.8691 - output2_loss: 0.6685 - val_loss: 1.8678 - val_output1_accuracy: 0.6798 - val_output1_loss: 1.0162 - val_output2_accuracy: 0.7741 - val_output2_loss: 0.8515\n",
            "Epoch 24/50\n",
            "\u001b[1m500/500\u001b[0m \u001b[32m━━━━━━━━━━━━━━━━━━━━\u001b[0m\u001b[37m\u001b[0m \u001b[1m3s\u001b[0m 6ms/step - loss: 1.4709 - output1_accuracy: 0.7988 - output1_loss: 0.8004 - output2_accuracy: 0.8704 - output2_loss: 0.6705 - val_loss: 1.8572 - val_output1_accuracy: 0.6941 - val_output1_loss: 1.0064 - val_output2_accuracy: 0.7763 - val_output2_loss: 0.8508\n",
            "Epoch 25/50\n",
            "\u001b[1m500/500\u001b[0m \u001b[32m━━━━━━━━━━━━━━━━━━━━\u001b[0m\u001b[37m\u001b[0m \u001b[1m3s\u001b[0m 6ms/step - loss: 1.4637 - output1_accuracy: 0.7990 - output1_loss: 0.7982 - output2_accuracy: 0.8707 - output2_loss: 0.6655 - val_loss: 1.8577 - val_output1_accuracy: 0.6942 - val_output1_loss: 1.0025 - val_output2_accuracy: 0.7733 - val_output2_loss: 0.8551\n",
            "Epoch 26/50\n",
            "\u001b[1m500/500\u001b[0m \u001b[32m━━━━━━━━━━━━━━━━━━━━\u001b[0m\u001b[37m\u001b[0m \u001b[1m3s\u001b[0m 6ms/step - loss: 1.4330 - output1_accuracy: 0.8118 - output1_loss: 0.7823 - output2_accuracy: 0.8801 - output2_loss: 0.6508 - val_loss: 1.8867 - val_output1_accuracy: 0.6719 - val_output1_loss: 1.0566 - val_output2_accuracy: 0.7867 - val_output2_loss: 0.8301\n",
            "Epoch 27/50\n",
            "\u001b[1m500/500\u001b[0m \u001b[32m━━━━━━━━━━━━━━━━━━━━\u001b[0m\u001b[37m\u001b[0m \u001b[1m3s\u001b[0m 6ms/step - loss: 1.4149 - output1_accuracy: 0.8180 - output1_loss: 0.7705 - output2_accuracy: 0.8833 - output2_loss: 0.6444 - val_loss: 1.8807 - val_output1_accuracy: 0.6791 - val_output1_loss: 1.0440 - val_output2_accuracy: 0.7872 - val_output2_loss: 0.8367\n",
            "Epoch 28/50\n",
            "\u001b[1m500/500\u001b[0m \u001b[32m━━━━━━━━━━━━━━━━━━━━\u001b[0m\u001b[37m\u001b[0m \u001b[1m3s\u001b[0m 6ms/step - loss: 1.4026 - output1_accuracy: 0.8219 - output1_loss: 0.7635 - output2_accuracy: 0.8841 - output2_loss: 0.6391 - val_loss: 1.8784 - val_output1_accuracy: 0.6820 - val_output1_loss: 1.0235 - val_output2_accuracy: 0.7748 - val_output2_loss: 0.8549\n",
            "Epoch 29/50\n",
            "\u001b[1m500/500\u001b[0m \u001b[32m━━━━━━━━━━━━━━━━━━━━\u001b[0m\u001b[37m\u001b[0m \u001b[1m3s\u001b[0m 6ms/step - loss: 1.4033 - output1_accuracy: 0.8171 - output1_loss: 0.7699 - output2_accuracy: 0.8900 - output2_loss: 0.6334 - val_loss: 1.9922 - val_output1_accuracy: 0.6597 - val_output1_loss: 1.1115 - val_output2_accuracy: 0.7603 - val_output2_loss: 0.8807\n",
            "Epoch 30/50\n",
            "\u001b[1m500/500\u001b[0m \u001b[32m━━━━━━━━━━━━━━━━━━━━\u001b[0m\u001b[37m\u001b[0m \u001b[1m3s\u001b[0m 6ms/step - loss: 1.3928 - output1_accuracy: 0.8197 - output1_loss: 0.7628 - output2_accuracy: 0.8913 - output2_loss: 0.6300 - val_loss: 1.8344 - val_output1_accuracy: 0.6900 - val_output1_loss: 1.0228 - val_output2_accuracy: 0.7975 - val_output2_loss: 0.8116\n",
            "Epoch 31/50\n",
            "\u001b[1m500/500\u001b[0m \u001b[32m━━━━━━━━━━━━━━━━━━━━\u001b[0m\u001b[37m\u001b[0m \u001b[1m3s\u001b[0m 6ms/step - loss: 1.3729 - output1_accuracy: 0.8265 - output1_loss: 0.7520 - output2_accuracy: 0.8985 - output2_loss: 0.6208 - val_loss: 1.8436 - val_output1_accuracy: 0.6984 - val_output1_loss: 0.9996 - val_output2_accuracy: 0.7784 - val_output2_loss: 0.8440\n",
            "Epoch 32/50\n",
            "\u001b[1m500/500\u001b[0m \u001b[32m━━━━━━━━━━━━━━━━━━━━\u001b[0m\u001b[37m\u001b[0m \u001b[1m3s\u001b[0m 6ms/step - loss: 1.3613 - output1_accuracy: 0.8297 - output1_loss: 0.7446 - output2_accuracy: 0.8969 - output2_loss: 0.6166 - val_loss: 1.7783 - val_output1_accuracy: 0.7069 - val_output1_loss: 0.9772 - val_output2_accuracy: 0.7980 - val_output2_loss: 0.8011\n",
            "Epoch 33/50\n",
            "\u001b[1m500/500\u001b[0m \u001b[32m━━━━━━━━━━━━━━━━━━━━\u001b[0m\u001b[37m\u001b[0m \u001b[1m3s\u001b[0m 6ms/step - loss: 1.3636 - output1_accuracy: 0.8289 - output1_loss: 0.7480 - output2_accuracy: 0.9011 - output2_loss: 0.6155 - val_loss: 1.7925 - val_output1_accuracy: 0.7091 - val_output1_loss: 0.9706 - val_output2_accuracy: 0.7928 - val_output2_loss: 0.8219\n",
            "Epoch 34/50\n",
            "\u001b[1m500/500\u001b[0m \u001b[32m━━━━━━━━━━━━━━━━━━━━\u001b[0m\u001b[37m\u001b[0m \u001b[1m3s\u001b[0m 6ms/step - loss: 1.3522 - output1_accuracy: 0.8305 - output1_loss: 0.7401 - output2_accuracy: 0.9020 - output2_loss: 0.6121 - val_loss: 1.8440 - val_output1_accuracy: 0.7047 - val_output1_loss: 0.9848 - val_output2_accuracy: 0.7711 - val_output2_loss: 0.8592\n",
            "Epoch 35/50\n",
            "\u001b[1m500/500\u001b[0m \u001b[32m━━━━━━━━━━━━━━━━━━━━\u001b[0m\u001b[37m\u001b[0m \u001b[1m3s\u001b[0m 6ms/step - loss: 1.3391 - output1_accuracy: 0.8375 - output1_loss: 0.7284 - output2_accuracy: 0.9029 - output2_loss: 0.6107 - val_loss: 1.8320 - val_output1_accuracy: 0.6936 - val_output1_loss: 1.0019 - val_output2_accuracy: 0.7869 - val_output2_loss: 0.8301\n",
            "Epoch 36/50\n",
            "\u001b[1m500/500\u001b[0m \u001b[32m━━━━━━━━━━━━━━━━━━━━\u001b[0m\u001b[37m\u001b[0m \u001b[1m3s\u001b[0m 6ms/step - loss: 1.3334 - output1_accuracy: 0.8383 - output1_loss: 0.7238 - output2_accuracy: 0.9018 - output2_loss: 0.6096 - val_loss: 1.7908 - val_output1_accuracy: 0.7084 - val_output1_loss: 0.9913 - val_output2_accuracy: 0.8000 - val_output2_loss: 0.7995\n",
            "Epoch 37/50\n",
            "\u001b[1m500/500\u001b[0m \u001b[32m━━━━━━━━━━━━━━━━━━━━\u001b[0m\u001b[37m\u001b[0m \u001b[1m3s\u001b[0m 6ms/step - loss: 1.3297 - output1_accuracy: 0.8400 - output1_loss: 0.7302 - output2_accuracy: 0.9065 - output2_loss: 0.5996 - val_loss: 1.8073 - val_output1_accuracy: 0.7044 - val_output1_loss: 0.9908 - val_output2_accuracy: 0.7955 - val_output2_loss: 0.8165\n",
            "Epoch 38/50\n",
            "\u001b[1m500/500\u001b[0m \u001b[32m━━━━━━━━━━━━━━━━━━━━\u001b[0m\u001b[37m\u001b[0m \u001b[1m3s\u001b[0m 6ms/step - loss: 1.3246 - output1_accuracy: 0.8419 - output1_loss: 0.7219 - output2_accuracy: 0.9059 - output2_loss: 0.6027 - val_loss: 1.7973 - val_output1_accuracy: 0.7117 - val_output1_loss: 0.9841 - val_output2_accuracy: 0.7950 - val_output2_loss: 0.8132\n",
            "Epoch 39/50\n",
            "\u001b[1m500/500\u001b[0m \u001b[32m━━━━━━━━━━━━━━━━━━━━\u001b[0m\u001b[37m\u001b[0m \u001b[1m3s\u001b[0m 6ms/step - loss: 1.3160 - output1_accuracy: 0.8494 - output1_loss: 0.7110 - output2_accuracy: 0.9029 - output2_loss: 0.6051 - val_loss: 1.7727 - val_output1_accuracy: 0.7113 - val_output1_loss: 0.9757 - val_output2_accuracy: 0.7980 - val_output2_loss: 0.7969\n",
            "Epoch 40/50\n",
            "\u001b[1m500/500\u001b[0m \u001b[32m━━━━━━━━━━━━━━━━━━━━\u001b[0m\u001b[37m\u001b[0m \u001b[1m3s\u001b[0m 6ms/step - loss: 1.3154 - output1_accuracy: 0.8451 - output1_loss: 0.7156 - output2_accuracy: 0.9083 - output2_loss: 0.5998 - val_loss: 1.8899 - val_output1_accuracy: 0.6766 - val_output1_loss: 1.0510 - val_output2_accuracy: 0.7839 - val_output2_loss: 0.8389\n",
            "Epoch 41/50\n",
            "\u001b[1m500/500\u001b[0m \u001b[32m━━━━━━━━━━━━━━━━━━━━\u001b[0m\u001b[37m\u001b[0m \u001b[1m3s\u001b[0m 6ms/step - loss: 1.2996 - output1_accuracy: 0.8547 - output1_loss: 0.7055 - output2_accuracy: 0.9104 - output2_loss: 0.5941 - val_loss: 1.7894 - val_output1_accuracy: 0.7138 - val_output1_loss: 0.9748 - val_output2_accuracy: 0.7973 - val_output2_loss: 0.8146\n",
            "Epoch 42/50\n",
            "\u001b[1m500/500\u001b[0m \u001b[32m━━━━━━━━━━━━━━━━━━━━\u001b[0m\u001b[37m\u001b[0m \u001b[1m3s\u001b[0m 6ms/step - loss: 1.2975 - output1_accuracy: 0.8537 - output1_loss: 0.7031 - output2_accuracy: 0.9120 - output2_loss: 0.5944 - val_loss: 1.7909 - val_output1_accuracy: 0.7041 - val_output1_loss: 0.9910 - val_output2_accuracy: 0.7995 - val_output2_loss: 0.8000\n",
            "Epoch 43/50\n",
            "\u001b[1m500/500\u001b[0m \u001b[32m━━━━━━━━━━━━━━━━━━━━\u001b[0m\u001b[37m\u001b[0m \u001b[1m3s\u001b[0m 6ms/step - loss: 1.2911 - output1_accuracy: 0.8564 - output1_loss: 0.7021 - output2_accuracy: 0.9100 - output2_loss: 0.5890 - val_loss: 1.7740 - val_output1_accuracy: 0.7098 - val_output1_loss: 0.9774 - val_output2_accuracy: 0.8042 - val_output2_loss: 0.7967\n",
            "Epoch 44/50\n",
            "\u001b[1m500/500\u001b[0m \u001b[32m━━━━━━━━━━━━━━━━━━━━\u001b[0m\u001b[37m\u001b[0m \u001b[1m3s\u001b[0m 6ms/step - loss: 1.2904 - output1_accuracy: 0.8540 - output1_loss: 0.7006 - output2_accuracy: 0.9137 - output2_loss: 0.5897 - val_loss: 1.7883 - val_output1_accuracy: 0.7125 - val_output1_loss: 0.9667 - val_output2_accuracy: 0.7941 - val_output2_loss: 0.8215\n",
            "Epoch 45/50\n",
            "\u001b[1m500/500\u001b[0m \u001b[32m━━━━━━━━━━━━━━━━━━━━\u001b[0m\u001b[37m\u001b[0m \u001b[1m3s\u001b[0m 6ms/step - loss: 1.2799 - output1_accuracy: 0.8571 - output1_loss: 0.6974 - output2_accuracy: 0.9161 - output2_loss: 0.5825 - val_loss: 1.8053 - val_output1_accuracy: 0.7036 - val_output1_loss: 0.9985 - val_output2_accuracy: 0.7986 - val_output2_loss: 0.8068\n",
            "Epoch 46/50\n",
            "\u001b[1m500/500\u001b[0m \u001b[32m━━━━━━━━━━━━━━━━━━━━\u001b[0m\u001b[37m\u001b[0m \u001b[1m3s\u001b[0m 6ms/step - loss: 1.2797 - output1_accuracy: 0.8598 - output1_loss: 0.6945 - output2_accuracy: 0.9130 - output2_loss: 0.5853 - val_loss: 1.7827 - val_output1_accuracy: 0.7113 - val_output1_loss: 0.9729 - val_output2_accuracy: 0.7962 - val_output2_loss: 0.8097\n",
            "Epoch 47/50\n",
            "\u001b[1m500/500\u001b[0m \u001b[32m━━━━━━━━━━━━━━━━━━━━\u001b[0m\u001b[37m\u001b[0m \u001b[1m3s\u001b[0m 6ms/step - loss: 1.2767 - output1_accuracy: 0.8585 - output1_loss: 0.6942 - output2_accuracy: 0.9161 - output2_loss: 0.5826 - val_loss: 1.7766 - val_output1_accuracy: 0.7180 - val_output1_loss: 0.9619 - val_output2_accuracy: 0.7948 - val_output2_loss: 0.8146\n",
            "Epoch 48/50\n",
            "\u001b[1m500/500\u001b[0m \u001b[32m━━━━━━━━━━━━━━━━━━━━\u001b[0m\u001b[37m\u001b[0m \u001b[1m3s\u001b[0m 6ms/step - loss: 1.2838 - output1_accuracy: 0.8522 - output1_loss: 0.6990 - output2_accuracy: 0.9137 - output2_loss: 0.5848 - val_loss: 1.7719 - val_output1_accuracy: 0.7109 - val_output1_loss: 0.9740 - val_output2_accuracy: 0.8081 - val_output2_loss: 0.7978\n",
            "Epoch 49/50\n",
            "\u001b[1m500/500\u001b[0m \u001b[32m━━━━━━━━━━━━━━━━━━━━\u001b[0m\u001b[37m\u001b[0m \u001b[1m3s\u001b[0m 6ms/step - loss: 1.2755 - output1_accuracy: 0.8565 - output1_loss: 0.6942 - output2_accuracy: 0.9181 - output2_loss: 0.5814 - val_loss: 1.7676 - val_output1_accuracy: 0.7172 - val_output1_loss: 0.9684 - val_output2_accuracy: 0.8073 - val_output2_loss: 0.7992\n",
            "Epoch 50/50\n",
            "\u001b[1m500/500\u001b[0m \u001b[32m━━━━━━━━━━━━━━━━━━━━\u001b[0m\u001b[37m\u001b[0m \u001b[1m3s\u001b[0m 6ms/step - loss: 1.2595 - output1_accuracy: 0.8648 - output1_loss: 0.6829 - output2_accuracy: 0.9213 - output2_loss: 0.5766 - val_loss: 1.7840 - val_output1_accuracy: 0.7073 - val_output1_loss: 0.9765 - val_output2_accuracy: 0.8016 - val_output2_loss: 0.8075\n"
          ]
        }
      ],
      "source": [
        "model = enhanced_cnn_model()\n",
        "model.compile(\n",
        "    optimizer=custom_optimizer,\n",
        "    loss={'output1': LabelSmoothingLoss(smoothing=0.1), 'output2': LabelSmoothingLoss(smoothing=0.1)},\n",
        "    metrics={'output1': 'accuracy', 'output2': 'accuracy'}\n",
        ")\n",
        "\n",
        "\"\"\"\n",
        "model.compile(\n",
        "    optimizer=tf.keras.optimizers.Adam(learning_rate=scheduler),\n",
        "    loss={'output1': LabelSmoothingLoss(smoothing=0.1), 'output2': LabelSmoothingLoss(smoothing=0.1)},\n",
        "    metrics={'output1': 'accuracy', 'output2': 'accuracy'}\n",
        ")\n",
        "\"\"\"\n",
        "\n",
        "\"\"\"\n",
        "model.compile(optimizer=tf.keras.optimizers.Adam(learning_rate=scheduler),\n",
        "              loss={'output1': 'categorical_crossentropy', 'output2': 'categorical_crossentropy'},\n",
        "              metrics={'output1': 'accuracy', 'output2': 'accuracy'})\n",
        "\"\"\"\n",
        "\n",
        "train_gen = datagenerator(cifar10_x_train_1, cifar10_x_train_2, cifar10_y_train_1, cifar10_y_train_2, 64)\n",
        "val_gen = datagenerator(cifar10_x_val_1, cifar10_x_val_2, cifar10_y_val_1, cifar10_y_val_2, 64)\n",
        "\n",
        "history = model.fit(\n",
        "    train_gen,\n",
        "    steps_per_epoch=500,\n",
        "    epochs=50,\n",
        "    validation_data=val_gen,\n",
        "    validation_steps=100\n",
        ")\n",
        "\n"
      ]
    },
    {
      "cell_type": "code",
      "execution_count": 196,
      "metadata": {
        "colab": {
          "base_uri": "https://localhost:8080/",
          "height": 487
        },
        "id": "iALeDFB9TABR",
        "outputId": "8cbf8394-3cf1-41ca-e611-b4150c0f8226"
      },
      "outputs": [
        {
          "output_type": "display_data",
          "data": {
            "text/plain": [
              "<Figure size 1000x500 with 1 Axes>"
            ],
            "image/png": "[encoded data removed]"
          },
          "metadata": {}
        }
      ],
      "source": [
        "# Plot training and validation loss\n",
        "plt.figure(figsize=(10, 5))\n",
        "plt.plot(history.history['loss'], label='Train Loss')\n",
        "plt.plot(history.history['val_loss'], label='Validation Loss')\n",
        "plt.title('Training and Validation Loss')\n",
        "plt.xlabel('Epochs')\n",
        "plt.ylabel('Loss')\n",
        "plt.legend()\n",
        "plt.show()"
      ]
    },
    {
      "cell_type": "code",
      "execution_count": 197,
      "metadata": {
        "id": "xAozEoLITABS"
      },
      "outputs": [],
      "source": [
        "# Save the model weights\n",
        "model.save_weights(\"enhanced_cnn_best.weights.h5\")"
      ]
    },
    {
      "cell_type": "code",
      "execution_count": 198,
      "metadata": {
        "colab": {
          "base_uri": "https://localhost:8080/"
        },
        "id": "EYndRgM9TABS",
        "outputId": "7c2cac9f-1f08-4c0f-988c-15082b0b430b"
      },
      "outputs": [
        {
          "output_type": "stream",
          "name": "stdout",
          "text": [
            "\u001b[1m313/313\u001b[0m \u001b[32m━━━━━━━━━━━━━━━━━━━━\u001b[0m\u001b[37m\u001b[0m \u001b[1m2s\u001b[0m 3ms/step\n",
            "\u001b[1m313/313\u001b[0m \u001b[32m━━━━━━━━━━━━━━━━━━━━\u001b[0m\u001b[37m\u001b[0m \u001b[1m1s\u001b[0m 2ms/step\n",
            "\u001b[1m313/313\u001b[0m \u001b[32m━━━━━━━━━━━━━━━━━━━━\u001b[0m\u001b[37m\u001b[0m \u001b[1m1s\u001b[0m 2ms/step\n",
            "\u001b[1m313/313\u001b[0m \u001b[32m━━━━━━━━━━━━━━━━━━━━\u001b[0m\u001b[37m\u001b[0m \u001b[1m1s\u001b[0m 2ms/step\n",
            "\u001b[1m313/313\u001b[0m \u001b[32m━━━━━━━━━━━━━━━━━━━━\u001b[0m\u001b[37m\u001b[0m \u001b[1m1s\u001b[0m 2ms/step\n",
            "\u001b[1m313/313\u001b[0m \u001b[32m━━━━━━━━━━━━━━━━━━━━\u001b[0m\u001b[37m\u001b[0m \u001b[1m1s\u001b[0m 2ms/step\n",
            "\u001b[1m313/313\u001b[0m \u001b[32m━━━━━━━━━━━━━━━━━━━━\u001b[0m\u001b[37m\u001b[0m \u001b[1m1s\u001b[0m 2ms/step\n",
            "\u001b[1m313/313\u001b[0m \u001b[32m━━━━━━━━━━━━━━━━━━━━\u001b[0m\u001b[37m\u001b[0m \u001b[1m1s\u001b[0m 2ms/step\n",
            "\u001b[1m313/313\u001b[0m \u001b[32m━━━━━━━━━━━━━━━━━━━━\u001b[0m\u001b[37m\u001b[0m \u001b[1m1s\u001b[0m 2ms/step\n",
            "\u001b[1m313/313\u001b[0m \u001b[32m━━━━━━━━━━━━━━━━━━━━\u001b[0m\u001b[37m\u001b[0m \u001b[1m1s\u001b[0m 2ms/step\n",
            "Mean accuracy = 0.756405\n",
            "Standard deviation = 0.0028091324283486875\n"
          ]
        }
      ],
      "source": [
        "def eval_model(model):\n",
        "    testgen = datagenerator(cifar10_x_test_1, cifar10_x_test_2, cifar10_y_test_1, cifar10_y_test_2, 10000)\n",
        "    eval_samples_x, eval_samples_y = next(testgen)\n",
        "    predictions = model.predict(eval_samples_x)\n",
        "    pred1 = np.argmax(predictions[0], axis=1)\n",
        "    pred2 = np.argmax(predictions[1], axis=1)\n",
        "    correct_guesses_1 = pred1 == np.argmax(eval_samples_y[0], axis=1)\n",
        "    correct_guesses_2 = pred2 == np.argmax(eval_samples_y[1], axis=1)\n",
        "    return (np.mean(correct_guesses_1) + np.mean(correct_guesses_2)) / 2\n",
        "\n",
        "repeat_eval = 10\n",
        "eval_results = []\n",
        "for i in range(repeat_eval):\n",
        "    eval_results.append(eval_model(model))\n",
        "\n",
        "print(\"Mean accuracy =\", np.mean(eval_results))\n",
        "print(\"Standard deviation =\", np.std(eval_results))"
      ]
    }
  ],
  "metadata": {
    "kernelspec": {
      "display_name": "Python 3",
      "name": "python3"
    },
    "language_info": {
      "codemirror_mode": {
        "name": "ipython",
        "version": 3
      },
      "file_extension": ".py",
      "mimetype": "text/x-python",
      "name": "python",
      "nbconvert_exporter": "python",
      "pygments_lexer": "ipython3",
      "version": "3.11.9"
    },
    "colab": {
      "provenance": [],
      "gpuType": "A100"
    },
    "accelerator": "GPU"
  },
  "nbformat": 4,
  "nbformat_minor": 0
}