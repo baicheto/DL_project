{
  "cells": [
    {
      "cell_type": "markdown",
      "source": [
        "#Separation of CIFAR-10 Images\n",
        "\n",
        "The model takes as input an image created by averaging two random samples from CIFAR-10 and is tasked with predicting the categories of the two components.\n",
        "\n",
        "The first image belongs to the first five categories (airplane, automobile, bird, cat, deer), while the second belongs to the remaining categories (dog, frog, horse, ship, truck). The model must return two labels, each within a range of five possible values.\n",
        "\n",
        "The evaluation metric for the model is as follows: calculate the classification accuracy for the two component images and then compute their average.\n",
        "\n",
        "The metric should be evaluated on 10,000 inputs generated from test data. Repeat the calculation 10 times and measure the standard deviation, which must be reported.\n",
        "\n",
        "A data generator and some examples are provided below."
      ],
      "metadata": {
        "id": "mE7oyG0wv6e0"
      }
    },
    {
      "cell_type": "markdown",
      "source": [
        "#Data preparation"
      ],
      "metadata": {
        "id": "USdmzjiO0W6D"
      }
    },
    {
      "cell_type": "code",
      "source": [
        "import tensorflow as tf\n",
        "from tensorflow.keras import layers\n",
        "from tensorflow.keras.models import Model\n",
        "from tensorflow.keras.datasets import cifar10\n",
        "import numpy as np\n",
        "from matplotlib import pyplot as plt"
      ],
      "metadata": {
        "id": "iHjnh5XP0Sq4"
      },
      "execution_count": 1,
      "outputs": []
    },
    {
      "cell_type": "code",
      "source": [
        "(cifar10_x_train, cifar10_y_train), (cifar10_x_test, cifar10_y_test) = cifar10.load_data()\n",
        "assert cifar10_x_train.shape == (50000, 32, 32, 3)\n",
        "assert cifar10_x_test.shape == (10000, 32, 32, 3)\n",
        "assert cifar10_y_train.shape == (50000, 1)\n",
        "assert cifar10_y_test.shape == (10000, 1)\n",
        "\n",
        "classes = [\"airplane\", \"automobile\", \"bird\", \"cat\", \"deer\", \"dog\", \"frog\", \"horse\", \"ship\", \"truck\"]\n",
        "\n",
        "cifar10_x_train = (cifar10_x_train/255.).astype(np.float32)\n",
        "cifar10_x_test = (cifar10_x_test/255.).astype(np.float32)"
      ],
      "metadata": {
        "id": "yRYiW2ipukZF"
      },
      "execution_count": 2,
      "outputs": []
    },
    {
      "cell_type": "markdown",
      "source": [
        "Let us split the images in two groups, according to their label."
      ],
      "metadata": {
        "id": "ZkiGnU4d0k4d"
      }
    },
    {
      "cell_type": "code",
      "source": [
        "\"\"\"\n",
        "cond_1 = cifar10_y_train[:,0] < 5\n",
        "cifar10_x_train_1 = cifar10_x_train[cond_1]\n",
        "cifar10_y_train_1 = cifar10_y_train[cond_1]\n",
        "\n",
        "cond_2 = cifar10_y_train[:,0] >= 5\n",
        "cifar10_x_train_2 = cifar10_x_train[cond_2]\n",
        "cifar10_y_train_2 = cifar10_y_train[cond_2]\n",
        "\n",
        "cond_1_test = cifar10_y_test[:,0] < 5\n",
        "cifar10_x_test_1 = cifar10_x_test[cond_1_test]\n",
        "cifar10_y_test_1 = cifar10_y_test[cond_1_test]\n",
        "\n",
        "cond_2_test = cifar10_y_test[:,0] >= 5\n",
        "cifar10_x_test_2 = cifar10_x_test[cond_2_test]\n",
        "cifar10_y_test_2 = cifar10_y_test[cond_2_test]\n",
        "\"\"\""
      ],
      "metadata": {
        "id": "Dpey42Vo07Yb",
        "colab": {
          "base_uri": "https://localhost:8080/",
          "height": 89
        },
        "outputId": "3f2e8885-b71f-470f-e5b2-1f61758d3390"
      },
      "execution_count": 3,
      "outputs": [
        {
          "output_type": "execute_result",
          "data": {
            "text/plain": [
              "'\\ncond_1 = cifar10_y_train[:,0] < 5\\ncifar10_x_train_1 = cifar10_x_train[cond_1]\\ncifar10_y_train_1 = cifar10_y_train[cond_1]\\n\\ncond_2 = cifar10_y_train[:,0] >= 5\\ncifar10_x_train_2 = cifar10_x_train[cond_2]\\ncifar10_y_train_2 = cifar10_y_train[cond_2]\\n\\ncond_1_test = cifar10_y_test[:,0] < 5\\ncifar10_x_test_1 = cifar10_x_test[cond_1_test]\\ncifar10_y_test_1 = cifar10_y_test[cond_1_test]\\n\\ncond_2_test = cifar10_y_test[:,0] >= 5\\ncifar10_x_test_2 = cifar10_x_test[cond_2_test]\\ncifar10_y_test_2 = cifar10_y_test[cond_2_test]\\n'"
            ],
            "application/vnd.google.colaboratory.intrinsic+json": {
              "type": "string"
            }
          },
          "metadata": {},
          "execution_count": 3
        }
      ]
    },
    {
      "cell_type": "code",
      "source": [
        "# Split training data into train and validation sets\n",
        "val_split = 0.1\n",
        "num_val_samples = int(cifar10_x_train.shape[0] * val_split)\n",
        "\n",
        "cifar10_x_val = cifar10_x_train[:num_val_samples]\n",
        "cifar10_y_val = cifar10_y_train[:num_val_samples]\n",
        "\n",
        "cifar10_x_train = cifar10_x_train[num_val_samples:]\n",
        "cifar10_y_train = cifar10_y_train[num_val_samples:]\n",
        "\n",
        "# Separate data into two groups for training\n",
        "cond_1_train = cifar10_y_train[:, 0] < 5\n",
        "cifar10_x_train_1 = cifar10_x_train[cond_1_train]\n",
        "cifar10_y_train_1 = cifar10_y_train[cond_1_train]\n",
        "\n",
        "cond_2_train = cifar10_y_train[:, 0] >= 5\n",
        "cifar10_x_train_2 = cifar10_x_train[cond_2_train]\n",
        "cifar10_y_train_2 = cifar10_y_train[cond_2_train]\n",
        "\n",
        "# Separate validation data into two groups\n",
        "cond_1_val = cifar10_y_val[:, 0] < 5\n",
        "cifar10_x_val_1 = cifar10_x_val[cond_1_val]\n",
        "cifar10_y_val_1 = cifar10_y_val[cond_1_val]\n",
        "\n",
        "cond_2_val = cifar10_y_val[:, 0] >= 5\n",
        "cifar10_x_val_2 = cifar10_x_val[cond_2_val]\n",
        "cifar10_y_val_2 = cifar10_y_val[cond_2_val]\n",
        "\n",
        "# Separate test data into two groups\n",
        "cond_1_test = cifar10_y_test[:, 0] < 5\n",
        "cifar10_x_test_1 = cifar10_x_test[cond_1_test]\n",
        "cifar10_y_test_1 = cifar10_y_test[cond_1_test]\n",
        "\n",
        "cond_2_test = cifar10_y_test[:, 0] >= 5\n",
        "cifar10_x_test_2 = cifar10_x_test[cond_2_test]\n",
        "cifar10_y_test_2 = cifar10_y_test[cond_2_test]\n"
      ],
      "metadata": {
        "id": "NS4253lo913D"
      },
      "execution_count": 4,
      "outputs": []
    },
    {
      "cell_type": "markdown",
      "source": [
        "Now we can define the generator. The input consists of two datasets (X1,X2), their corresponding labels (Y1,Y2), and a batch size.\n",
        "\n",
        "The generator returns (x_data,y_data), where:\n",
        "* x_data is a batch of images obtained by averaging random samples from X1 and X2.\n",
        "* y_data is a pair of batches of labels corresponding to the component images, expressed in categorical format."
      ],
      "metadata": {
        "id": "qmLYNuR-0s0m"
      }
    },
    {
      "cell_type": "code",
      "source": [
        "def datagenerator(X1,X2,Y1,Y2,batchsize):\n",
        "  size1 = X1.shape[0]\n",
        "  size2 = X2.shape[0]\n",
        "  Y1_cat = tf.keras.utils.to_categorical(Y1, num_classes=5)\n",
        "  Y2_cat = tf.keras.utils.to_categorical(Y2-5, num_classes=5)\n",
        "\n",
        "  while True:\n",
        "    num1 = np.random.randint(0, size1, batchsize)\n",
        "    num2 = np.random.randint(0, size2, batchsize)\n",
        "    x_data = (X1[num1] + X2[num2]) / 2.0\n",
        "    y_data = (Y1_cat[num1],Y2_cat[num2])\n",
        "\n",
        "    yield x_data, y_data"
      ],
      "metadata": {
        "id": "7Y5Zpv5fw2hd"
      },
      "execution_count": 5,
      "outputs": []
    },
    {
      "cell_type": "markdown",
      "source": [
        "\n",
        "Let us instantiate a generator on Cifar10 with batchsize=1, and let's see its behaviour."
      ],
      "metadata": {
        "id": "Z9lf3TuP2pdQ"
      }
    },
    {
      "cell_type": "code",
      "source": [
        "datagen = datagenerator(cifar10_x_train_1,cifar10_x_train_2,cifar10_y_train_1,cifar10_y_train_2,1)"
      ],
      "metadata": {
        "id": "29TldJ6-720b"
      },
      "execution_count": 6,
      "outputs": []
    },
    {
      "cell_type": "markdown",
      "source": [
        "Let's generate an example, display the image that the model will take as input, and print the categories of the two overlapping components.\n",
        "\n",
        "You can re-run the cell to display new examples."
      ],
      "metadata": {
        "id": "W1DrJVzI3ysV"
      }
    },
    {
      "cell_type": "code",
      "source": [
        "x, y = next(datagen)\n",
        "\n",
        "print(\"first: {}, second = {}\".format(classes[np.argmax(y[0][0])],classes[np.argmax(y[1][0])+5]))\n",
        "#print(np.min(x[0]),np.max(x[0]))\n",
        "plt.imshow(x[0])"
      ],
      "metadata": {
        "colab": {
          "base_uri": "https://localhost:8080/",
          "height": 466
        },
        "id": "qL1sMtjG8VmG",
        "outputId": "c77cc6db-4ab8-42a3-a688-ff86d340d73c"
      },
      "execution_count": 7,
      "outputs": [
        {
          "output_type": "stream",
          "name": "stdout",
          "text": [
            "first: airplane, second = truck\n"
          ]
        },
        {
          "output_type": "execute_result",
          "data": {
            "text/plain": [
              "<matplotlib.image.AxesImage at 0x79382beb61a0>"
            ]
          },
          "metadata": {},
          "execution_count": 7
        },
        {
          "output_type": "display_data",
          "data": {
            "text/plain": [
              "<Figure size 640x480 with 1 Axes>"
            ],
            "image/png": "[encoded data removed]"
          },
          "metadata": {}
        }
      ]
    },
    {
      "cell_type": "markdown",
      "source": [
        "# Model Evaluation"
      ],
      "metadata": {
        "id": "l5lzBotwL5QN"
      }
    },
    {
      "cell_type": "markdown",
      "source": [
        "Let us define first of all the test generator."
      ],
      "metadata": {
        "id": "9_p4UuG1QF8t"
      }
    },
    {
      "cell_type": "code",
      "source": [
        "testgen = datagenerator(cifar10_x_test_1,cifar10_x_test_2,cifar10_y_test_1,cifar10_y_test_2,10000)\n",
        "\n",
        "eval_samples_x, eval_samples_y = next(testgen)\n",
        "print(eval_samples_x.shape)"
      ],
      "metadata": {
        "colab": {
          "base_uri": "https://localhost:8080/"
        },
        "id": "cQo8_6w-L4WY",
        "outputId": "75eb8bf2-dad9-4f09-e702-7ca65b217d29"
      },
      "execution_count": 8,
      "outputs": [
        {
          "output_type": "stream",
          "name": "stdout",
          "text": [
            "(10000, 32, 32, 3)\n"
          ]
        }
      ]
    },
    {
      "cell_type": "markdown",
      "source": [
        "We now test a model producing random guesses. You will need to replace it with your own predictive model."
      ],
      "metadata": {
        "id": "4MiLnkKROGCD"
      }
    },
    {
      "cell_type": "code",
      "source": [
        "def random_model(x):\n",
        "  #the random model ingnore the input x and return a pair of random classes\n",
        "  return(np.random.randint(0,5,(10000,2)))"
      ],
      "metadata": {
        "id": "1GllTEtPN_xv"
      },
      "execution_count": 9,
      "outputs": []
    },
    {
      "cell_type": "code",
      "source": [
        "def eval_model(model):\n",
        "  eval_samples_x, eval_samples_y = next(testgen)\n",
        "  random_guesses = model(eval_samples_x)\n",
        "  correct_guesses_1 = random_guesses[:,0] == np.argmax(eval_samples_y[0],axis=1)\n",
        "  correct_guesses_2 = random_guesses[:,1] == np.argmax(eval_samples_y[1],axis=1)\n",
        "  return (np.mean(correct_guesses_1) + np.mean(correct_guesses_2))/2"
      ],
      "metadata": {
        "id": "gomFTuuDOy8A"
      },
      "execution_count": 10,
      "outputs": []
    },
    {
      "cell_type": "code",
      "source": [
        "eval_model(random_model)"
      ],
      "metadata": {
        "colab": {
          "base_uri": "https://localhost:8080/"
        },
        "id": "i4AL2M6yjJno",
        "outputId": "26da24fb-d283-425e-f3d7-313c548954ab"
      },
      "execution_count": 11,
      "outputs": [
        {
          "output_type": "execute_result",
          "data": {
            "text/plain": [
              "0.1998"
            ]
          },
          "metadata": {},
          "execution_count": 11
        }
      ]
    },
    {
      "cell_type": "markdown",
      "source": [
        "As expected, the accuracy is around 1/5 = 0.2\n",
        "\n",
        "Let us repeat the evaluation ten times, and compute the standard deviation"
      ],
      "metadata": {
        "id": "7usBI88dje70"
      }
    },
    {
      "cell_type": "code",
      "source": [
        "repeat_eval = 10\n",
        "eval_results = []\n",
        "for i in range(repeat_eval):\n",
        "  eval_results.append(eval_model(random_model))\n",
        "print(\"mean accuracy = \", np.mean(eval_results))\n",
        "print(\"standard deviation = \", np.std(eval_results))"
      ],
      "metadata": {
        "colab": {
          "base_uri": "https://localhost:8080/"
        },
        "id": "ZFu8iEt9jdZA",
        "outputId": "482b879e-a31e-4728-99d3-9dc04691c6de"
      },
      "execution_count": 12,
      "outputs": [
        {
          "output_type": "stream",
          "name": "stdout",
          "text": [
            "mean accuracy =  0.19939999999999997\n",
            "standard deviation =  0.0013009611831257704\n"
          ]
        }
      ]
    },
    {
      "cell_type": "markdown",
      "source": [
        "### **Experiment 1:** CNN"
      ],
      "metadata": {
        "id": "BSwXyORo-aeJ"
      }
    },
    {
      "cell_type": "code",
      "source": [
        "\"\"\"\n",
        "# Define data augmentation\n",
        "data_augmentation = tf.keras.Sequential([\n",
        "    layers.Resizing(224, 224),\n",
        "    layers.RandomFlip(\"horizontal\"),\n",
        "    layers.RandomRotation(1.0),\n",
        "    layers.RandomZoom(1.0),\n",
        "    layers.RandomContrast(0.5)\n",
        "])\n",
        "\"\"\"\n",
        "# Resize CIFAR-10 images to match DenseNet121 input size\n",
        "resize_layer = layers.Lambda(lambda x: tf.image.resize(x, (32, 32)))"
      ],
      "metadata": {
        "id": "XgfvddPj-eyD"
      },
      "execution_count": 44,
      "outputs": []
    },
    {
      "cell_type": "code",
      "source": [
        "\"\"\"\n",
        "def enhanced_cnn_model():\n",
        "    inputs = tf.keras.Input(shape=(32, 32, 3))\n",
        "    #x = data_augmentation(inputs)  # Apply augmentation\n",
        "    x = resize_layer(inputs)\n",
        "\n",
        "    # First convolutional block\n",
        "    #x = layers.Conv2D(128, (3, 3), activation='relu', padding='same')(inputs)\n",
        "    #x = layers.BatchNormalization()(x)\n",
        "    #x = layers.MaxPooling2D((2, 2))(x)\n",
        "    shortcut = x\n",
        "    x = layers.Conv2D(128, (3, 3), padding='same')(inputs)  # No activation here\n",
        "    #x = layers.LeakyReLU(alpha=0.1)(x)  # Apply LeakyReLU activation\n",
        "    x = layers.BatchNormalization()(x)\n",
        "    x = tf.keras.activations.swish(x)\n",
        "    #x = layers.BatchNormalization()(x)\n",
        "    x = layers.MaxPooling2D((2, 2))(x)\n",
        "\n",
        "    # Adjust shortcut dimensions if necessary\n",
        "    shortcut = layers.Conv2D(128, (1, 1), padding='same')(shortcut)\n",
        "    shortcut = layers.MaxPooling2D((2, 2))(shortcut)\n",
        "    x = layers.Add()([x, shortcut])\n",
        "\n",
        "    #x = layers.Conv2D(256, (3, 3), activation='relu', padding='same')(x)\n",
        "    x = layers.Conv2D(256, (3, 3), padding='same')(x)\n",
        "    #x = layers.LeakyReLU(alpha=0.1)(x)\n",
        "    x = layers.BatchNormalization()(x)\n",
        "    x = tf.keras.activations.swish(x)\n",
        "    #x = layers.BatchNormalization()(x)\n",
        "    x = layers.MaxPooling2D((2, 2))(x)\n",
        "\n",
        "     # Adjust shortcut dimensions if necessary\n",
        "    shortcut = layers.Conv2D(256, (1, 1), padding='same')(shortcut)\n",
        "    shortcut = layers.MaxPooling2D((2, 2))(shortcut)\n",
        "    x = layers.Add()([x, shortcut])\n",
        "\n",
        "    # Additional convolutional block\n",
        "    #x = layers.Conv2D(384, (3, 3), padding='same')(x)\n",
        "    #x = layers.LeakyReLU(alpha=0.1)(x)\n",
        "    #x = layers.BatchNormalization()(x)\n",
        "    #x = layers.MaxPooling2D((2, 2))(x)\n",
        "\n",
        "    # Second convolutional block\n",
        "    #x = layers.Conv2D(512, (3, 3), activation='relu', padding='same')(x)\n",
        "    x = layers.Conv2D(512, (3, 3), padding='same')(x)\n",
        "    #x = layers.LeakyReLU(alpha=0.1)(x)\n",
        "    x = layers.BatchNormalization()(x)\n",
        "    x = tf.keras.activations.swish(x)\n",
        "    #x = layers.BatchNormalization()(x)\n",
        "    x = layers.MaxPooling2D((2, 2))(x)\n",
        "\n",
        "     # Adjust shortcut dimensions if necessary\n",
        "    shortcut = layers.Conv2D(512, (1, 1), padding='same')(shortcut)\n",
        "    shortcut = layers.MaxPooling2D((2, 2))(shortcut)\n",
        "    x = layers.Add()([x, shortcut])\n",
        "\n",
        "    #x = layers.Conv2D(1024, (3, 3), activation='relu', padding='same')(x)\n",
        "    x = layers.Conv2D(1024, (3, 3), padding='same')(x)\n",
        "    #x = layers.LeakyReLU(alpha=0.1)(x)\n",
        "    x = layers.BatchNormalization()(x)\n",
        "    x = tf.keras.activations.swish(x)\n",
        "    #x = layers.BatchNormalization()(x)\n",
        "    x = layers.MaxPooling2D((2, 2))(x)\n",
        "    x = layers.Add()([x, shortcut])\n",
        "\n",
        "    # Global Average Pooling\n",
        "    x = layers.GlobalAveragePooling2D()(x)\n",
        "\n",
        "\n",
        "    # Fully connected layers for output 1\n",
        "    #fc1_output1 = layers.Dense(1024, activation='relu')(x)\n",
        "    #fc1_output1 = layers.Dropout(0.5)(fc1_output1)\n",
        "    #output1 = layers.Dense(5, activation='softmax', name='output1')(fc1_output1)\n",
        "\n",
        "    # Fully connected layers for output 2\n",
        "    #fc1_output2 = layers.Dense(1024, activation='relu')(x)\n",
        "    #fc1_output2 = layers.Dropout(0.5)(fc1_output2)\n",
        "   #output2 = layers.Dense(5, activation='softmax', name='output2')(fc1_output2)\n",
        "\n",
        "    # Fully connected layers for output 1 with Leaky ReLU\n",
        "    fc1_output1 = layers.Dense(1024, activation=None)(x)\n",
        "    fc1_output1 = layers.LeakyReLU(alpha=0.1)(fc1_output1)\n",
        "    fc1_output1 = layers.Dropout(0.2)(fc1_output1)\n",
        "    output1 = layers.Dense(5, activation='softmax', name='output1')(fc1_output1)\n",
        "\n",
        "    # Fully connected layers for output 2 with Leaky ReLU\n",
        "    fc1_output2 = layers.Dense(1024, activation=None)(x)\n",
        "    fc1_output2 = layers.LeakyReLU(alpha=0.1)(fc1_output2)\n",
        "    fc1_output2 = layers.Dropout(0.2)(fc1_output2)\n",
        "    output2 = layers.Dense(5, activation='softmax', name='output2')(fc1_output2)\n",
        "\n",
        "    model = Model(inputs=inputs, outputs=[output1, output2])\n",
        "    return model\n",
        "\n",
        "\"\"\""
      ],
      "metadata": {
        "id": "D9iEE0k8-hSY",
        "colab": {
          "base_uri": "https://localhost:8080/",
          "height": 143
        },
        "outputId": "ea0b4f52-2ac0-49d8-ea52-95fcdf78a5f3"
      },
      "execution_count": 14,
      "outputs": [
        {
          "output_type": "execute_result",
          "data": {
            "text/plain": [
              "\"\\ndef enhanced_cnn_model():\\n    inputs = tf.keras.Input(shape=(32, 32, 3))\\n    #x = data_augmentation(inputs)  # Apply augmentation\\n    x = resize_layer(inputs)\\n\\n    # First convolutional block\\n    #x = layers.Conv2D(128, (3, 3), activation='relu', padding='same')(inputs)\\n    #x = layers.BatchNormalization()(x)\\n    #x = layers.MaxPooling2D((2, 2))(x)\\n    shortcut = x\\n    x = layers.Conv2D(128, (3, 3), padding='same')(inputs)  # No activation here\\n    #x = layers.LeakyReLU(alpha=0.1)(x)  # Apply LeakyReLU activation\\n    x = layers.BatchNormalization()(x)\\n    x = tf.keras.activations.swish(x)\\n    #x = layers.BatchNormalization()(x)\\n    x = layers.MaxPooling2D((2, 2))(x)\\n    \\n    # Adjust shortcut dimensions if necessary\\n    shortcut = layers.Conv2D(128, (1, 1), padding='same')(shortcut)\\n    shortcut = layers.MaxPooling2D((2, 2))(shortcut)\\n    x = layers.Add()([x, shortcut])\\n\\n    #x = layers.Conv2D(256, (3, 3), activation='relu', padding='same')(x)\\n    x = layers.Conv2D(256, (3, 3), padding='same')(x)\\n    #x = layers.LeakyReLU(alpha=0.1)(x)\\n    x = layers.BatchNormalization()(x)\\n    x = tf.keras.activations.swish(x)\\n    #x = layers.BatchNormalization()(x)\\n    x = layers.MaxPooling2D((2, 2))(x)\\n    \\n     # Adjust shortcut dimensions if necessary\\n    shortcut = layers.Conv2D(256, (1, 1), padding='same')(shortcut)\\n    shortcut = layers.MaxPooling2D((2, 2))(shortcut)\\n    x = layers.Add()([x, shortcut])\\n\\n    # Additional convolutional block\\n    #x = layers.Conv2D(384, (3, 3), padding='same')(x)\\n    #x = layers.LeakyReLU(alpha=0.1)(x)\\n    #x = layers.BatchNormalization()(x)\\n    #x = layers.MaxPooling2D((2, 2))(x)\\n\\n    # Second convolutional block\\n    #x = layers.Conv2D(512, (3, 3), activation='relu', padding='same')(x)\\n    x = layers.Conv2D(512, (3, 3), padding='same')(x)\\n    #x = layers.LeakyReLU(alpha=0.1)(x)\\n    x = layers.BatchNormalization()(x)\\n    x = tf.keras.activations.swish(x)\\n    #x = layers.BatchNormalization()(x)\\n    x = layers.MaxPooling2D((2, 2))(x)\\n    \\n     # Adjust shortcut dimensions if necessary\\n    shortcut = layers.Conv2D(512, (1, 1), padding='same')(shortcut)\\n    shortcut = layers.MaxPooling2D((2, 2))(shortcut)\\n    x = layers.Add()([x, shortcut])\\n\\n    #x = layers.Conv2D(1024, (3, 3), activation='relu', padding='same')(x)\\n    x = layers.Conv2D(1024, (3, 3), padding='same')(x)\\n    #x = layers.LeakyReLU(alpha=0.1)(x)\\n    x = layers.BatchNormalization()(x)\\n    x = tf.keras.activations.swish(x)\\n    #x = layers.BatchNormalization()(x)\\n    x = layers.MaxPooling2D((2, 2))(x)\\n    x = layers.Add()([x, shortcut])\\n\\n    # Global Average Pooling\\n    x = layers.GlobalAveragePooling2D()(x)\\n\\n    \\n    # Fully connected layers for output 1\\n    #fc1_output1 = layers.Dense(1024, activation='relu')(x)\\n    #fc1_output1 = layers.Dropout(0.5)(fc1_output1)\\n    #output1 = layers.Dense(5, activation='softmax', name='output1')(fc1_output1)\\n\\n    # Fully connected layers for output 2\\n    #fc1_output2 = layers.Dense(1024, activation='relu')(x)\\n    #fc1_output2 = layers.Dropout(0.5)(fc1_output2)\\n   #output2 = layers.Dense(5, activation='softmax', name='output2')(fc1_output2)\\n    \\n    # Fully connected layers for output 1 with Leaky ReLU\\n    fc1_output1 = layers.Dense(1024, activation=None)(x)\\n    fc1_output1 = layers.LeakyReLU(alpha=0.1)(fc1_output1)\\n    fc1_output1 = layers.Dropout(0.2)(fc1_output1)\\n    output1 = layers.Dense(5, activation='softmax', name='output1')(fc1_output1)\\n\\n    # Fully connected layers for output 2 with Leaky ReLU\\n    fc1_output2 = layers.Dense(1024, activation=None)(x)\\n    fc1_output2 = layers.LeakyReLU(alpha=0.1)(fc1_output2)\\n    fc1_output2 = layers.Dropout(0.2)(fc1_output2)\\n    output2 = layers.Dense(5, activation='softmax', name='output2')(fc1_output2)\\n\\n    model = Model(inputs=inputs, outputs=[output1, output2])\\n    return model\\n\\n\""
            ],
            "application/vnd.google.colaboratory.intrinsic+json": {
              "type": "string"
            }
          },
          "metadata": {},
          "execution_count": 14
        }
      ]
    },
    {
      "cell_type": "code",
      "source": [
        "def enhanced_cnn_model():\n",
        "    inputs = tf.keras.Input(shape=(32, 32, 3))\n",
        "    x = resize_layer(inputs)\n",
        "\n",
        "    x = layers.Conv2D(64, (3, 3), padding='same')(x)\n",
        "    x = layers.BatchNormalization()(x)\n",
        "    x = tf.keras.activations.swish(x)\n",
        "    x = layers.MaxPooling2D((1, 1))(x)\n",
        "\n",
        "    # First convolutional block\n",
        "    #shortcut = x\n",
        "    x = layers.Conv2D(128, (3, 3), padding='same')(x)\n",
        "    x = layers.BatchNormalization()(x)\n",
        "    x = tf.keras.activations.swish(x)\n",
        "    x = layers.MaxPooling2D((1, 1))(x)\n",
        "\n",
        "    # Downsample shortcut to match x\n",
        "    #shortcut = layers.Conv2D(128, (1, 1), strides=(2, 2), padding='same')(shortcut)\n",
        "    #x = layers.Add()([x, shortcut])\n",
        "\n",
        "    # Second convolutional block\n",
        "    #shortcut = x\n",
        "    x = layers.Conv2D(256, (3, 3), padding='same')(x)\n",
        "    x = layers.BatchNormalization()(x)\n",
        "    x = tf.keras.activations.swish(x)\n",
        "    x = layers.MaxPooling2D((1, 1))(x)\n",
        "\n",
        "    # Downsample shortcut to match x\n",
        "    #shortcut = layers.Conv2D(256, (1, 1), strides=(2, 2), padding='same')(shortcut)\n",
        "    #x = layers.Add()([x, shortcut])\n",
        "\n",
        "    # Third convolutional block\n",
        "    #shortcut = x\n",
        "    x = layers.Conv2D(512, (3, 3), padding='same')(x)\n",
        "    x = layers.BatchNormalization()(x)\n",
        "    x = tf.keras.activations.swish(x)\n",
        "    x = layers.MaxPooling2D((1, 1))(x)\n",
        "\n",
        "    # Downsample shortcut to match x\n",
        "    #shortcut = layers.Conv2D(512, (1, 1), strides=(2, 2), padding='same')(shortcut)\n",
        "    #x = layers.Add()([x, shortcut])\n",
        "\n",
        "    # Fourth convolutional block\n",
        "    #shortcut = x\n",
        "    x = layers.Conv2D(1024, (3, 3), padding='same')(x)\n",
        "    x = layers.BatchNormalization()(x)\n",
        "    x = tf.keras.activations.swish(x)\n",
        "    x = layers.MaxPooling2D((1, 1))(x)\n",
        "\n",
        "    # Downsample shortcut to match x\n",
        "    #shortcut = layers.Conv2D(1024, (1, 1), strides=(2, 2), padding='same')(shortcut)\n",
        "    #x = layers.Add()([x, shortcut])\n",
        "\n",
        "    # Global Average Pooling\n",
        "    x = layers.GlobalAveragePooling2D()(x)\n",
        "\n",
        "    # Fully connected layers for output 1\n",
        "    fc1_output1 = layers.Dense(1024, activation=None)(x)\n",
        "    fc1_output1 = layers.LeakyReLU(alpha=0.1)(fc1_output1)\n",
        "    fc1_output1 = layers.Dropout(0.2)(fc1_output1)\n",
        "    output1 = layers.Dense(5, activation='softmax', name='output1')(fc1_output1)\n",
        "\n",
        "    # Fully connected layers for output 2\n",
        "    fc1_output2 = layers.Dense(1024, activation=None)(x)\n",
        "    fc1_output2 = layers.LeakyReLU(alpha=0.1)(fc1_output2)\n",
        "    fc1_output2 = layers.Dropout(0.2)(fc1_output2)\n",
        "    output2 = layers.Dense(5, activation='softmax', name='output2')(fc1_output2)\n",
        "\n",
        "    model = Model(inputs=inputs, outputs=[output1, output2])\n",
        "    return model\n"
      ],
      "metadata": {
        "id": "-IlYR9Zw8TYw"
      },
      "execution_count": 45,
      "outputs": []
    },
    {
      "cell_type": "code",
      "source": [
        "\n",
        "class LabelSmoothingLoss(tf.keras.losses.Loss):\n",
        "    def __init__(self, smoothing=0.0):\n",
        "        super(LabelSmoothingLoss, self).__init__()\n",
        "        self.smoothing = smoothing\n",
        "\n",
        "    def call(self, y_true, y_pred):\n",
        "        num_classes = tf.cast(tf.shape(y_pred)[-1], tf.float32)\n",
        "        smooth_positives = 1.0 - self.smoothing\n",
        "        smooth_negatives = self.smoothing / num_classes\n",
        "        y_true_smoothed = y_true * smooth_positives + smooth_negatives\n",
        "        return tf.reduce_mean(tf.keras.losses.categorical_crossentropy(y_true_smoothed, y_pred))\n",
        "\n"
      ],
      "metadata": {
        "id": "hF4VzmWr-jwZ"
      },
      "execution_count": 46,
      "outputs": []
    },
    {
      "cell_type": "code",
      "source": [
        "# Define learning rate scheduler\n",
        "initial_lr = 0.001\n",
        "scheduler = tf.keras.optimizers.schedules.ExponentialDecay(\n",
        "    initial_learning_rate=initial_lr,\n",
        "    decay_steps= 5 * 500,  # Assuming 10 epochs\n",
        "    decay_rate=0.8,\n",
        "    staircase=True\n",
        ")"
      ],
      "metadata": {
        "id": "Q7Bb5-n--l9y"
      },
      "execution_count": 47,
      "outputs": []
    },
    {
      "cell_type": "code",
      "source": [
        "# Define the optimizer with layer-specific learning rates\n",
        "class CustomAdam(tf.keras.optimizers.Adam):\n",
        "    def __init__(self, lr_multipliers, *args, **kwargs):\n",
        "        super().__init__(*args, **kwargs)\n",
        "        self.lr_multipliers = lr_multipliers\n",
        "\n",
        "    def _resource_apply_dense(self, grad, var, apply_state=None):\n",
        "        multiplier = self.lr_multipliers.get(var.name, 1.0)\n",
        "        scaled_lr = self._get_hyper(\"learning_rate\") * multiplier\n",
        "        self._set_hyper(\"learning_rate\", scaled_lr)\n",
        "        return super()._resource_apply_dense(grad, var, apply_state)\n",
        "\"\"\"\n",
        "# Define learning rate multipliers\n",
        "lr_multipliers = {\n",
        "    'conv2d/kernel:0': 1e-5,  # Early layers\n",
        "    'conv2d_1/kernel:0': 1e-5,\n",
        "    'conv2d_2/kernel:0': 1e-3,  # Middle layers\n",
        "    'conv2d_3/kernel:0': 1e-3,\n",
        "    'dense/kernel:0': 1e-3,  # Final dense layers\n",
        "    'dense_1/kernel:0': 1e-3\n",
        "}\n",
        "\"\"\"\n",
        "lr_multipliers = {\n",
        "    'conv2d/kernel:0': 1e-5,    # Early layers\n",
        "    'conv2d_1/kernel:0': 1e-5,  # Early layers\n",
        "    'conv2d_2/kernel:0': 1e-4,  # Middle layers\n",
        "    'conv2d_3/kernel:0': 1e-4,  # Middle layers\n",
        "    'conv2d_4/kernel:0': 1e-3,  # Late layers\n",
        "    'conv2d_5/kernel:0': 1e-3,  # Late layers\n",
        "    'dense/kernel:0': 1e-3,     # Final dense layers\n",
        "    'dense_1/kernel:0': 1e-3\n",
        "}\n",
        "\n",
        "# Compile the model with a custom optimizer\n",
        "custom_optimizer = CustomAdam(\n",
        "    learning_rate=scheduler,\n",
        "    lr_multipliers=lr_multipliers\n",
        ")"
      ],
      "metadata": {
        "id": "fGAUI5og-n3s"
      },
      "execution_count": 48,
      "outputs": []
    },
    {
      "cell_type": "code",
      "source": [
        "model = enhanced_cnn_model()\n",
        "model.compile(\n",
        "    optimizer=custom_optimizer,\n",
        "    loss={'output1': LabelSmoothingLoss(smoothing=0.1), 'output2': LabelSmoothingLoss(smoothing=0.1)},\n",
        "    metrics={'output1': 'accuracy', 'output2': 'accuracy'}\n",
        ")\n",
        "\n",
        "\"\"\"\n",
        "model.compile(\n",
        "    optimizer=tf.keras.optimizers.Adam(learning_rate=scheduler),\n",
        "    loss={'output1': LabelSmoothingLoss(smoothing=0.1), 'output2': LabelSmoothingLoss(smoothing=0.1)},\n",
        "    metrics={'output1': 'accuracy', 'output2': 'accuracy'}\n",
        ")\n",
        "\"\"\"\n",
        "\n",
        "\"\"\"\n",
        "model.compile(optimizer=tf.keras.optimizers.Adam(learning_rate=scheduler),\n",
        "              loss={'output1': 'categorical_crossentropy', 'output2': 'categorical_crossentropy'},\n",
        "              metrics={'output1': 'accuracy', 'output2': 'accuracy'})\n",
        "\"\"\"\n",
        "\n",
        "train_gen = datagenerator(cifar10_x_train_1, cifar10_x_train_2, cifar10_y_train_1, cifar10_y_train_2, 64)\n",
        "val_gen = datagenerator(cifar10_x_val_1, cifar10_x_val_2, cifar10_y_val_1, cifar10_y_val_2, 64)\n",
        "\n",
        "history = model.fit(\n",
        "    train_gen,\n",
        "    steps_per_epoch=500,\n",
        "    epochs=110,\n",
        "    validation_data=val_gen,\n",
        "    validation_steps=100\n",
        ")\n",
        "\n"
      ],
      "metadata": {
        "colab": {
          "base_uri": "https://localhost:8080/"
        },
        "id": "6Pi_ru1r-qqn",
        "outputId": "b2473d18-67c1-4858-bb5b-c33ed293c710"
      },
      "execution_count": 49,
      "outputs": [
        {
          "output_type": "stream",
          "name": "stdout",
          "text": [
            "Epoch 1/110\n"
          ]
        },
        {
          "output_type": "stream",
          "name": "stderr",
          "text": [
            "/usr/local/lib/python3.10/dist-packages/keras/src/layers/activations/leaky_relu.py:41: UserWarning: Argument `alpha` is deprecated. Use `negative_slope` instead.\n",
            "  warnings.warn(\n"
          ]
        },
        {
          "output_type": "stream",
          "name": "stdout",
          "text": [
            "\u001b[1m500/500\u001b[0m \u001b[32m━━━━━━━━━━━━━━━━━━━━\u001b[0m\u001b[37m\u001b[0m \u001b[1m40s\u001b[0m 36ms/step - loss: 2.9897 - output1_accuracy: 0.3653 - output1_loss: 1.5063 - output2_accuracy: 0.3901 - output2_loss: 1.4833 - val_loss: 3.1424 - val_output1_accuracy: 0.3467 - val_output1_loss: 1.5883 - val_output2_accuracy: 0.4300 - val_output2_loss: 1.5541\n",
            "Epoch 2/110\n",
            "\u001b[1m500/500\u001b[0m \u001b[32m━━━━━━━━━━━━━━━━━━━━\u001b[0m\u001b[37m\u001b[0m \u001b[1m17s\u001b[0m 33ms/step - loss: 2.6528 - output1_accuracy: 0.4450 - output1_loss: 1.3803 - output2_accuracy: 0.5261 - output2_loss: 1.2725 - val_loss: 2.6278 - val_output1_accuracy: 0.4347 - val_output1_loss: 1.4114 - val_output2_accuracy: 0.5561 - val_output2_loss: 1.2164\n",
            "Epoch 3/110\n",
            "\u001b[1m500/500\u001b[0m \u001b[32m━━━━━━━━━━━━━━━━━━━━\u001b[0m\u001b[37m\u001b[0m \u001b[1m17s\u001b[0m 33ms/step - loss: 2.5047 - output1_accuracy: 0.4782 - output1_loss: 1.3313 - output2_accuracy: 0.5862 - output2_loss: 1.1734 - val_loss: 2.8630 - val_output1_accuracy: 0.4022 - val_output1_loss: 1.5289 - val_output2_accuracy: 0.5198 - val_output2_loss: 1.3342\n",
            "Epoch 4/110\n",
            "\u001b[1m500/500\u001b[0m \u001b[32m━━━━━━━━━━━━━━━━━━━━\u001b[0m\u001b[37m\u001b[0m \u001b[1m17s\u001b[0m 33ms/step - loss: 2.4190 - output1_accuracy: 0.4999 - output1_loss: 1.3011 - output2_accuracy: 0.6200 - output2_loss: 1.1180 - val_loss: 2.7145 - val_output1_accuracy: 0.3269 - val_output1_loss: 1.6072 - val_output2_accuracy: 0.6269 - val_output2_loss: 1.1074\n",
            "Epoch 5/110\n",
            "\u001b[1m500/500\u001b[0m \u001b[32m━━━━━━━━━━━━━━━━━━━━\u001b[0m\u001b[37m\u001b[0m \u001b[1m17s\u001b[0m 33ms/step - loss: 2.3466 - output1_accuracy: 0.5230 - output1_loss: 1.2626 - output2_accuracy: 0.6423 - output2_loss: 1.0841 - val_loss: 2.7046 - val_output1_accuracy: 0.4034 - val_output1_loss: 1.5642 - val_output2_accuracy: 0.5980 - val_output2_loss: 1.1404\n",
            "Epoch 6/110\n",
            "\u001b[1m500/500\u001b[0m \u001b[32m━━━━━━━━━━━━━━━━━━━━\u001b[0m\u001b[37m\u001b[0m \u001b[1m17s\u001b[0m 33ms/step - loss: 2.2818 - output1_accuracy: 0.5397 - output1_loss: 1.2376 - output2_accuracy: 0.6662 - output2_loss: 1.0442 - val_loss: 2.7681 - val_output1_accuracy: 0.4233 - val_output1_loss: 1.5219 - val_output2_accuracy: 0.5567 - val_output2_loss: 1.2462\n",
            "Epoch 7/110\n",
            "\u001b[1m500/500\u001b[0m \u001b[32m━━━━━━━━━━━━━━━━━━━━\u001b[0m\u001b[37m\u001b[0m \u001b[1m17s\u001b[0m 33ms/step - loss: 2.2198 - output1_accuracy: 0.5608 - output1_loss: 1.2078 - output2_accuracy: 0.6817 - output2_loss: 1.0120 - val_loss: 2.4220 - val_output1_accuracy: 0.4944 - val_output1_loss: 1.3408 - val_output2_accuracy: 0.6528 - val_output2_loss: 1.0812\n",
            "Epoch 8/110\n",
            "\u001b[1m500/500\u001b[0m \u001b[32m━━━━━━━━━━━━━━━━━━━━\u001b[0m\u001b[37m\u001b[0m \u001b[1m17s\u001b[0m 33ms/step - loss: 2.1889 - output1_accuracy: 0.5731 - output1_loss: 1.1856 - output2_accuracy: 0.6901 - output2_loss: 1.0033 - val_loss: 2.5018 - val_output1_accuracy: 0.5167 - val_output1_loss: 1.3017 - val_output2_accuracy: 0.5972 - val_output2_loss: 1.2001\n",
            "Epoch 9/110\n",
            "\u001b[1m500/500\u001b[0m \u001b[32m━━━━━━━━━━━━━━━━━━━━\u001b[0m\u001b[37m\u001b[0m \u001b[1m17s\u001b[0m 33ms/step - loss: 2.1426 - output1_accuracy: 0.5828 - output1_loss: 1.1695 - output2_accuracy: 0.7064 - output2_loss: 0.9731 - val_loss: 2.1726 - val_output1_accuracy: 0.5833 - val_output1_loss: 1.1747 - val_output2_accuracy: 0.6930 - val_output2_loss: 0.9979\n",
            "Epoch 10/110\n",
            "\u001b[1m500/500\u001b[0m \u001b[32m━━━━━━━━━━━━━━━━━━━━\u001b[0m\u001b[37m\u001b[0m \u001b[1m17s\u001b[0m 33ms/step - loss: 2.1085 - output1_accuracy: 0.5953 - output1_loss: 1.1503 - output2_accuracy: 0.7119 - output2_loss: 0.9582 - val_loss: 2.7252 - val_output1_accuracy: 0.3967 - val_output1_loss: 1.6402 - val_output2_accuracy: 0.6381 - val_output2_loss: 1.0850\n",
            "Epoch 11/110\n",
            "\u001b[1m500/500\u001b[0m \u001b[32m━━━━━━━━━━━━━━━━━━━━\u001b[0m\u001b[37m\u001b[0m \u001b[1m17s\u001b[0m 33ms/step - loss: 2.0706 - output1_accuracy: 0.6099 - output1_loss: 1.1360 - output2_accuracy: 0.7285 - output2_loss: 0.9346 - val_loss: 2.3025 - val_output1_accuracy: 0.5170 - val_output1_loss: 1.3295 - val_output2_accuracy: 0.7042 - val_output2_loss: 0.9730\n",
            "Epoch 12/110\n",
            "\u001b[1m500/500\u001b[0m \u001b[32m━━━━━━━━━━━━━━━━━━━━\u001b[0m\u001b[37m\u001b[0m \u001b[1m17s\u001b[0m 33ms/step - loss: 2.0394 - output1_accuracy: 0.6160 - output1_loss: 1.1149 - output2_accuracy: 0.7317 - output2_loss: 0.9245 - val_loss: 2.4207 - val_output1_accuracy: 0.5023 - val_output1_loss: 1.2976 - val_output2_accuracy: 0.6394 - val_output2_loss: 1.1230\n",
            "Epoch 13/110\n",
            "\u001b[1m500/500\u001b[0m \u001b[32m━━━━━━━━━━━━━━━━━━━━\u001b[0m\u001b[37m\u001b[0m \u001b[1m17s\u001b[0m 33ms/step - loss: 2.0139 - output1_accuracy: 0.6297 - output1_loss: 1.0953 - output2_accuracy: 0.7357 - output2_loss: 0.9186 - val_loss: 2.4635 - val_output1_accuracy: 0.5070 - val_output1_loss: 1.3834 - val_output2_accuracy: 0.6464 - val_output2_loss: 1.0801\n",
            "Epoch 14/110\n",
            "\u001b[1m500/500\u001b[0m \u001b[32m━━━━━━━━━━━━━━━━━━━━\u001b[0m\u001b[37m\u001b[0m \u001b[1m17s\u001b[0m 33ms/step - loss: 1.9926 - output1_accuracy: 0.6290 - output1_loss: 1.0936 - output2_accuracy: 0.7466 - output2_loss: 0.8990 - val_loss: 2.1433 - val_output1_accuracy: 0.5908 - val_output1_loss: 1.1743 - val_output2_accuracy: 0.7056 - val_output2_loss: 0.9691\n",
            "Epoch 15/110\n",
            "\u001b[1m500/500\u001b[0m \u001b[32m━━━━━━━━━━━━━━━━━━━━\u001b[0m\u001b[37m\u001b[0m \u001b[1m17s\u001b[0m 33ms/step - loss: 1.9846 - output1_accuracy: 0.6338 - output1_loss: 1.0873 - output2_accuracy: 0.7474 - output2_loss: 0.8973 - val_loss: 2.2304 - val_output1_accuracy: 0.5305 - val_output1_loss: 1.2993 - val_output2_accuracy: 0.7300 - val_output2_loss: 0.9311\n",
            "Epoch 16/110\n",
            "\u001b[1m500/500\u001b[0m \u001b[32m━━━━━━━━━━━━━━━━━━━━\u001b[0m\u001b[37m\u001b[0m \u001b[1m17s\u001b[0m 33ms/step - loss: 1.9353 - output1_accuracy: 0.6536 - output1_loss: 1.0607 - output2_accuracy: 0.7613 - output2_loss: 0.8746 - val_loss: 2.0659 - val_output1_accuracy: 0.6156 - val_output1_loss: 1.1107 - val_output2_accuracy: 0.7186 - val_output2_loss: 0.9552\n",
            "Epoch 17/110\n",
            "\u001b[1m500/500\u001b[0m \u001b[32m━━━━━━━━━━━━━━━━━━━━\u001b[0m\u001b[37m\u001b[0m \u001b[1m17s\u001b[0m 33ms/step - loss: 1.9092 - output1_accuracy: 0.6607 - output1_loss: 1.0442 - output2_accuracy: 0.7681 - output2_loss: 0.8649 - val_loss: 2.1558 - val_output1_accuracy: 0.5495 - val_output1_loss: 1.2507 - val_output2_accuracy: 0.7408 - val_output2_loss: 0.9051\n",
            "Epoch 18/110\n",
            "\u001b[1m500/500\u001b[0m \u001b[32m━━━━━━━━━━━━━━━━━━━━\u001b[0m\u001b[37m\u001b[0m \u001b[1m17s\u001b[0m 33ms/step - loss: 1.8914 - output1_accuracy: 0.6616 - output1_loss: 1.0374 - output2_accuracy: 0.7699 - output2_loss: 0.8540 - val_loss: 2.0663 - val_output1_accuracy: 0.6103 - val_output1_loss: 1.1363 - val_output2_accuracy: 0.7320 - val_output2_loss: 0.9300\n",
            "Epoch 19/110\n",
            "\u001b[1m500/500\u001b[0m \u001b[32m━━━━━━━━━━━━━━━━━━━━\u001b[0m\u001b[37m\u001b[0m \u001b[1m17s\u001b[0m 33ms/step - loss: 1.8924 - output1_accuracy: 0.6642 - output1_loss: 1.0432 - output2_accuracy: 0.7740 - output2_loss: 0.8492 - val_loss: 1.9764 - val_output1_accuracy: 0.6198 - val_output1_loss: 1.0922 - val_output2_accuracy: 0.7487 - val_output2_loss: 0.8842\n",
            "Epoch 20/110\n",
            "\u001b[1m500/500\u001b[0m \u001b[32m━━━━━━━━━━━━━━━━━━━━\u001b[0m\u001b[37m\u001b[0m \u001b[1m17s\u001b[0m 33ms/step - loss: 1.8684 - output1_accuracy: 0.6761 - output1_loss: 1.0184 - output2_accuracy: 0.7743 - output2_loss: 0.8500 - val_loss: 2.0167 - val_output1_accuracy: 0.6200 - val_output1_loss: 1.1214 - val_output2_accuracy: 0.7455 - val_output2_loss: 0.8953\n",
            "Epoch 21/110\n",
            "\u001b[1m500/500\u001b[0m \u001b[32m━━━━━━━━━━━━━━━━━━━━\u001b[0m\u001b[37m\u001b[0m \u001b[1m17s\u001b[0m 33ms/step - loss: 1.8461 - output1_accuracy: 0.6780 - output1_loss: 1.0086 - output2_accuracy: 0.7794 - output2_loss: 0.8375 - val_loss: 2.0052 - val_output1_accuracy: 0.6264 - val_output1_loss: 1.0923 - val_output2_accuracy: 0.7337 - val_output2_loss: 0.9130\n",
            "Epoch 22/110\n",
            "\u001b[1m500/500\u001b[0m \u001b[32m━━━━━━━━━━━━━━━━━━━━\u001b[0m\u001b[37m\u001b[0m \u001b[1m17s\u001b[0m 33ms/step - loss: 1.8153 - output1_accuracy: 0.6924 - output1_loss: 0.9885 - output2_accuracy: 0.7856 - output2_loss: 0.8268 - val_loss: 2.0047 - val_output1_accuracy: 0.6394 - val_output1_loss: 1.0738 - val_output2_accuracy: 0.7267 - val_output2_loss: 0.9309\n",
            "Epoch 23/110\n",
            "\u001b[1m500/500\u001b[0m \u001b[32m━━━━━━━━━━━━━━━━━━━━\u001b[0m\u001b[37m\u001b[0m \u001b[1m17s\u001b[0m 33ms/step - loss: 1.8119 - output1_accuracy: 0.6919 - output1_loss: 0.9924 - output2_accuracy: 0.7882 - output2_loss: 0.8195 - val_loss: 2.1177 - val_output1_accuracy: 0.6059 - val_output1_loss: 1.1595 - val_output2_accuracy: 0.7195 - val_output2_loss: 0.9582\n",
            "Epoch 24/110\n",
            "\u001b[1m500/500\u001b[0m \u001b[32m━━━━━━━━━━━━━━━━━━━━\u001b[0m\u001b[37m\u001b[0m \u001b[1m17s\u001b[0m 33ms/step - loss: 1.7985 - output1_accuracy: 0.6942 - output1_loss: 0.9855 - output2_accuracy: 0.7923 - output2_loss: 0.8129 - val_loss: 1.8308 - val_output1_accuracy: 0.6814 - val_output1_loss: 1.0020 - val_output2_accuracy: 0.7841 - val_output2_loss: 0.8288\n",
            "Epoch 25/110\n",
            "\u001b[1m500/500\u001b[0m \u001b[32m━━━━━━━━━━━━━━━━━━━━\u001b[0m\u001b[37m\u001b[0m \u001b[1m17s\u001b[0m 33ms/step - loss: 1.7699 - output1_accuracy: 0.7022 - output1_loss: 0.9683 - output2_accuracy: 0.7980 - output2_loss: 0.8016 - val_loss: 1.9089 - val_output1_accuracy: 0.6536 - val_output1_loss: 1.0541 - val_output2_accuracy: 0.7694 - val_output2_loss: 0.8549\n",
            "Epoch 26/110\n",
            "\u001b[1m500/500\u001b[0m \u001b[32m━━━━━━━━━━━━━━━━━━━━\u001b[0m\u001b[37m\u001b[0m \u001b[1m17s\u001b[0m 33ms/step - loss: 1.7448 - output1_accuracy: 0.7091 - output1_loss: 0.9543 - output2_accuracy: 0.8024 - output2_loss: 0.7905 - val_loss: 1.9637 - val_output1_accuracy: 0.6319 - val_output1_loss: 1.0897 - val_output2_accuracy: 0.7514 - val_output2_loss: 0.8740\n",
            "Epoch 27/110\n",
            "\u001b[1m500/500\u001b[0m \u001b[32m━━━━━━━━━━━━━━━━━━━━\u001b[0m\u001b[37m\u001b[0m \u001b[1m17s\u001b[0m 33ms/step - loss: 1.7316 - output1_accuracy: 0.7127 - output1_loss: 0.9465 - output2_accuracy: 0.8109 - output2_loss: 0.7851 - val_loss: 1.8377 - val_output1_accuracy: 0.6736 - val_output1_loss: 1.0259 - val_output2_accuracy: 0.7931 - val_output2_loss: 0.8118\n",
            "Epoch 28/110\n",
            "\u001b[1m500/500\u001b[0m \u001b[32m━━━━━━━━━━━━━━━━━━━━\u001b[0m\u001b[37m\u001b[0m \u001b[1m17s\u001b[0m 33ms/step - loss: 1.7298 - output1_accuracy: 0.7163 - output1_loss: 0.9488 - output2_accuracy: 0.8103 - output2_loss: 0.7810 - val_loss: 1.9330 - val_output1_accuracy: 0.6442 - val_output1_loss: 1.0658 - val_output2_accuracy: 0.7608 - val_output2_loss: 0.8672\n",
            "Epoch 29/110\n",
            "\u001b[1m500/500\u001b[0m \u001b[32m━━━━━━━━━━━━━━━━━━━━\u001b[0m\u001b[37m\u001b[0m \u001b[1m17s\u001b[0m 33ms/step - loss: 1.7334 - output1_accuracy: 0.7093 - output1_loss: 0.9542 - output2_accuracy: 0.8092 - output2_loss: 0.7792 - val_loss: 1.8533 - val_output1_accuracy: 0.6742 - val_output1_loss: 1.0088 - val_output2_accuracy: 0.7763 - val_output2_loss: 0.8445\n",
            "Epoch 30/110\n",
            "\u001b[1m500/500\u001b[0m \u001b[32m━━━━━━━━━━━━━━━━━━━━\u001b[0m\u001b[37m\u001b[0m \u001b[1m17s\u001b[0m 33ms/step - loss: 1.7118 - output1_accuracy: 0.7224 - output1_loss: 0.9381 - output2_accuracy: 0.8130 - output2_loss: 0.7737 - val_loss: 1.9314 - val_output1_accuracy: 0.6459 - val_output1_loss: 1.0620 - val_output2_accuracy: 0.7616 - val_output2_loss: 0.8694\n",
            "Epoch 31/110\n",
            "\u001b[1m500/500\u001b[0m \u001b[32m━━━━━━━━━━━━━━━━━━━━\u001b[0m\u001b[37m\u001b[0m \u001b[1m17s\u001b[0m 33ms/step - loss: 1.7070 - output1_accuracy: 0.7189 - output1_loss: 0.9397 - output2_accuracy: 0.8173 - output2_loss: 0.7673 - val_loss: 1.7698 - val_output1_accuracy: 0.6933 - val_output1_loss: 0.9743 - val_output2_accuracy: 0.7992 - val_output2_loss: 0.7954\n",
            "Epoch 32/110\n",
            "\u001b[1m500/500\u001b[0m \u001b[32m━━━━━━━━━━━━━━━━━━━━\u001b[0m\u001b[37m\u001b[0m \u001b[1m17s\u001b[0m 33ms/step - loss: 1.6925 - output1_accuracy: 0.7289 - output1_loss: 0.9220 - output2_accuracy: 0.8149 - output2_loss: 0.7705 - val_loss: 1.7888 - val_output1_accuracy: 0.7023 - val_output1_loss: 0.9687 - val_output2_accuracy: 0.7914 - val_output2_loss: 0.8201\n",
            "Epoch 33/110\n",
            "\u001b[1m500/500\u001b[0m \u001b[32m━━━━━━━━━━━━━━━━━━━━\u001b[0m\u001b[37m\u001b[0m \u001b[1m17s\u001b[0m 33ms/step - loss: 1.6850 - output1_accuracy: 0.7278 - output1_loss: 0.9256 - output2_accuracy: 0.8226 - output2_loss: 0.7594 - val_loss: 1.7472 - val_output1_accuracy: 0.7061 - val_output1_loss: 0.9612 - val_output2_accuracy: 0.8041 - val_output2_loss: 0.7861\n",
            "Epoch 34/110\n",
            "\u001b[1m500/500\u001b[0m \u001b[32m━━━━━━━━━━━━━━━━━━━━\u001b[0m\u001b[37m\u001b[0m \u001b[1m17s\u001b[0m 33ms/step - loss: 1.6773 - output1_accuracy: 0.7296 - output1_loss: 0.9222 - output2_accuracy: 0.8246 - output2_loss: 0.7551 - val_loss: 1.8134 - val_output1_accuracy: 0.6834 - val_output1_loss: 0.9951 - val_output2_accuracy: 0.7886 - val_output2_loss: 0.8182\n",
            "Epoch 35/110\n",
            "\u001b[1m500/500\u001b[0m \u001b[32m━━━━━━━━━━━━━━━━━━━━\u001b[0m\u001b[37m\u001b[0m \u001b[1m17s\u001b[0m 33ms/step - loss: 1.6635 - output1_accuracy: 0.7334 - output1_loss: 0.9126 - output2_accuracy: 0.8258 - output2_loss: 0.7509 - val_loss: 1.7531 - val_output1_accuracy: 0.7013 - val_output1_loss: 0.9617 - val_output2_accuracy: 0.7983 - val_output2_loss: 0.7915\n",
            "Epoch 36/110\n",
            "\u001b[1m500/500\u001b[0m \u001b[32m━━━━━━━━━━━━━━━━━━━━\u001b[0m\u001b[37m\u001b[0m \u001b[1m17s\u001b[0m 33ms/step - loss: 1.6635 - output1_accuracy: 0.7403 - output1_loss: 0.9126 - output2_accuracy: 0.8249 - output2_loss: 0.7509 - val_loss: 1.7788 - val_output1_accuracy: 0.7072 - val_output1_loss: 0.9661 - val_output2_accuracy: 0.7837 - val_output2_loss: 0.8126\n",
            "Epoch 37/110\n",
            "\u001b[1m500/500\u001b[0m \u001b[32m━━━━━━━━━━━━━━━━━━━━\u001b[0m\u001b[37m\u001b[0m \u001b[1m17s\u001b[0m 33ms/step - loss: 1.6405 - output1_accuracy: 0.7472 - output1_loss: 0.8952 - output2_accuracy: 0.8313 - output2_loss: 0.7453 - val_loss: 1.7108 - val_output1_accuracy: 0.7186 - val_output1_loss: 0.9343 - val_output2_accuracy: 0.8067 - val_output2_loss: 0.7765\n",
            "Epoch 38/110\n",
            "\u001b[1m500/500\u001b[0m \u001b[32m━━━━━━━━━━━━━━━━━━━━\u001b[0m\u001b[37m\u001b[0m \u001b[1m17s\u001b[0m 33ms/step - loss: 1.6465 - output1_accuracy: 0.7428 - output1_loss: 0.9014 - output2_accuracy: 0.8290 - output2_loss: 0.7451 - val_loss: 1.7501 - val_output1_accuracy: 0.7075 - val_output1_loss: 0.9600 - val_output2_accuracy: 0.8020 - val_output2_loss: 0.7901\n",
            "Epoch 39/110\n",
            "\u001b[1m500/500\u001b[0m \u001b[32m━━━━━━━━━━━━━━━━━━━━\u001b[0m\u001b[37m\u001b[0m \u001b[1m17s\u001b[0m 33ms/step - loss: 1.6309 - output1_accuracy: 0.7474 - output1_loss: 0.8922 - output2_accuracy: 0.8337 - output2_loss: 0.7387 - val_loss: 1.7051 - val_output1_accuracy: 0.7306 - val_output1_loss: 0.9282 - val_output2_accuracy: 0.8103 - val_output2_loss: 0.7769\n",
            "Epoch 40/110\n",
            "\u001b[1m500/500\u001b[0m \u001b[32m━━━━━━━━━━━━━━━━━━━━\u001b[0m\u001b[37m\u001b[0m \u001b[1m17s\u001b[0m 34ms/step - loss: 1.6277 - output1_accuracy: 0.7445 - output1_loss: 0.8962 - output2_accuracy: 0.8374 - output2_loss: 0.7315 - val_loss: 1.7514 - val_output1_accuracy: 0.6889 - val_output1_loss: 0.9826 - val_output2_accuracy: 0.8139 - val_output2_loss: 0.7688\n",
            "Epoch 41/110\n",
            "\u001b[1m500/500\u001b[0m \u001b[32m━━━━━━━━━━━━━━━━━━━━\u001b[0m\u001b[37m\u001b[0m \u001b[1m17s\u001b[0m 33ms/step - loss: 1.6099 - output1_accuracy: 0.7513 - output1_loss: 0.8826 - output2_accuracy: 0.8372 - output2_loss: 0.7273 - val_loss: 1.6959 - val_output1_accuracy: 0.7098 - val_output1_loss: 0.9448 - val_output2_accuracy: 0.8209 - val_output2_loss: 0.7510\n",
            "Epoch 42/110\n",
            "\u001b[1m500/500\u001b[0m \u001b[32m━━━━━━━━━━━━━━━━━━━━\u001b[0m\u001b[37m\u001b[0m \u001b[1m17s\u001b[0m 34ms/step - loss: 1.6067 - output1_accuracy: 0.7567 - output1_loss: 0.8834 - output2_accuracy: 0.8417 - output2_loss: 0.7233 - val_loss: 1.6862 - val_output1_accuracy: 0.7212 - val_output1_loss: 0.9237 - val_output2_accuracy: 0.8175 - val_output2_loss: 0.7625\n",
            "Epoch 43/110\n",
            "\u001b[1m500/500\u001b[0m \u001b[32m━━━━━━━━━━━━━━━━━━━━\u001b[0m\u001b[37m\u001b[0m \u001b[1m17s\u001b[0m 33ms/step - loss: 1.6080 - output1_accuracy: 0.7557 - output1_loss: 0.8773 - output2_accuracy: 0.8370 - output2_loss: 0.7307 - val_loss: 1.7594 - val_output1_accuracy: 0.7027 - val_output1_loss: 0.9679 - val_output2_accuracy: 0.8031 - val_output2_loss: 0.7915\n",
            "Epoch 44/110\n",
            "\u001b[1m500/500\u001b[0m \u001b[32m━━━━━━━━━━━━━━━━━━━━\u001b[0m\u001b[37m\u001b[0m \u001b[1m17s\u001b[0m 33ms/step - loss: 1.5949 - output1_accuracy: 0.7613 - output1_loss: 0.8726 - output2_accuracy: 0.8420 - output2_loss: 0.7223 - val_loss: 1.7147 - val_output1_accuracy: 0.7161 - val_output1_loss: 0.9308 - val_output2_accuracy: 0.8078 - val_output2_loss: 0.7839\n",
            "Epoch 45/110\n",
            "\u001b[1m500/500\u001b[0m \u001b[32m━━━━━━━━━━━━━━━━━━━━\u001b[0m\u001b[37m\u001b[0m \u001b[1m17s\u001b[0m 33ms/step - loss: 1.5916 - output1_accuracy: 0.7608 - output1_loss: 0.8690 - output2_accuracy: 0.8418 - output2_loss: 0.7226 - val_loss: 1.7063 - val_output1_accuracy: 0.7197 - val_output1_loss: 0.9456 - val_output2_accuracy: 0.8141 - val_output2_loss: 0.7607\n",
            "Epoch 46/110\n",
            "\u001b[1m500/500\u001b[0m \u001b[32m━━━━━━━━━━━━━━━━━━━━\u001b[0m\u001b[37m\u001b[0m \u001b[1m17s\u001b[0m 33ms/step - loss: 1.5874 - output1_accuracy: 0.7607 - output1_loss: 0.8686 - output2_accuracy: 0.8465 - output2_loss: 0.7188 - val_loss: 1.6770 - val_output1_accuracy: 0.7248 - val_output1_loss: 0.9215 - val_output2_accuracy: 0.8206 - val_output2_loss: 0.7555\n",
            "Epoch 47/110\n",
            "\u001b[1m500/500\u001b[0m \u001b[32m━━━━━━━━━━━━━━━━━━━━\u001b[0m\u001b[37m\u001b[0m \u001b[1m17s\u001b[0m 33ms/step - loss: 1.5840 - output1_accuracy: 0.7628 - output1_loss: 0.8651 - output2_accuracy: 0.8429 - output2_loss: 0.7189 - val_loss: 1.7118 - val_output1_accuracy: 0.7153 - val_output1_loss: 0.9467 - val_output2_accuracy: 0.8108 - val_output2_loss: 0.7651\n",
            "Epoch 48/110\n",
            "\u001b[1m500/500\u001b[0m \u001b[32m━━━━━━━━━━━━━━━━━━━━\u001b[0m\u001b[37m\u001b[0m \u001b[1m17s\u001b[0m 33ms/step - loss: 1.5744 - output1_accuracy: 0.7621 - output1_loss: 0.8655 - output2_accuracy: 0.8505 - output2_loss: 0.7089 - val_loss: 1.6845 - val_output1_accuracy: 0.7248 - val_output1_loss: 0.9284 - val_output2_accuracy: 0.8203 - val_output2_loss: 0.7561\n",
            "Epoch 49/110\n",
            "\u001b[1m500/500\u001b[0m \u001b[32m━━━━━━━━━━━━━━━━━━━━\u001b[0m\u001b[37m\u001b[0m \u001b[1m17s\u001b[0m 33ms/step - loss: 1.5718 - output1_accuracy: 0.7648 - output1_loss: 0.8625 - output2_accuracy: 0.8493 - output2_loss: 0.7093 - val_loss: 1.6629 - val_output1_accuracy: 0.7352 - val_output1_loss: 0.9105 - val_output2_accuracy: 0.8223 - val_output2_loss: 0.7524\n",
            "Epoch 50/110\n",
            "\u001b[1m500/500\u001b[0m \u001b[32m━━━━━━━━━━━━━━━━━━━━\u001b[0m\u001b[37m\u001b[0m \u001b[1m17s\u001b[0m 33ms/step - loss: 1.5728 - output1_accuracy: 0.7635 - output1_loss: 0.8610 - output2_accuracy: 0.8441 - output2_loss: 0.7118 - val_loss: 1.6899 - val_output1_accuracy: 0.7305 - val_output1_loss: 0.9196 - val_output2_accuracy: 0.8138 - val_output2_loss: 0.7704\n",
            "Epoch 51/110\n",
            "\u001b[1m500/500\u001b[0m \u001b[32m━━━━━━━━━━━━━━━━━━━━\u001b[0m\u001b[37m\u001b[0m \u001b[1m17s\u001b[0m 33ms/step - loss: 1.5523 - output1_accuracy: 0.7713 - output1_loss: 0.8513 - output2_accuracy: 0.8536 - output2_loss: 0.7010 - val_loss: 1.6595 - val_output1_accuracy: 0.7280 - val_output1_loss: 0.9174 - val_output2_accuracy: 0.8272 - val_output2_loss: 0.7421\n",
            "Epoch 52/110\n",
            "\u001b[1m500/500\u001b[0m \u001b[32m━━━━━━━━━━━━━━━━━━━━\u001b[0m\u001b[37m\u001b[0m \u001b[1m17s\u001b[0m 33ms/step - loss: 1.5533 - output1_accuracy: 0.7791 - output1_loss: 0.8451 - output2_accuracy: 0.8467 - output2_loss: 0.7082 - val_loss: 1.6523 - val_output1_accuracy: 0.7434 - val_output1_loss: 0.8945 - val_output2_accuracy: 0.8166 - val_output2_loss: 0.7577\n",
            "Epoch 53/110\n",
            "\u001b[1m500/500\u001b[0m \u001b[32m━━━━━━━━━━━━━━━━━━━━\u001b[0m\u001b[37m\u001b[0m \u001b[1m17s\u001b[0m 33ms/step - loss: 1.5494 - output1_accuracy: 0.7737 - output1_loss: 0.8453 - output2_accuracy: 0.8516 - output2_loss: 0.7041 - val_loss: 1.6491 - val_output1_accuracy: 0.7303 - val_output1_loss: 0.9150 - val_output2_accuracy: 0.8341 - val_output2_loss: 0.7342\n",
            "Epoch 54/110\n",
            "\u001b[1m500/500\u001b[0m \u001b[32m━━━━━━━━━━━━━━━━━━━━\u001b[0m\u001b[37m\u001b[0m \u001b[1m17s\u001b[0m 34ms/step - loss: 1.5531 - output1_accuracy: 0.7700 - output1_loss: 0.8521 - output2_accuracy: 0.8524 - output2_loss: 0.7010 - val_loss: 1.6579 - val_output1_accuracy: 0.7305 - val_output1_loss: 0.9157 - val_output2_accuracy: 0.8298 - val_output2_loss: 0.7422\n",
            "Epoch 55/110\n",
            "\u001b[1m500/500\u001b[0m \u001b[32m━━━━━━━━━━━━━━━━━━━━\u001b[0m\u001b[37m\u001b[0m \u001b[1m17s\u001b[0m 34ms/step - loss: 1.5425 - output1_accuracy: 0.7775 - output1_loss: 0.8414 - output2_accuracy: 0.8540 - output2_loss: 0.7011 - val_loss: 1.6306 - val_output1_accuracy: 0.7422 - val_output1_loss: 0.8994 - val_output2_accuracy: 0.8375 - val_output2_loss: 0.7313\n",
            "Epoch 56/110\n",
            "\u001b[1m500/500\u001b[0m \u001b[32m━━━━━━━━━━━━━━━━━━━━\u001b[0m\u001b[37m\u001b[0m \u001b[1m17s\u001b[0m 33ms/step - loss: 1.5406 - output1_accuracy: 0.7734 - output1_loss: 0.8411 - output2_accuracy: 0.8522 - output2_loss: 0.6995 - val_loss: 1.6229 - val_output1_accuracy: 0.7427 - val_output1_loss: 0.8977 - val_output2_accuracy: 0.8352 - val_output2_loss: 0.7252\n",
            "Epoch 57/110\n",
            "\u001b[1m500/500\u001b[0m \u001b[32m━━━━━━━━━━━━━━━━━━━━\u001b[0m\u001b[37m\u001b[0m \u001b[1m17s\u001b[0m 34ms/step - loss: 1.5301 - output1_accuracy: 0.7756 - output1_loss: 0.8386 - output2_accuracy: 0.8552 - output2_loss: 0.6915 - val_loss: 1.6486 - val_output1_accuracy: 0.7297 - val_output1_loss: 0.9110 - val_output2_accuracy: 0.8395 - val_output2_loss: 0.7376\n",
            "Epoch 58/110\n",
            "\u001b[1m500/500\u001b[0m \u001b[32m━━━━━━━━━━━━━━━━━━━━\u001b[0m\u001b[37m\u001b[0m \u001b[1m17s\u001b[0m 33ms/step - loss: 1.5311 - output1_accuracy: 0.7782 - output1_loss: 0.8390 - output2_accuracy: 0.8586 - output2_loss: 0.6921 - val_loss: 1.6312 - val_output1_accuracy: 0.7477 - val_output1_loss: 0.8911 - val_output2_accuracy: 0.8270 - val_output2_loss: 0.7401\n",
            "Epoch 59/110\n",
            "\u001b[1m500/500\u001b[0m \u001b[32m━━━━━━━━━━━━━━━━━━━━\u001b[0m\u001b[37m\u001b[0m \u001b[1m17s\u001b[0m 33ms/step - loss: 1.5409 - output1_accuracy: 0.7736 - output1_loss: 0.8441 - output2_accuracy: 0.8550 - output2_loss: 0.6967 - val_loss: 1.6389 - val_output1_accuracy: 0.7437 - val_output1_loss: 0.8970 - val_output2_accuracy: 0.8256 - val_output2_loss: 0.7419\n",
            "Epoch 60/110\n",
            "\u001b[1m500/500\u001b[0m \u001b[32m━━━━━━━━━━━━━━━━━━━━\u001b[0m\u001b[37m\u001b[0m \u001b[1m17s\u001b[0m 33ms/step - loss: 1.5292 - output1_accuracy: 0.7777 - output1_loss: 0.8372 - output2_accuracy: 0.8556 - output2_loss: 0.6920 - val_loss: 1.6406 - val_output1_accuracy: 0.7345 - val_output1_loss: 0.9147 - val_output2_accuracy: 0.8392 - val_output2_loss: 0.7259\n",
            "Epoch 61/110\n",
            "\u001b[1m500/500\u001b[0m \u001b[32m━━━━━━━━━━━━━━━━━━━━\u001b[0m\u001b[37m\u001b[0m \u001b[1m17s\u001b[0m 33ms/step - loss: 1.5266 - output1_accuracy: 0.7802 - output1_loss: 0.8350 - output2_accuracy: 0.8587 - output2_loss: 0.6916 - val_loss: 1.6395 - val_output1_accuracy: 0.7319 - val_output1_loss: 0.9110 - val_output2_accuracy: 0.8353 - val_output2_loss: 0.7285\n",
            "Epoch 62/110\n",
            "\u001b[1m500/500\u001b[0m \u001b[32m━━━━━━━━━━━━━━━━━━━━\u001b[0m\u001b[37m\u001b[0m \u001b[1m17s\u001b[0m 33ms/step - loss: 1.5171 - output1_accuracy: 0.7823 - output1_loss: 0.8295 - output2_accuracy: 0.8586 - output2_loss: 0.6875 - val_loss: 1.6286 - val_output1_accuracy: 0.7386 - val_output1_loss: 0.8981 - val_output2_accuracy: 0.8378 - val_output2_loss: 0.7305\n",
            "Epoch 63/110\n",
            "\u001b[1m500/500\u001b[0m \u001b[32m━━━━━━━━━━━━━━━━━━━━\u001b[0m\u001b[37m\u001b[0m \u001b[1m17s\u001b[0m 33ms/step - loss: 1.5194 - output1_accuracy: 0.7839 - output1_loss: 0.8315 - output2_accuracy: 0.8590 - output2_loss: 0.6879 - val_loss: 1.6248 - val_output1_accuracy: 0.7419 - val_output1_loss: 0.8947 - val_output2_accuracy: 0.8336 - val_output2_loss: 0.7301\n",
            "Epoch 64/110\n",
            "\u001b[1m500/500\u001b[0m \u001b[32m━━━━━━━━━━━━━━━━━━━━\u001b[0m\u001b[37m\u001b[0m \u001b[1m17s\u001b[0m 33ms/step - loss: 1.5149 - output1_accuracy: 0.7828 - output1_loss: 0.8261 - output2_accuracy: 0.8580 - output2_loss: 0.6887 - val_loss: 1.6170 - val_output1_accuracy: 0.7414 - val_output1_loss: 0.8889 - val_output2_accuracy: 0.8395 - val_output2_loss: 0.7281\n",
            "Epoch 65/110\n",
            "\u001b[1m500/500\u001b[0m \u001b[32m━━━━━━━━━━━━━━━━━━━━\u001b[0m\u001b[37m\u001b[0m \u001b[1m17s\u001b[0m 34ms/step - loss: 1.5140 - output1_accuracy: 0.7857 - output1_loss: 0.8285 - output2_accuracy: 0.8598 - output2_loss: 0.6855 - val_loss: 1.6562 - val_output1_accuracy: 0.7358 - val_output1_loss: 0.9048 - val_output2_accuracy: 0.8245 - val_output2_loss: 0.7514\n",
            "Epoch 66/110\n",
            "\u001b[1m500/500\u001b[0m \u001b[32m━━━━━━━━━━━━━━━━━━━━\u001b[0m\u001b[37m\u001b[0m \u001b[1m17s\u001b[0m 33ms/step - loss: 1.5137 - output1_accuracy: 0.7842 - output1_loss: 0.8252 - output2_accuracy: 0.8587 - output2_loss: 0.6885 - val_loss: 1.6386 - val_output1_accuracy: 0.7452 - val_output1_loss: 0.9000 - val_output2_accuracy: 0.8313 - val_output2_loss: 0.7385\n",
            "Epoch 67/110\n",
            "\u001b[1m500/500\u001b[0m \u001b[32m━━━━━━━━━━━━━━━━━━━━\u001b[0m\u001b[37m\u001b[0m \u001b[1m17s\u001b[0m 33ms/step - loss: 1.5084 - output1_accuracy: 0.7863 - output1_loss: 0.8259 - output2_accuracy: 0.8667 - output2_loss: 0.6825 - val_loss: 1.6115 - val_output1_accuracy: 0.7506 - val_output1_loss: 0.8878 - val_output2_accuracy: 0.8358 - val_output2_loss: 0.7237\n",
            "Epoch 68/110\n",
            "\u001b[1m500/500\u001b[0m \u001b[32m━━━━━━━━━━━━━━━━━━━━\u001b[0m\u001b[37m\u001b[0m \u001b[1m17s\u001b[0m 33ms/step - loss: 1.5057 - output1_accuracy: 0.7893 - output1_loss: 0.8191 - output2_accuracy: 0.8618 - output2_loss: 0.6866 - val_loss: 1.6144 - val_output1_accuracy: 0.7494 - val_output1_loss: 0.8904 - val_output2_accuracy: 0.8395 - val_output2_loss: 0.7240\n",
            "Epoch 69/110\n",
            "\u001b[1m500/500\u001b[0m \u001b[32m━━━━━━━━━━━━━━━━━━━━\u001b[0m\u001b[37m\u001b[0m \u001b[1m17s\u001b[0m 33ms/step - loss: 1.4994 - output1_accuracy: 0.7854 - output1_loss: 0.8207 - output2_accuracy: 0.8680 - output2_loss: 0.6787 - val_loss: 1.6086 - val_output1_accuracy: 0.7464 - val_output1_loss: 0.8866 - val_output2_accuracy: 0.8363 - val_output2_loss: 0.7220\n",
            "Epoch 70/110\n",
            "\u001b[1m500/500\u001b[0m \u001b[32m━━━━━━━━━━━━━━━━━━━━\u001b[0m\u001b[37m\u001b[0m \u001b[1m17s\u001b[0m 33ms/step - loss: 1.5008 - output1_accuracy: 0.7892 - output1_loss: 0.8207 - output2_accuracy: 0.8648 - output2_loss: 0.6801 - val_loss: 1.6199 - val_output1_accuracy: 0.7489 - val_output1_loss: 0.8835 - val_output2_accuracy: 0.8322 - val_output2_loss: 0.7364\n",
            "Epoch 71/110\n",
            "\u001b[1m500/500\u001b[0m \u001b[32m━━━━━━━━━━━━━━━━━━━━\u001b[0m\u001b[37m\u001b[0m \u001b[1m17s\u001b[0m 33ms/step - loss: 1.4949 - output1_accuracy: 0.7931 - output1_loss: 0.8143 - output2_accuracy: 0.8640 - output2_loss: 0.6806 - val_loss: 1.6444 - val_output1_accuracy: 0.7417 - val_output1_loss: 0.8998 - val_output2_accuracy: 0.8270 - val_output2_loss: 0.7446\n",
            "Epoch 72/110\n",
            "\u001b[1m500/500\u001b[0m \u001b[32m━━━━━━━━━━━━━━━━━━━━\u001b[0m\u001b[37m\u001b[0m \u001b[1m17s\u001b[0m 33ms/step - loss: 1.4960 - output1_accuracy: 0.7894 - output1_loss: 0.8172 - output2_accuracy: 0.8646 - output2_loss: 0.6787 - val_loss: 1.6136 - val_output1_accuracy: 0.7452 - val_output1_loss: 0.8879 - val_output2_accuracy: 0.8334 - val_output2_loss: 0.7258\n",
            "Epoch 73/110\n",
            "\u001b[1m500/500\u001b[0m \u001b[32m━━━━━━━━━━━━━━━━━━━━\u001b[0m\u001b[37m\u001b[0m \u001b[1m17s\u001b[0m 34ms/step - loss: 1.4929 - output1_accuracy: 0.7914 - output1_loss: 0.8143 - output2_accuracy: 0.8645 - output2_loss: 0.6786 - val_loss: 1.6102 - val_output1_accuracy: 0.7472 - val_output1_loss: 0.8875 - val_output2_accuracy: 0.8369 - val_output2_loss: 0.7228\n",
            "Epoch 74/110\n",
            "\u001b[1m500/500\u001b[0m \u001b[32m━━━━━━━━━━━━━━━━━━━━\u001b[0m\u001b[37m\u001b[0m \u001b[1m17s\u001b[0m 33ms/step - loss: 1.4952 - output1_accuracy: 0.7945 - output1_loss: 0.8104 - output2_accuracy: 0.8610 - output2_loss: 0.6848 - val_loss: 1.6291 - val_output1_accuracy: 0.7459 - val_output1_loss: 0.8853 - val_output2_accuracy: 0.8256 - val_output2_loss: 0.7438\n",
            "Epoch 75/110\n",
            "\u001b[1m500/500\u001b[0m \u001b[32m━━━━━━━━━━━━━━━━━━━━\u001b[0m\u001b[37m\u001b[0m \u001b[1m17s\u001b[0m 33ms/step - loss: 1.4959 - output1_accuracy: 0.7895 - output1_loss: 0.8179 - output2_accuracy: 0.8671 - output2_loss: 0.6780 - val_loss: 1.6043 - val_output1_accuracy: 0.7483 - val_output1_loss: 0.8837 - val_output2_accuracy: 0.8428 - val_output2_loss: 0.7207\n",
            "Epoch 76/110\n",
            "\u001b[1m500/500\u001b[0m \u001b[32m━━━━━━━━━━━━━━━━━━━━\u001b[0m\u001b[37m\u001b[0m \u001b[1m17s\u001b[0m 33ms/step - loss: 1.4938 - output1_accuracy: 0.7947 - output1_loss: 0.8136 - output2_accuracy: 0.8622 - output2_loss: 0.6802 - val_loss: 1.6303 - val_output1_accuracy: 0.7464 - val_output1_loss: 0.8993 - val_output2_accuracy: 0.8306 - val_output2_loss: 0.7310\n",
            "Epoch 77/110\n",
            "\u001b[1m500/500\u001b[0m \u001b[32m━━━━━━━━━━━━━━━━━━━━\u001b[0m\u001b[37m\u001b[0m \u001b[1m17s\u001b[0m 33ms/step - loss: 1.4852 - output1_accuracy: 0.7971 - output1_loss: 0.8088 - output2_accuracy: 0.8655 - output2_loss: 0.6764 - val_loss: 1.6058 - val_output1_accuracy: 0.7520 - val_output1_loss: 0.8830 - val_output2_accuracy: 0.8369 - val_output2_loss: 0.7228\n",
            "Epoch 78/110\n",
            "\u001b[1m500/500\u001b[0m \u001b[32m━━━━━━━━━━━━━━━━━━━━\u001b[0m\u001b[37m\u001b[0m \u001b[1m17s\u001b[0m 33ms/step - loss: 1.4743 - output1_accuracy: 0.7948 - output1_loss: 0.8085 - output2_accuracy: 0.8728 - output2_loss: 0.6658 - val_loss: 1.6138 - val_output1_accuracy: 0.7503 - val_output1_loss: 0.8822 - val_output2_accuracy: 0.8297 - val_output2_loss: 0.7316\n",
            "Epoch 79/110\n",
            "\u001b[1m500/500\u001b[0m \u001b[32m━━━━━━━━━━━━━━━━━━━━\u001b[0m\u001b[37m\u001b[0m \u001b[1m17s\u001b[0m 33ms/step - loss: 1.4975 - output1_accuracy: 0.7884 - output1_loss: 0.8203 - output2_accuracy: 0.8681 - output2_loss: 0.6772 - val_loss: 1.5984 - val_output1_accuracy: 0.7614 - val_output1_loss: 0.8763 - val_output2_accuracy: 0.8416 - val_output2_loss: 0.7221\n",
            "Epoch 80/110\n",
            "\u001b[1m500/500\u001b[0m \u001b[32m━━━━━━━━━━━━━━━━━━━━\u001b[0m\u001b[37m\u001b[0m \u001b[1m17s\u001b[0m 33ms/step - loss: 1.4886 - output1_accuracy: 0.7930 - output1_loss: 0.8140 - output2_accuracy: 0.8679 - output2_loss: 0.6746 - val_loss: 1.6420 - val_output1_accuracy: 0.7441 - val_output1_loss: 0.9088 - val_output2_accuracy: 0.8308 - val_output2_loss: 0.7331\n",
            "Epoch 81/110\n",
            "\u001b[1m500/500\u001b[0m \u001b[32m━━━━━━━━━━━━━━━━━━━━\u001b[0m\u001b[37m\u001b[0m \u001b[1m17s\u001b[0m 34ms/step - loss: 1.4885 - output1_accuracy: 0.7898 - output1_loss: 0.8167 - output2_accuracy: 0.8696 - output2_loss: 0.6718 - val_loss: 1.6079 - val_output1_accuracy: 0.7550 - val_output1_loss: 0.8731 - val_output2_accuracy: 0.8311 - val_output2_loss: 0.7348\n",
            "Epoch 82/110\n",
            "\u001b[1m500/500\u001b[0m \u001b[32m━━━━━━━━━━━━━━━━━━━━\u001b[0m\u001b[37m\u001b[0m \u001b[1m17s\u001b[0m 34ms/step - loss: 1.4744 - output1_accuracy: 0.8010 - output1_loss: 0.8003 - output2_accuracy: 0.8668 - output2_loss: 0.6741 - val_loss: 1.6145 - val_output1_accuracy: 0.7459 - val_output1_loss: 0.8897 - val_output2_accuracy: 0.8378 - val_output2_loss: 0.7248\n",
            "Epoch 83/110\n",
            "\u001b[1m500/500\u001b[0m \u001b[32m━━━━━━━━━━━━━━━━━━━━\u001b[0m\u001b[37m\u001b[0m \u001b[1m17s\u001b[0m 34ms/step - loss: 1.4809 - output1_accuracy: 0.7955 - output1_loss: 0.8096 - output2_accuracy: 0.8681 - output2_loss: 0.6712 - val_loss: 1.5915 - val_output1_accuracy: 0.7556 - val_output1_loss: 0.8725 - val_output2_accuracy: 0.8372 - val_output2_loss: 0.7190\n",
            "Epoch 84/110\n",
            "\u001b[1m500/500\u001b[0m \u001b[32m━━━━━━━━━━━━━━━━━━━━\u001b[0m\u001b[37m\u001b[0m \u001b[1m17s\u001b[0m 33ms/step - loss: 1.4850 - output1_accuracy: 0.7953 - output1_loss: 0.8121 - output2_accuracy: 0.8663 - output2_loss: 0.6729 - val_loss: 1.6288 - val_output1_accuracy: 0.7453 - val_output1_loss: 0.9066 - val_output2_accuracy: 0.8347 - val_output2_loss: 0.7222\n",
            "Epoch 85/110\n",
            "\u001b[1m500/500\u001b[0m \u001b[32m━━━━━━━━━━━━━━━━━━━━\u001b[0m\u001b[37m\u001b[0m \u001b[1m17s\u001b[0m 33ms/step - loss: 1.4853 - output1_accuracy: 0.7934 - output1_loss: 0.8068 - output2_accuracy: 0.8651 - output2_loss: 0.6785 - val_loss: 1.6094 - val_output1_accuracy: 0.7505 - val_output1_loss: 0.8891 - val_output2_accuracy: 0.8388 - val_output2_loss: 0.7203\n",
            "Epoch 86/110\n",
            "\u001b[1m500/500\u001b[0m \u001b[32m━━━━━━━━━━━━━━━━━━━━\u001b[0m\u001b[37m\u001b[0m \u001b[1m17s\u001b[0m 33ms/step - loss: 1.4743 - output1_accuracy: 0.7993 - output1_loss: 0.8005 - output2_accuracy: 0.8656 - output2_loss: 0.6738 - val_loss: 1.5873 - val_output1_accuracy: 0.7527 - val_output1_loss: 0.8726 - val_output2_accuracy: 0.8431 - val_output2_loss: 0.7147\n",
            "Epoch 87/110\n",
            "\u001b[1m500/500\u001b[0m \u001b[32m━━━━━━━━━━━━━━━━━━━━\u001b[0m\u001b[37m\u001b[0m \u001b[1m17s\u001b[0m 33ms/step - loss: 1.4742 - output1_accuracy: 0.7965 - output1_loss: 0.8085 - output2_accuracy: 0.8706 - output2_loss: 0.6657 - val_loss: 1.6117 - val_output1_accuracy: 0.7422 - val_output1_loss: 0.8952 - val_output2_accuracy: 0.8459 - val_output2_loss: 0.7166\n",
            "Epoch 88/110\n",
            "\u001b[1m500/500\u001b[0m \u001b[32m━━━━━━━━━━━━━━━━━━━━\u001b[0m\u001b[37m\u001b[0m \u001b[1m17s\u001b[0m 33ms/step - loss: 1.4671 - output1_accuracy: 0.8037 - output1_loss: 0.8000 - output2_accuracy: 0.8706 - output2_loss: 0.6672 - val_loss: 1.6083 - val_output1_accuracy: 0.7503 - val_output1_loss: 0.8915 - val_output2_accuracy: 0.8428 - val_output2_loss: 0.7168\n",
            "Epoch 89/110\n",
            "\u001b[1m500/500\u001b[0m \u001b[32m━━━━━━━━━━━━━━━━━━━━\u001b[0m\u001b[37m\u001b[0m \u001b[1m17s\u001b[0m 33ms/step - loss: 1.4716 - output1_accuracy: 0.7993 - output1_loss: 0.8025 - output2_accuracy: 0.8716 - output2_loss: 0.6691 - val_loss: 1.6125 - val_output1_accuracy: 0.7466 - val_output1_loss: 0.8928 - val_output2_accuracy: 0.8398 - val_output2_loss: 0.7197\n",
            "Epoch 90/110\n",
            "\u001b[1m500/500\u001b[0m \u001b[32m━━━━━━━━━━━━━━━━━━━━\u001b[0m\u001b[37m\u001b[0m \u001b[1m17s\u001b[0m 33ms/step - loss: 1.4768 - output1_accuracy: 0.7985 - output1_loss: 0.8028 - output2_accuracy: 0.8695 - output2_loss: 0.6740 - val_loss: 1.6015 - val_output1_accuracy: 0.7448 - val_output1_loss: 0.8914 - val_output2_accuracy: 0.8450 - val_output2_loss: 0.7101\n",
            "Epoch 91/110\n",
            "\u001b[1m500/500\u001b[0m \u001b[32m━━━━━━━━━━━━━━━━━━━━\u001b[0m\u001b[37m\u001b[0m \u001b[1m17s\u001b[0m 33ms/step - loss: 1.4679 - output1_accuracy: 0.8019 - output1_loss: 0.7957 - output2_accuracy: 0.8686 - output2_loss: 0.6722 - val_loss: 1.5970 - val_output1_accuracy: 0.7563 - val_output1_loss: 0.8775 - val_output2_accuracy: 0.8370 - val_output2_loss: 0.7195\n",
            "Epoch 92/110\n",
            "\u001b[1m500/500\u001b[0m \u001b[32m━━━━━━━━━━━━━━━━━━━━\u001b[0m\u001b[37m\u001b[0m \u001b[1m17s\u001b[0m 33ms/step - loss: 1.4689 - output1_accuracy: 0.7968 - output1_loss: 0.8046 - output2_accuracy: 0.8727 - output2_loss: 0.6643 - val_loss: 1.5914 - val_output1_accuracy: 0.7566 - val_output1_loss: 0.8798 - val_output2_accuracy: 0.8411 - val_output2_loss: 0.7117\n",
            "Epoch 93/110\n",
            "\u001b[1m500/500\u001b[0m \u001b[32m━━━━━━━━━━━━━━━━━━━━\u001b[0m\u001b[37m\u001b[0m \u001b[1m17s\u001b[0m 33ms/step - loss: 1.4680 - output1_accuracy: 0.7992 - output1_loss: 0.7967 - output2_accuracy: 0.8677 - output2_loss: 0.6713 - val_loss: 1.6100 - val_output1_accuracy: 0.7513 - val_output1_loss: 0.8841 - val_output2_accuracy: 0.8355 - val_output2_loss: 0.7258\n",
            "Epoch 94/110\n",
            "\u001b[1m500/500\u001b[0m \u001b[32m━━━━━━━━━━━━━━━━━━━━\u001b[0m\u001b[37m\u001b[0m \u001b[1m17s\u001b[0m 33ms/step - loss: 1.4752 - output1_accuracy: 0.7964 - output1_loss: 0.8054 - output2_accuracy: 0.8682 - output2_loss: 0.6698 - val_loss: 1.6012 - val_output1_accuracy: 0.7509 - val_output1_loss: 0.8918 - val_output2_accuracy: 0.8458 - val_output2_loss: 0.7094\n",
            "Epoch 95/110\n",
            "\u001b[1m500/500\u001b[0m \u001b[32m━━━━━━━━━━━━━━━━━━━━\u001b[0m\u001b[37m\u001b[0m \u001b[1m17s\u001b[0m 33ms/step - loss: 1.4657 - output1_accuracy: 0.8006 - output1_loss: 0.8015 - output2_accuracy: 0.8705 - output2_loss: 0.6642 - val_loss: 1.6006 - val_output1_accuracy: 0.7472 - val_output1_loss: 0.8914 - val_output2_accuracy: 0.8453 - val_output2_loss: 0.7092\n",
            "Epoch 96/110\n",
            "\u001b[1m500/500\u001b[0m \u001b[32m━━━━━━━━━━━━━━━━━━━━\u001b[0m\u001b[37m\u001b[0m \u001b[1m17s\u001b[0m 34ms/step - loss: 1.4673 - output1_accuracy: 0.8022 - output1_loss: 0.7983 - output2_accuracy: 0.8669 - output2_loss: 0.6690 - val_loss: 1.6019 - val_output1_accuracy: 0.7509 - val_output1_loss: 0.8834 - val_output2_accuracy: 0.8383 - val_output2_loss: 0.7185\n",
            "Epoch 97/110\n",
            "\u001b[1m500/500\u001b[0m \u001b[32m━━━━━━━━━━━━━━━━━━━━\u001b[0m\u001b[37m\u001b[0m \u001b[1m17s\u001b[0m 34ms/step - loss: 1.4803 - output1_accuracy: 0.7974 - output1_loss: 0.8038 - output2_accuracy: 0.8626 - output2_loss: 0.6765 - val_loss: 1.5842 - val_output1_accuracy: 0.7572 - val_output1_loss: 0.8709 - val_output2_accuracy: 0.8388 - val_output2_loss: 0.7133\n",
            "Epoch 98/110\n",
            "\u001b[1m500/500\u001b[0m \u001b[32m━━━━━━━━━━━━━━━━━━━━\u001b[0m\u001b[37m\u001b[0m \u001b[1m17s\u001b[0m 33ms/step - loss: 1.4696 - output1_accuracy: 0.8005 - output1_loss: 0.7997 - output2_accuracy: 0.8705 - output2_loss: 0.6698 - val_loss: 1.5894 - val_output1_accuracy: 0.7552 - val_output1_loss: 0.8754 - val_output2_accuracy: 0.8444 - val_output2_loss: 0.7141\n",
            "Epoch 99/110\n",
            "\u001b[1m500/500\u001b[0m \u001b[32m━━━━━━━━━━━━━━━━━━━━\u001b[0m\u001b[37m\u001b[0m \u001b[1m17s\u001b[0m 33ms/step - loss: 1.4595 - output1_accuracy: 0.8090 - output1_loss: 0.7922 - output2_accuracy: 0.8711 - output2_loss: 0.6674 - val_loss: 1.6023 - val_output1_accuracy: 0.7561 - val_output1_loss: 0.8706 - val_output2_accuracy: 0.8334 - val_output2_loss: 0.7317\n",
            "Epoch 100/110\n",
            "\u001b[1m500/500\u001b[0m \u001b[32m━━━━━━━━━━━━━━━━━━━━\u001b[0m\u001b[37m\u001b[0m \u001b[1m17s\u001b[0m 33ms/step - loss: 1.4612 - output1_accuracy: 0.7990 - output1_loss: 0.7966 - output2_accuracy: 0.8730 - output2_loss: 0.6647 - val_loss: 1.5939 - val_output1_accuracy: 0.7536 - val_output1_loss: 0.8796 - val_output2_accuracy: 0.8431 - val_output2_loss: 0.7144\n",
            "Epoch 101/110\n",
            "\u001b[1m500/500\u001b[0m \u001b[32m━━━━━━━━━━━━━━━━━━━━\u001b[0m\u001b[37m\u001b[0m \u001b[1m17s\u001b[0m 33ms/step - loss: 1.4640 - output1_accuracy: 0.7989 - output1_loss: 0.8018 - output2_accuracy: 0.8755 - output2_loss: 0.6622 - val_loss: 1.5756 - val_output1_accuracy: 0.7611 - val_output1_loss: 0.8698 - val_output2_accuracy: 0.8444 - val_output2_loss: 0.7058\n",
            "Epoch 102/110\n",
            "\u001b[1m500/500\u001b[0m \u001b[32m━━━━━━━━━━━━━━━━━━━━\u001b[0m\u001b[37m\u001b[0m \u001b[1m17s\u001b[0m 33ms/step - loss: 1.4606 - output1_accuracy: 0.8051 - output1_loss: 0.7947 - output2_accuracy: 0.8727 - output2_loss: 0.6659 - val_loss: 1.6066 - val_output1_accuracy: 0.7472 - val_output1_loss: 0.8900 - val_output2_accuracy: 0.8431 - val_output2_loss: 0.7167\n",
            "Epoch 103/110\n",
            "\u001b[1m500/500\u001b[0m \u001b[32m━━━━━━━━━━━━━━━━━━━━\u001b[0m\u001b[37m\u001b[0m \u001b[1m17s\u001b[0m 33ms/step - loss: 1.4661 - output1_accuracy: 0.7954 - output1_loss: 0.8084 - output2_accuracy: 0.8758 - output2_loss: 0.6576 - val_loss: 1.5939 - val_output1_accuracy: 0.7533 - val_output1_loss: 0.8776 - val_output2_accuracy: 0.8455 - val_output2_loss: 0.7163\n",
            "Epoch 104/110\n",
            "\u001b[1m500/500\u001b[0m \u001b[32m━━━━━━━━━━━━━━━━━━━━\u001b[0m\u001b[37m\u001b[0m \u001b[1m17s\u001b[0m 33ms/step - loss: 1.4581 - output1_accuracy: 0.8004 - output1_loss: 0.7945 - output2_accuracy: 0.8751 - output2_loss: 0.6636 - val_loss: 1.6034 - val_output1_accuracy: 0.7458 - val_output1_loss: 0.8926 - val_output2_accuracy: 0.8447 - val_output2_loss: 0.7108\n",
            "Epoch 105/110\n",
            "\u001b[1m500/500\u001b[0m \u001b[32m━━━━━━━━━━━━━━━━━━━━\u001b[0m\u001b[37m\u001b[0m \u001b[1m17s\u001b[0m 34ms/step - loss: 1.4592 - output1_accuracy: 0.8060 - output1_loss: 0.7968 - output2_accuracy: 0.8761 - output2_loss: 0.6623 - val_loss: 1.5746 - val_output1_accuracy: 0.7717 - val_output1_loss: 0.8547 - val_output2_accuracy: 0.8391 - val_output2_loss: 0.7199\n",
            "Epoch 106/110\n",
            "\u001b[1m500/500\u001b[0m \u001b[32m━━━━━━━━━━━━━━━━━━━━\u001b[0m\u001b[37m\u001b[0m \u001b[1m17s\u001b[0m 34ms/step - loss: 1.4735 - output1_accuracy: 0.8023 - output1_loss: 0.8014 - output2_accuracy: 0.8676 - output2_loss: 0.6721 - val_loss: 1.5933 - val_output1_accuracy: 0.7542 - val_output1_loss: 0.8795 - val_output2_accuracy: 0.8433 - val_output2_loss: 0.7138\n",
            "Epoch 107/110\n",
            "\u001b[1m500/500\u001b[0m \u001b[32m━━━━━━━━━━━━━━━━━━━━\u001b[0m\u001b[37m\u001b[0m \u001b[1m17s\u001b[0m 34ms/step - loss: 1.4649 - output1_accuracy: 0.8017 - output1_loss: 0.7987 - output2_accuracy: 0.8686 - output2_loss: 0.6663 - val_loss: 1.6064 - val_output1_accuracy: 0.7548 - val_output1_loss: 0.8814 - val_output2_accuracy: 0.8364 - val_output2_loss: 0.7250\n",
            "Epoch 108/110\n",
            "\u001b[1m500/500\u001b[0m \u001b[32m━━━━━━━━━━━━━━━━━━━━\u001b[0m\u001b[37m\u001b[0m \u001b[1m17s\u001b[0m 33ms/step - loss: 1.4715 - output1_accuracy: 0.7982 - output1_loss: 0.8024 - output2_accuracy: 0.8710 - output2_loss: 0.6691 - val_loss: 1.5934 - val_output1_accuracy: 0.7603 - val_output1_loss: 0.8742 - val_output2_accuracy: 0.8381 - val_output2_loss: 0.7191\n",
            "Epoch 109/110\n",
            "\u001b[1m500/500\u001b[0m \u001b[32m━━━━━━━━━━━━━━━━━━━━\u001b[0m\u001b[37m\u001b[0m \u001b[1m17s\u001b[0m 33ms/step - loss: 1.4548 - output1_accuracy: 0.8045 - output1_loss: 0.7889 - output2_accuracy: 0.8725 - output2_loss: 0.6659 - val_loss: 1.6035 - val_output1_accuracy: 0.7489 - val_output1_loss: 0.8806 - val_output2_accuracy: 0.8375 - val_output2_loss: 0.7228\n",
            "Epoch 110/110\n",
            "\u001b[1m500/500\u001b[0m \u001b[32m━━━━━━━━━━━━━━━━━━━━\u001b[0m\u001b[37m\u001b[0m \u001b[1m17s\u001b[0m 33ms/step - loss: 1.4647 - output1_accuracy: 0.7995 - output1_loss: 0.8013 - output2_accuracy: 0.8725 - output2_loss: 0.6633 - val_loss: 1.5780 - val_output1_accuracy: 0.7661 - val_output1_loss: 0.8596 - val_output2_accuracy: 0.8398 - val_output2_loss: 0.7185\n"
          ]
        }
      ]
    },
    {
      "cell_type": "code",
      "source": [
        "# Plot training and validation loss\n",
        "plt.figure(figsize=(10, 5))\n",
        "plt.plot(history.history['loss'], label='Train Loss')\n",
        "plt.plot(history.history['val_loss'], label='Validation Loss')\n",
        "plt.title('Training and Validation Loss')\n",
        "plt.xlabel('Epochs')\n",
        "plt.ylabel('Loss')\n",
        "plt.legend()\n",
        "plt.show()"
      ],
      "metadata": {
        "colab": {
          "base_uri": "https://localhost:8080/",
          "height": 487
        },
        "id": "0uKPYCcg-upa",
        "outputId": "81765974-28e8-420a-d5ac-3f352018bc22"
      },
      "execution_count": 50,
      "outputs": [
        {
          "output_type": "display_data",
          "data": {
            "text/plain": [
              "<Figure size 1000x500 with 1 Axes>"
            ],
            "image/png": "[encoded data removed]"
          },
          "metadata": {}
        }
      ]
    },
    {
      "cell_type": "code",
      "source": [
        "# Save the model weights\n",
        "model.save_weights(\"enhanced_cnn_test.weights.h5\")"
      ],
      "metadata": {
        "id": "Ho4tOH05-xJt"
      },
      "execution_count": 51,
      "outputs": []
    },
    {
      "cell_type": "code",
      "source": [
        "def eval_model(model):\n",
        "    testgen = datagenerator(cifar10_x_test_1, cifar10_x_test_2, cifar10_y_test_1, cifar10_y_test_2, 10000)\n",
        "    eval_samples_x, eval_samples_y = next(testgen)\n",
        "    predictions = model.predict(eval_samples_x)\n",
        "    pred1 = np.argmax(predictions[0], axis=1)\n",
        "    pred2 = np.argmax(predictions[1], axis=1)\n",
        "    correct_guesses_1 = pred1 == np.argmax(eval_samples_y[0], axis=1)\n",
        "    correct_guesses_2 = pred2 == np.argmax(eval_samples_y[1], axis=1)\n",
        "    return (np.mean(correct_guesses_1) + np.mean(correct_guesses_2)) / 2\n",
        "\n",
        "repeat_eval = 10\n",
        "eval_results = []\n",
        "for i in range(repeat_eval):\n",
        "    eval_results.append(eval_model(model))\n",
        "\n",
        "print(\"Mean accuracy =\", np.mean(eval_results))\n",
        "print(\"Standard deviation =\", np.std(eval_results))"
      ],
      "metadata": {
        "colab": {
          "base_uri": "https://localhost:8080/"
        },
        "id": "O8zoeQSR-zv3",
        "outputId": "422d3045-f799-4d00-db1f-2ec3c3fcaf7b"
      },
      "execution_count": 52,
      "outputs": [
        {
          "output_type": "stream",
          "name": "stdout",
          "text": [
            "\u001b[1m313/313\u001b[0m \u001b[32m━━━━━━━━━━━━━━━━━━━━\u001b[0m\u001b[37m\u001b[0m \u001b[1m5s\u001b[0m 9ms/step\n",
            "\u001b[1m313/313\u001b[0m \u001b[32m━━━━━━━━━━━━━━━━━━━━\u001b[0m\u001b[37m\u001b[0m \u001b[1m1s\u001b[0m 4ms/step\n",
            "\u001b[1m313/313\u001b[0m \u001b[32m━━━━━━━━━━━━━━━━━━━━\u001b[0m\u001b[37m\u001b[0m \u001b[1m1s\u001b[0m 4ms/step\n",
            "\u001b[1m313/313\u001b[0m \u001b[32m━━━━━━━━━━━━━━━━━━━━\u001b[0m\u001b[37m\u001b[0m \u001b[1m1s\u001b[0m 4ms/step\n",
            "\u001b[1m313/313\u001b[0m \u001b[32m━━━━━━━━━━━━━━━━━━━━\u001b[0m\u001b[37m\u001b[0m \u001b[1m1s\u001b[0m 4ms/step\n",
            "\u001b[1m313/313\u001b[0m \u001b[32m━━━━━━━━━━━━━━━━━━━━\u001b[0m\u001b[37m\u001b[0m \u001b[1m1s\u001b[0m 4ms/step\n",
            "\u001b[1m313/313\u001b[0m \u001b[32m━━━━━━━━━━━━━━━━━━━━\u001b[0m\u001b[37m\u001b[0m \u001b[1m1s\u001b[0m 4ms/step\n",
            "\u001b[1m313/313\u001b[0m \u001b[32m━━━━━━━━━━━━━━━━━━━━\u001b[0m\u001b[37m\u001b[0m \u001b[1m1s\u001b[0m 4ms/step\n",
            "\u001b[1m313/313\u001b[0m \u001b[32m━━━━━━━━━━━━━━━━━━━━\u001b[0m\u001b[37m\u001b[0m \u001b[1m1s\u001b[0m 4ms/step\n",
            "\u001b[1m313/313\u001b[0m \u001b[32m━━━━━━━━━━━━━━━━━━━━\u001b[0m\u001b[37m\u001b[0m \u001b[1m1s\u001b[0m 4ms/step\n",
            "Mean accuracy = 0.79357\n",
            "Standard deviation = 0.003169321693990679\n"
          ]
        }
      ]
    },
    {
      "cell_type": "code",
      "source": [
        "\"\"\"\n",
        "from tensorflow.keras.models import Sequential\n",
        "from tensorflow.keras.layers import Conv2D, Dropout, MaxPooling2D, Flatten, Dense\n",
        "\n",
        "from tensorflow.keras.optimizers import SGD\n",
        "from tensorflow.keras.utils import to_categorical\n",
        "\"\"\""
      ],
      "metadata": {
        "id": "vBADJtvxKPho"
      },
      "execution_count": null,
      "outputs": []
    },
    {
      "cell_type": "code",
      "source": [
        "\"\"\"\n",
        "# Create training and validation data generators\n",
        "train_gen = datagenerator(cifar10_x_train_1, cifar10_x_train_2, cifar10_y_train_1, cifar10_y_train_2, 64)\n",
        "val_gen = datagenerator(cifar10_x_val_1, cifar10_x_val_2, cifar10_y_val_1, cifar10_y_val_2, 64)\n",
        "\"\"\""
      ],
      "metadata": {
        "id": "QjStOrLfMaNJ"
      },
      "execution_count": null,
      "outputs": []
    },
    {
      "cell_type": "code",
      "source": [
        "\"\"\"\n",
        "# Create the model\n",
        "inputs = Input(shape=(32, 32, 3))\n",
        "x = Conv2D(32, (3, 3), activation='relu', padding='same')(inputs)\n",
        "x = Dropout(0.2)(x)\n",
        "x = Conv2D(32, (3, 3), activation='relu', padding='same')(x)\n",
        "x = MaxPooling2D(pool_size=(2, 2))(x)\n",
        "x = Conv2D(64, (3, 3), activation='relu', padding='same')(x)\n",
        "x = Dropout(0.2)(x)\n",
        "x = Conv2D(64, (3, 3), activation='relu', padding='same')(x)\n",
        "x = MaxPooling2D(pool_size=(2, 2))(x)\n",
        "x = Conv2D(128, (3, 3), activation='relu', padding='same')(x)\n",
        "x = Dropout(0.2)(x)\n",
        "x = Conv2D(128, (3, 3), activation='relu', padding='same')(x)\n",
        "x = MaxPooling2D(pool_size=(2, 2))(x)\n",
        "x = Flatten()(x)\n",
        "x = Dropout(0.2)(x)\n",
        "\n",
        "output1 = Dense(5, activation='softmax', name='output1')(x)\n",
        "output2 = Dense(5, activation='softmax', name='output2')(x)\n",
        "\n",
        "model = Model(inputs=inputs, outputs=[output1, output2])\n",
        "\n",
        "# Compile model\n",
        "epochs = 25  # Number of epochs\n",
        "lrate = 0.01\n",
        "decay = lrate / epochs\n",
        "sgd = SGD(learning_rate=lrate, momentum=0.9, decay=decay, nesterov=False)\n",
        "model.compile(loss='categorical_crossentropy', optimizer=sgd, metrics=['accuracy'])\n",
        "\n",
        "# Train the model\n",
        "steps_per_epoch = cifar10_x_train_1.shape[0] // 64\n",
        "validation_steps = cifar10_x_val_1.shape[0] // 64\n",
        "\n",
        "history = model.fit(\n",
        "    train_gen,\n",
        "    steps_per_epoch=steps_per_epoch,\n",
        "    validation_data=val_gen,\n",
        "    validation_steps=validation_steps,\n",
        "    epochs=epochs,\n",
        "    verbose=1\n",
        ")\n",
        "\"\"\""
      ],
      "metadata": {
        "id": "AOF-1xfVJ-l4"
      },
      "execution_count": null,
      "outputs": []
    },
    {
      "cell_type": "code",
      "source": [
        "\"\"\"\n",
        "# Evaluate the model\n",
        "def eval_model(model):\n",
        "    testgen = datagenerator(cifar10_x_test_1, cifar10_x_test_2, cifar10_y_test_1, cifar10_y_test_2, 10000)\n",
        "    eval_samples_x, eval_samples_y = next(testgen)\n",
        "    predictions = model.predict(eval_samples_x)\n",
        "    pred1 = np.argmax(predictions[0], axis=1)\n",
        "    pred2 = np.argmax(predictions[1], axis=1)\n",
        "    correct_guesses_1 = pred1 == np.argmax(eval_samples_y[0], axis=1)\n",
        "    correct_guesses_2 = pred2 == np.argmax(eval_samples_y[1], axis=1)\n",
        "    return (np.mean(correct_guesses_1) + np.mean(correct_guesses_2)) / 2\n",
        "\n",
        "repeat_eval = 10\n",
        "eval_results = []\n",
        "for i in range(repeat_eval):\n",
        "    eval_results.append(eval_model(model))\n",
        "\n",
        "print(\"Mean accuracy =\", np.mean(eval_results))\n",
        "print(\"Standard deviation =\", np.std(eval_results))\n",
        "\"\"\""
      ],
      "metadata": {
        "id": "_4Hexlz2KI2n"
      },
      "execution_count": null,
      "outputs": []
    },
    {
      "cell_type": "markdown",
      "source": [
        "### **`Additional exploration and work:`** For fine-tuning the model Transfer learning can be applied"
      ],
      "metadata": {
        "id": "PZtfrUDU2DA1"
      }
    },
    {
      "cell_type": "code",
      "source": [
        "import tensorflow as tf\n",
        "from tensorflow.keras import layers, models\n",
        "from tensorflow.keras.applications import DenseNet121\n",
        "from tensorflow.keras.optimizers import Adam\n",
        "import numpy as np\n",
        "from matplotlib import pyplot as plt"
      ],
      "metadata": {
        "id": "mE72vHeUFI3F"
      },
      "execution_count": null,
      "outputs": []
    },
    {
      "cell_type": "code",
      "source": [
        "\"\"\"\n",
        "from tensorflow.keras import layers, models\n",
        "\n",
        "# Resize CIFAR-10 images to match DenseNet121 input size\n",
        "resize_layer = layers.Lambda(lambda x: tf.image.resize(x, (224, 224)))\n",
        "\n",
        "# Build the transfer learning model with DenseNet121\n",
        "def build_model():\n",
        "    base_model = DenseNet121(weights='imagenet', include_top=False, input_shape=(224, 224, 3))\n",
        "    base_model.trainable = False  # Freeze the base model\n",
        "\n",
        "    inputs = layers.Input(shape=(32, 32, 3))\n",
        "    resized_inputs = resize_layer(inputs)\n",
        "    x = base_model(resized_inputs, training=False)\n",
        "    x = layers.GlobalAveragePooling2D()(x)\n",
        "\n",
        "    # Output branch for classes 0-4\n",
        "    x1 = layers.Dense(1024, activation='relu')(x)\n",
        "    x1 = layers.Dropout(0.2)(x1)\n",
        "    output1 = layers.Dense(5, activation='softmax', name='output1')(x1)\n",
        "\n",
        "    # Output branch for classes 5-9\n",
        "    x2 = layers.Dense(1024, activation='relu')(x)\n",
        "    x2 = layers.Dropout(0.2)(x2)\n",
        "    output2 = layers.Dense(5, activation='softmax', name='output2')(x2)\n",
        "\n",
        "    model = models.Model(inputs=inputs, outputs=[output1, output2])\n",
        "    return model\n",
        "\n",
        "# Instantiate the model\n",
        "model = build_model()\n",
        "\n",
        "# Compile the model\n",
        "model.compile(\n",
        "    optimizer=Adam(learning_rate=1e-4),\n",
        "    loss={'output1': 'categorical_crossentropy', 'output2': 'categorical_crossentropy'},\n",
        "    metrics={'output1': 'accuracy', 'output2': 'accuracy'}\n",
        ")\n",
        "\n",
        "# Prepare data generators\n",
        "train_gen = datagenerator(cifar10_x_train[cifar10_y_train[:, 0] < 5],\n",
        "                          cifar10_x_train[cifar10_y_train[:, 0] >= 5],\n",
        "                          cifar10_y_train[cifar10_y_train[:, 0] < 5],\n",
        "                          cifar10_y_train[cifar10_y_train[:, 0] >= 5], 300)\n",
        "\n",
        "val_gen = datagenerator(cifar10_x_val[cifar10_y_val[:, 0] < 5],\n",
        "                        cifar10_x_val[cifar10_y_val[:, 0] >= 5],\n",
        "                        cifar10_y_val[cifar10_y_val[:, 0] < 5],\n",
        "                        cifar10_y_val[cifar10_y_val[:, 0] >= 5], 300)\n",
        "\n",
        "# Train the model\n",
        "history = model.fit(\n",
        "    train_gen,\n",
        "    steps_per_epoch=500,  # Define appropriate steps based on dataset size\n",
        "    validation_data=val_gen,\n",
        "    validation_steps=100,\n",
        "    epochs=50,\n",
        "    verbose=1\n",
        ")\n",
        "\n",
        "# Save the model\n",
        "model.save(\"cifar10_densenet.h5\")\n",
        "\n",
        "# Define eval_model function for evaluation\n",
        "def eval_model(model):\n",
        "    testgen = datagenerator(cifar10_x_test_1, cifar10_x_test_2, cifar10_y_test_1, cifar10_y_test_2, 10000)\n",
        "    eval_samples_x, eval_samples_y = next(testgen)\n",
        "    predictions = model.predict(eval_samples_x)\n",
        "    pred1 = np.argmax(predictions[0], axis=1)\n",
        "    pred2 = np.argmax(predictions[1], axis=1)\n",
        "    correct_guesses_1 = pred1 == np.argmax(eval_samples_y[0], axis=1)\n",
        "    correct_guesses_2 = pred2 == np.argmax(eval_samples_y[1], axis=1)\n",
        "    return (np.mean(correct_guesses_1) + np.mean(correct_guesses_2)) / 2\n",
        "\n",
        "# Evaluate the model multiple times\n",
        "repeat_eval = 10\n",
        "eval_results = []\n",
        "\n",
        "for i in range(repeat_eval):\n",
        "    eval_results.append(eval_model(model))\n",
        "\n",
        "print(\"Mean accuracy =\", np.mean(eval_results))\n",
        "print(\"Standard deviation =\", np.std(eval_results))\n",
        "\"\"\""
      ],
      "metadata": {
        "id": "J2lVbWKc2B-N"
      },
      "execution_count": null,
      "outputs": []
    },
    {
      "cell_type": "markdown",
      "source": [
        "# What to Submit\n",
        "\n",
        "As usual, you need to submit a single notebook that must be executable on Colab. The notebook should be properly commented and include a complete record of the training process, as well as the calculation of accuracy according to the guidelines provided above.\n",
        "\n",
        "# Good luck!\n",
        "\n"
      ],
      "metadata": {
        "id": "j1yTRAzn4i9g"
      }
    }
  ],
  "metadata": {
    "colab": {
      "provenance": [],
      "gpuType": "A100"
    },
    "kernelspec": {
      "display_name": "Python 3",
      "name": "python3"
    },
    "language_info": {
      "name": "python"
    },
    "accelerator": "GPU"
  },
  "nbformat": 4,
  "nbformat_minor": 0
}