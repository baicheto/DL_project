{
 "cells": [
  {
   "cell_type": "code",
   "execution_count": 1,
   "metadata": {},
   "outputs": [],
   "source": [
    "import tensorflow as tf\n",
    "from tensorflow.keras import layers\n",
    "from tensorflow.keras.models import Model\n",
    "from tensorflow.keras.datasets import cifar10\n",
    "import numpy as np\n",
    "from matplotlib import pyplot as plt\n",
    "\n",
    "(cifar10_x_train, cifar10_y_train), (cifar10_x_test, cifar10_y_test) = cifar10.load_data()\n",
    "assert cifar10_x_train.shape == (50000, 32, 32, 3)\n",
    "assert cifar10_x_test.shape == (10000, 32, 32, 3)\n",
    "assert cifar10_y_train.shape == (50000, 1)\n",
    "assert cifar10_y_test.shape == (10000, 1)\n",
    "\n",
    "classes = [\"airplane\", \"automobile\", \"bird\", \"cat\", \"deer\", \"dog\", \"frog\", \"horse\", \"ship\", \"truck\"]\n",
    "\n",
    "cifar10_x_train = (cifar10_x_train / 255.).astype(np.float32)\n",
    "cifar10_x_test = (cifar10_x_test / 255.).astype(np.float32)\n",
    "\n",
    "# Split training data into train and validation sets\n",
    "val_split = 0.2\n",
    "num_val_samples = int(cifar10_x_train.shape[0] * val_split)\n",
    "\n",
    "cifar10_x_val = cifar10_x_train[:num_val_samples]\n",
    "cifar10_y_val = cifar10_y_train[:num_val_samples]\n",
    "\n",
    "cifar10_x_train = cifar10_x_train[num_val_samples:]\n",
    "cifar10_y_train = cifar10_y_train[num_val_samples:]\n",
    "\n",
    "# Separate data into two groups for training\n",
    "cond_1_train = cifar10_y_train[:, 0] < 5\n",
    "cifar10_x_train_1 = cifar10_x_train[cond_1_train]\n",
    "cifar10_y_train_1 = cifar10_y_train[cond_1_train]\n",
    "\n",
    "cond_2_train = cifar10_y_train[:, 0] >= 5\n",
    "cifar10_x_train_2 = cifar10_x_train[cond_2_train]\n",
    "cifar10_y_train_2 = cifar10_y_train[cond_2_train]\n",
    "\n",
    "# Separate validation data into two groups\n",
    "cond_1_val = cifar10_y_val[:, 0] < 5\n",
    "cifar10_x_val_1 = cifar10_x_val[cond_1_val]\n",
    "cifar10_y_val_1 = cifar10_y_val[cond_1_val]\n",
    "\n",
    "cond_2_val = cifar10_y_val[:, 0] >= 5\n",
    "cifar10_x_val_2 = cifar10_x_val[cond_2_val]\n",
    "cifar10_y_val_2 = cifar10_y_val[cond_2_val]\n",
    "\n",
    "# Separate test data into two groups\n",
    "cond_1_test = cifar10_y_test[:, 0] < 5\n",
    "cifar10_x_test_1 = cifar10_x_test[cond_1_test]\n",
    "cifar10_y_test_1 = cifar10_y_test[cond_1_test]\n",
    "\n",
    "cond_2_test = cifar10_y_test[:, 0] >= 5\n",
    "cifar10_x_test_2 = cifar10_x_test[cond_2_test]\n",
    "cifar10_y_test_2 = cifar10_y_test[cond_2_test]\n",
    "\n",
    "\n",
    "\n",
    "\n"
   ]
  },
  {
   "cell_type": "code",
   "execution_count": 2,
   "metadata": {},
   "outputs": [
    {
     "name": "stdout",
     "output_type": "stream",
     "text": [
      "first: cat, second = dog\n"
     ]
    },
    {
     "data": {
      "text/plain": [
       "<matplotlib.image.AxesImage at 0x2055cde7010>"
      ]
     },
     "execution_count": 2,
     "metadata": {},
     "output_type": "execute_result"
    },
    {
     "data": {
      "image/png": "[encoded data removed]",
      "text/plain": [
       "<Figure size 640x480 with 1 Axes>"
      ]
     },
     "metadata": {},
     "output_type": "display_data"
    }
   ],
   "source": [
    "def datagenerator(X1, X2, Y1, Y2, batchsize):\n",
    "    size1 = X1.shape[0]\n",
    "    size2 = X2.shape[0]\n",
    "    Y1_cat = tf.keras.utils.to_categorical(Y1, num_classes=5)\n",
    "    Y2_cat = tf.keras.utils.to_categorical(Y2 - 5, num_classes=5)\n",
    "\n",
    "    while True:\n",
    "        num1 = np.random.randint(0, size1, batchsize)\n",
    "        num2 = np.random.randint(0, size2, batchsize)\n",
    "        x_data = (X1[num1] + X2[num2]) / 2.0\n",
    "        y_data = (Y1_cat[num1], Y2_cat[num2])\n",
    "        yield x_data, y_data\n",
    "\n",
    "datagen = datagenerator(cifar10_x_train_1, cifar10_x_train_2, cifar10_y_train_1, cifar10_y_train_2, 1)\n",
    "x, y = next(datagen)\n",
    "\n",
    "print(\"first: {}, second = {}\".format(classes[np.argmax(y[0][0])], classes[np.argmax(y[1][0]) + 5]))\n",
    "#print(np.min(x[0]),np.max(x[0]))\n",
    "plt.imshow(x[0])"
   ]
  },
  {
   "cell_type": "code",
   "execution_count": 3,
   "metadata": {},
   "outputs": [],
   "source": [
    "def enhanced_cnn_model():\n",
    "    inputs = tf.keras.Input(shape=(32, 32, 3))\n",
    "\n",
    "    # First convolutional block\n",
    "    x = layers.Conv2D(64, (3, 3), activation='relu', padding='same')(inputs)\n",
    "    x = layers.BatchNormalization()(x)\n",
    "    x = layers.MaxPooling2D((2, 2))(x)\n",
    "\n",
    "    x = layers.Conv2D(128, (3, 3), activation='relu', padding='same')(x)\n",
    "    x = layers.BatchNormalization()(x)\n",
    "    x = layers.MaxPooling2D((2, 2))(x)\n",
    "\n",
    "    # Second convolutional block\n",
    "    x = layers.Conv2D(256, (3, 3), activation='relu', padding='same')(x)\n",
    "    x = layers.BatchNormalization()(x)\n",
    "    x = layers.MaxPooling2D((2, 2))(x)\n",
    "\n",
    "    x = layers.Conv2D(512, (3, 3), activation='relu', padding='same')(x)\n",
    "    x = layers.BatchNormalization()(x)\n",
    "    x = layers.MaxPooling2D((2, 2))(x)\n",
    "\n",
    "    # Global Average Pooling\n",
    "    x = layers.GlobalAveragePooling2D()(x)\n",
    "\n",
    "    # Fully connected layers for output 1\n",
    "    fc1_output1 = layers.Dense(1024, activation='relu')(x)\n",
    "    fc1_output1 = layers.Dropout(0.5)(fc1_output1)\n",
    "    output1 = layers.Dense(5, activation='softmax', name='output1')(fc1_output1)\n",
    "\n",
    "    # Fully connected layers for output 2\n",
    "    fc1_output2 = layers.Dense(1024, activation='relu')(x)\n",
    "    fc1_output2 = layers.Dropout(0.5)(fc1_output2)\n",
    "    output2 = layers.Dense(5, activation='softmax', name='output2')(fc1_output2)\n",
    "\n",
    "    model = Model(inputs=inputs, outputs=[output1, output2])\n",
    "    return model\n",
    "\n"
   ]
  },
  {
   "cell_type": "code",
   "execution_count": 4,
   "metadata": {},
   "outputs": [],
   "source": [
    "# Define learning rate scheduler\n",
    "initial_lr = 0.001\n",
    "scheduler = tf.keras.optimizers.schedules.ExponentialDecay(\n",
    "    initial_learning_rate=initial_lr,\n",
    "    decay_steps=10 * 500,  # Assuming 10 epochs\n",
    "    decay_rate=0.1,\n",
    "    staircase=True\n",
    ")"
   ]
  },
  {
   "cell_type": "code",
   "execution_count": 5,
   "metadata": {},
   "outputs": [
    {
     "name": "stdout",
     "output_type": "stream",
     "text": [
      "Epoch 1/20\n",
      "\u001b[1m500/500\u001b[0m \u001b[32m━━━━━━━━━━━━━━━━━━━━\u001b[0m\u001b[37m\u001b[0m \u001b[1m25s\u001b[0m 46ms/step - loss: 3.0017 - output1_accuracy: 0.3910 - output1_loss: 1.5357 - output2_accuracy: 0.4349 - output2_loss: 1.4660 - val_loss: 5.4099 - val_output1_accuracy: 0.2089 - val_output1_loss: 2.9292 - val_output2_accuracy: 0.3295 - val_output2_loss: 2.4807\n",
      "Epoch 2/20\n",
      "\u001b[1m500/500\u001b[0m \u001b[32m━━━━━━━━━━━━━━━━━━━━\u001b[0m\u001b[37m\u001b[0m \u001b[1m22s\u001b[0m 45ms/step - loss: 2.2393 - output1_accuracy: 0.4996 - output1_loss: 1.2088 - output2_accuracy: 0.6011 - output2_loss: 1.0305 - val_loss: 2.7134 - val_output1_accuracy: 0.4025 - val_output1_loss: 1.3591 - val_output2_accuracy: 0.5167 - val_output2_loss: 1.3543\n",
      "Epoch 3/20\n",
      "\u001b[1m500/500\u001b[0m \u001b[32m━━━━━━━━━━━━━━━━━━━━\u001b[0m\u001b[37m\u001b[0m \u001b[1m22s\u001b[0m 45ms/step - loss: 2.0521 - output1_accuracy: 0.5419 - output1_loss: 1.1316 - output2_accuracy: 0.6484 - output2_loss: 0.9204 - val_loss: 2.5154 - val_output1_accuracy: 0.4667 - val_output1_loss: 1.3433 - val_output2_accuracy: 0.5550 - val_output2_loss: 1.1721\n",
      "Epoch 4/20\n",
      "\u001b[1m500/500\u001b[0m \u001b[32m━━━━━━━━━━━━━━━━━━━━\u001b[0m\u001b[37m\u001b[0m \u001b[1m22s\u001b[0m 45ms/step - loss: 1.9474 - output1_accuracy: 0.5705 - output1_loss: 1.0754 - output2_accuracy: 0.6683 - output2_loss: 0.8719 - val_loss: 2.2749 - val_output1_accuracy: 0.5300 - val_output1_loss: 1.1278 - val_output2_accuracy: 0.5713 - val_output2_loss: 1.1471\n",
      "Epoch 5/20\n",
      "\u001b[1m500/500\u001b[0m \u001b[32m━━━━━━━━━━━━━━━━━━━━\u001b[0m\u001b[37m\u001b[0m \u001b[1m23s\u001b[0m 45ms/step - loss: 1.8283 - output1_accuracy: 0.5992 - output1_loss: 1.0227 - output2_accuracy: 0.6975 - output2_loss: 0.8057 - val_loss: 1.9936 - val_output1_accuracy: 0.5719 - val_output1_loss: 1.0465 - val_output2_accuracy: 0.6405 - val_output2_loss: 0.9471\n",
      "Epoch 6/20\n",
      "\u001b[1m500/500\u001b[0m \u001b[32m━━━━━━━━━━━━━━━━━━━━\u001b[0m\u001b[37m\u001b[0m \u001b[1m23s\u001b[0m 45ms/step - loss: 1.7779 - output1_accuracy: 0.6125 - output1_loss: 0.9962 - output2_accuracy: 0.7083 - output2_loss: 0.7817 - val_loss: 2.7941 - val_output1_accuracy: 0.4770 - val_output1_loss: 1.4011 - val_output2_accuracy: 0.5481 - val_output2_loss: 1.3931\n",
      "Epoch 7/20\n",
      "\u001b[1m500/500\u001b[0m \u001b[32m━━━━━━━━━━━━━━━━━━━━\u001b[0m\u001b[37m\u001b[0m \u001b[1m23s\u001b[0m 45ms/step - loss: 1.7056 - output1_accuracy: 0.6173 - output1_loss: 0.9680 - output2_accuracy: 0.7220 - output2_loss: 0.7376 - val_loss: 2.3298 - val_output1_accuracy: 0.5697 - val_output1_loss: 1.1099 - val_output2_accuracy: 0.5797 - val_output2_loss: 1.2199\n",
      "Epoch 8/20\n",
      "\u001b[1m500/500\u001b[0m \u001b[32m━━━━━━━━━━━━━━━━━━━━\u001b[0m\u001b[37m\u001b[0m \u001b[1m23s\u001b[0m 45ms/step - loss: 1.6575 - output1_accuracy: 0.6312 - output1_loss: 0.9396 - output2_accuracy: 0.7330 - output2_loss: 0.7179 - val_loss: 2.0319 - val_output1_accuracy: 0.5523 - val_output1_loss: 1.1288 - val_output2_accuracy: 0.6680 - val_output2_loss: 0.9031\n",
      "Epoch 9/20\n",
      "\u001b[1m500/500\u001b[0m \u001b[32m━━━━━━━━━━━━━━━━━━━━\u001b[0m\u001b[37m\u001b[0m \u001b[1m23s\u001b[0m 45ms/step - loss: 1.5999 - output1_accuracy: 0.6453 - output1_loss: 0.9144 - output2_accuracy: 0.7428 - output2_loss: 0.6854 - val_loss: 2.2112 - val_output1_accuracy: 0.5525 - val_output1_loss: 1.2515 - val_output2_accuracy: 0.6413 - val_output2_loss: 0.9596\n",
      "Epoch 10/20\n",
      "\u001b[1m500/500\u001b[0m \u001b[32m━━━━━━━━━━━━━━━━━━━━\u001b[0m\u001b[37m\u001b[0m \u001b[1m23s\u001b[0m 45ms/step - loss: 1.5645 - output1_accuracy: 0.6502 - output1_loss: 0.8939 - output2_accuracy: 0.7562 - output2_loss: 0.6706 - val_loss: 2.5330 - val_output1_accuracy: 0.5516 - val_output1_loss: 1.0906 - val_output2_accuracy: 0.5013 - val_output2_loss: 1.4425\n",
      "Epoch 11/20\n",
      "\u001b[1m500/500\u001b[0m \u001b[32m━━━━━━━━━━━━━━━━━━━━\u001b[0m\u001b[37m\u001b[0m \u001b[1m23s\u001b[0m 46ms/step - loss: 1.4557 - output1_accuracy: 0.6715 - output1_loss: 0.8460 - output2_accuracy: 0.7770 - output2_loss: 0.6096 - val_loss: 1.5131 - val_output1_accuracy: 0.6617 - val_output1_loss: 0.8703 - val_output2_accuracy: 0.7559 - val_output2_loss: 0.6428\n",
      "Epoch 12/20\n",
      "\u001b[1m500/500\u001b[0m \u001b[32m━━━━━━━━━━━━━━━━━━━━\u001b[0m\u001b[37m\u001b[0m \u001b[1m23s\u001b[0m 46ms/step - loss: 1.3613 - output1_accuracy: 0.6935 - output1_loss: 0.7958 - output2_accuracy: 0.7948 - output2_loss: 0.5655 - val_loss: 1.5247 - val_output1_accuracy: 0.6664 - val_output1_loss: 0.8633 - val_output2_accuracy: 0.7569 - val_output2_loss: 0.6613\n",
      "Epoch 13/20\n",
      "\u001b[1m500/500\u001b[0m \u001b[32m━━━━━━━━━━━━━━━━━━━━\u001b[0m\u001b[37m\u001b[0m \u001b[1m23s\u001b[0m 46ms/step - loss: 1.3456 - output1_accuracy: 0.6951 - output1_loss: 0.7932 - output2_accuracy: 0.7995 - output2_loss: 0.5525 - val_loss: 1.5172 - val_output1_accuracy: 0.6639 - val_output1_loss: 0.8631 - val_output2_accuracy: 0.7594 - val_output2_loss: 0.6541\n",
      "Epoch 14/20\n",
      "\u001b[1m500/500\u001b[0m \u001b[32m━━━━━━━━━━━━━━━━━━━━\u001b[0m\u001b[37m\u001b[0m \u001b[1m23s\u001b[0m 45ms/step - loss: 1.3197 - output1_accuracy: 0.7069 - output1_loss: 0.7603 - output2_accuracy: 0.7953 - output2_loss: 0.5594 - val_loss: 1.5271 - val_output1_accuracy: 0.6597 - val_output1_loss: 0.8625 - val_output2_accuracy: 0.7625 - val_output2_loss: 0.6646\n",
      "Epoch 15/20\n",
      "\u001b[1m500/500\u001b[0m \u001b[32m━━━━━━━━━━━━━━━━━━━━\u001b[0m\u001b[37m\u001b[0m \u001b[1m23s\u001b[0m 46ms/step - loss: 1.3032 - output1_accuracy: 0.7060 - output1_loss: 0.7612 - output2_accuracy: 0.8037 - output2_loss: 0.5421 - val_loss: 1.5296 - val_output1_accuracy: 0.6580 - val_output1_loss: 0.8621 - val_output2_accuracy: 0.7581 - val_output2_loss: 0.6674\n",
      "Epoch 16/20\n",
      "\u001b[1m500/500\u001b[0m \u001b[32m━━━━━━━━━━━━━━━━━━━━\u001b[0m\u001b[37m\u001b[0m \u001b[1m23s\u001b[0m 46ms/step - loss: 1.2849 - output1_accuracy: 0.7110 - output1_loss: 0.7508 - output2_accuracy: 0.8073 - output2_loss: 0.5340 - val_loss: 1.5154 - val_output1_accuracy: 0.6609 - val_output1_loss: 0.8770 - val_output2_accuracy: 0.7689 - val_output2_loss: 0.6385\n",
      "Epoch 17/20\n",
      "\u001b[1m500/500\u001b[0m \u001b[32m━━━━━━━━━━━━━━━━━━━━\u001b[0m\u001b[37m\u001b[0m \u001b[1m23s\u001b[0m 45ms/step - loss: 1.2715 - output1_accuracy: 0.7125 - output1_loss: 0.7431 - output2_accuracy: 0.8064 - output2_loss: 0.5285 - val_loss: 1.4773 - val_output1_accuracy: 0.6734 - val_output1_loss: 0.8380 - val_output2_accuracy: 0.7686 - val_output2_loss: 0.6394\n",
      "Epoch 18/20\n",
      "\u001b[1m500/500\u001b[0m \u001b[32m━━━━━━━━━━━━━━━━━━━━\u001b[0m\u001b[37m\u001b[0m \u001b[1m23s\u001b[0m 45ms/step - loss: 1.2533 - output1_accuracy: 0.7180 - output1_loss: 0.7369 - output2_accuracy: 0.8109 - output2_loss: 0.5164 - val_loss: 1.5048 - val_output1_accuracy: 0.6712 - val_output1_loss: 0.8504 - val_output2_accuracy: 0.7652 - val_output2_loss: 0.6544\n",
      "Epoch 19/20\n",
      "\u001b[1m500/500\u001b[0m \u001b[32m━━━━━━━━━━━━━━━━━━━━\u001b[0m\u001b[37m\u001b[0m \u001b[1m23s\u001b[0m 45ms/step - loss: 1.2413 - output1_accuracy: 0.7178 - output1_loss: 0.7312 - output2_accuracy: 0.8136 - output2_loss: 0.5101 - val_loss: 1.4904 - val_output1_accuracy: 0.6745 - val_output1_loss: 0.8669 - val_output2_accuracy: 0.7741 - val_output2_loss: 0.6235\n",
      "Epoch 20/20\n",
      "\u001b[1m500/500\u001b[0m \u001b[32m━━━━━━━━━━━━━━━━━━━━\u001b[0m\u001b[37m\u001b[0m \u001b[1m23s\u001b[0m 45ms/step - loss: 1.2431 - output1_accuracy: 0.7152 - output1_loss: 0.7318 - output2_accuracy: 0.8117 - output2_loss: 0.5113 - val_loss: 1.4702 - val_output1_accuracy: 0.6670 - val_output1_loss: 0.8534 - val_output2_accuracy: 0.7709 - val_output2_loss: 0.6168\n"
     ]
    }
   ],
   "source": [
    "model = enhanced_cnn_model()\n",
    "model.compile(optimizer=tf.keras.optimizers.Adam(learning_rate=scheduler),\n",
    "              loss={'output1': 'categorical_crossentropy', 'output2': 'categorical_crossentropy'},\n",
    "              metrics={'output1': 'accuracy', 'output2': 'accuracy'})\n",
    "\n",
    "\n",
    "train_gen = datagenerator(cifar10_x_train_1, cifar10_x_train_2, cifar10_y_train_1, cifar10_y_train_2, 64)\n",
    "val_gen = datagenerator(cifar10_x_val_1, cifar10_x_val_2, cifar10_y_val_1, cifar10_y_val_2, 64)\n",
    "\n",
    "history = model.fit(\n",
    "    train_gen,\n",
    "    steps_per_epoch=500,\n",
    "    epochs=20,\n",
    "    validation_data=val_gen,\n",
    "    validation_steps=100\n",
    ")\n",
    "\n"
   ]
  },
  {
   "cell_type": "code",
   "execution_count": 6,
   "metadata": {},
   "outputs": [
    {
     "name": "stdout",
     "output_type": "stream",
     "text": [
      "\u001b[1m313/313\u001b[0m \u001b[32m━━━━━━━━━━━━━━━━━━━━\u001b[0m\u001b[37m\u001b[0m \u001b[1m2s\u001b[0m 5ms/step\n",
      "\u001b[1m313/313\u001b[0m \u001b[32m━━━━━━━━━━━━━━━━━━━━\u001b[0m\u001b[37m\u001b[0m \u001b[1m2s\u001b[0m 5ms/step\n",
      "\u001b[1m313/313\u001b[0m \u001b[32m━━━━━━━━━━━━━━━━━━━━\u001b[0m\u001b[37m\u001b[0m \u001b[1m2s\u001b[0m 5ms/step\n",
      "\u001b[1m313/313\u001b[0m \u001b[32m━━━━━━━━━━━━━━━━━━━━\u001b[0m\u001b[37m\u001b[0m \u001b[1m2s\u001b[0m 5ms/step\n",
      "\u001b[1m313/313\u001b[0m \u001b[32m━━━━━━━━━━━━━━━━━━━━\u001b[0m\u001b[37m\u001b[0m \u001b[1m2s\u001b[0m 5ms/step\n",
      "\u001b[1m313/313\u001b[0m \u001b[32m━━━━━━━━━━━━━━━━━━━━\u001b[0m\u001b[37m\u001b[0m \u001b[1m2s\u001b[0m 5ms/step\n",
      "\u001b[1m313/313\u001b[0m \u001b[32m━━━━━━━━━━━━━━━━━━━━\u001b[0m\u001b[37m\u001b[0m \u001b[1m2s\u001b[0m 5ms/step\n",
      "\u001b[1m313/313\u001b[0m \u001b[32m━━━━━━━━━━━━━━━━━━━━\u001b[0m\u001b[37m\u001b[0m \u001b[1m2s\u001b[0m 5ms/step\n",
      "\u001b[1m313/313\u001b[0m \u001b[32m━━━━━━━━━━━━━━━━━━━━\u001b[0m\u001b[37m\u001b[0m \u001b[1m2s\u001b[0m 5ms/step\n",
      "\u001b[1m313/313\u001b[0m \u001b[32m━━━━━━━━━━━━━━━━━━━━\u001b[0m\u001b[37m\u001b[0m \u001b[1m2s\u001b[0m 5ms/step\n",
      "Mean accuracy = 0.717915\n",
      "Standard deviation = 0.0026486836353177183\n"
     ]
    }
   ],
   "source": [
    "def eval_model(model):\n",
    "    testgen = datagenerator(cifar10_x_test_1, cifar10_x_test_2, cifar10_y_test_1, cifar10_y_test_2, 10000)\n",
    "    eval_samples_x, eval_samples_y = next(testgen)\n",
    "    predictions = model.predict(eval_samples_x)\n",
    "    pred1 = np.argmax(predictions[0], axis=1)\n",
    "    pred2 = np.argmax(predictions[1], axis=1)\n",
    "    correct_guesses_1 = pred1 == np.argmax(eval_samples_y[0], axis=1)\n",
    "    correct_guesses_2 = pred2 == np.argmax(eval_samples_y[1], axis=1)\n",
    "    return (np.mean(correct_guesses_1) + np.mean(correct_guesses_2)) / 2\n",
    "\n",
    "repeat_eval = 10\n",
    "eval_results = []\n",
    "for i in range(repeat_eval):\n",
    "    eval_results.append(eval_model(model))\n",
    "\n",
    "print(\"Mean accuracy =\", np.mean(eval_results))\n",
    "print(\"Standard deviation =\", np.std(eval_results))"
   ]
  }
 ],
 "metadata": {
  "kernelspec": {
   "display_name": "Python 3",
   "language": "python",
   "name": "python3"
  },
  "language_info": {
   "codemirror_mode": {
    "name": "ipython",
    "version": 3
   },
   "file_extension": ".py",
   "mimetype": "text/x-python",
   "name": "python",
   "nbconvert_exporter": "python",
   "pygments_lexer": "ipython3",
   "version": "3.11.9"
  }
 },
 "nbformat": 4,
 "nbformat_minor": 2
}
