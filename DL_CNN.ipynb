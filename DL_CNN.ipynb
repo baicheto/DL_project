{
 "cells": [
  {
   "cell_type": "code",
   "execution_count": 1,
   "metadata": {},
   "outputs": [],
   "source": [
    "import tensorflow as tf\n",
    "from tensorflow.keras import layers\n",
    "from tensorflow.keras.models import Model\n",
    "from tensorflow.keras.datasets import cifar10\n",
    "import numpy as np\n",
    "from matplotlib import pyplot as plt\n",
    "\n",
    "(cifar10_x_train, cifar10_y_train), (cifar10_x_test, cifar10_y_test) = cifar10.load_data()\n",
    "assert cifar10_x_train.shape == (50000, 32, 32, 3)\n",
    "assert cifar10_x_test.shape == (10000, 32, 32, 3)\n",
    "assert cifar10_y_train.shape == (50000, 1)\n",
    "assert cifar10_y_test.shape == (10000, 1)\n",
    "\n",
    "classes = [\"airplane\", \"automobile\", \"bird\", \"cat\", \"deer\", \"dog\", \"frog\", \"horse\", \"ship\", \"truck\"]\n",
    "\n",
    "cifar10_x_train = (cifar10_x_train / 255.).astype(np.float32)\n",
    "cifar10_x_test = (cifar10_x_test / 255.).astype(np.float32)\n",
    "\n",
    "# Split training data into train and validation sets\n",
    "val_split = 0.2\n",
    "num_val_samples = int(cifar10_x_train.shape[0] * val_split)\n",
    "\n",
    "cifar10_x_val = cifar10_x_train[:num_val_samples]\n",
    "cifar10_y_val = cifar10_y_train[:num_val_samples]\n",
    "\n",
    "cifar10_x_train = cifar10_x_train[num_val_samples:]\n",
    "cifar10_y_train = cifar10_y_train[num_val_samples:]\n",
    "\n",
    "# Separate data into two groups for training\n",
    "cond_1_train = cifar10_y_train[:, 0] < 5\n",
    "cifar10_x_train_1 = cifar10_x_train[cond_1_train]\n",
    "cifar10_y_train_1 = cifar10_y_train[cond_1_train]\n",
    "\n",
    "cond_2_train = cifar10_y_train[:, 0] >= 5\n",
    "cifar10_x_train_2 = cifar10_x_train[cond_2_train]\n",
    "cifar10_y_train_2 = cifar10_y_train[cond_2_train]\n",
    "\n",
    "# Separate validation data into two groups\n",
    "cond_1_val = cifar10_y_val[:, 0] < 5\n",
    "cifar10_x_val_1 = cifar10_x_val[cond_1_val]\n",
    "cifar10_y_val_1 = cifar10_y_val[cond_1_val]\n",
    "\n",
    "cond_2_val = cifar10_y_val[:, 0] >= 5\n",
    "cifar10_x_val_2 = cifar10_x_val[cond_2_val]\n",
    "cifar10_y_val_2 = cifar10_y_val[cond_2_val]\n",
    "\n",
    "# Separate test data into two groups\n",
    "cond_1_test = cifar10_y_test[:, 0] < 5\n",
    "cifar10_x_test_1 = cifar10_x_test[cond_1_test]\n",
    "cifar10_y_test_1 = cifar10_y_test[cond_1_test]\n",
    "\n",
    "cond_2_test = cifar10_y_test[:, 0] >= 5\n",
    "cifar10_x_test_2 = cifar10_x_test[cond_2_test]\n",
    "cifar10_y_test_2 = cifar10_y_test[cond_2_test]\n",
    "\n",
    "\n",
    "\n",
    "\n"
   ]
  },
  {
   "cell_type": "code",
   "execution_count": 2,
   "metadata": {},
   "outputs": [
    {
     "name": "stdout",
     "output_type": "stream",
     "text": [
      "first: cat, second = horse\n"
     ]
    },
    {
     "data": {
      "text/plain": [
       "<matplotlib.image.AxesImage at 0x1a179902cd0>"
      ]
     },
     "execution_count": 2,
     "metadata": {},
     "output_type": "execute_result"
    },
    {
     "data": {
      "image/png": "[encoded data removed]",
      "text/plain": [
       "<Figure size 640x480 with 1 Axes>"
      ]
     },
     "metadata": {},
     "output_type": "display_data"
    }
   ],
   "source": [
    "def datagenerator(X1, X2, Y1, Y2, batchsize):\n",
    "    size1 = X1.shape[0]\n",
    "    size2 = X2.shape[0]\n",
    "    Y1_cat = tf.keras.utils.to_categorical(Y1, num_classes=5)\n",
    "    Y2_cat = tf.keras.utils.to_categorical(Y2 - 5, num_classes=5)\n",
    "\n",
    "    while True:\n",
    "        num1 = np.random.randint(0, size1, batchsize)\n",
    "        num2 = np.random.randint(0, size2, batchsize)\n",
    "        x_data = (X1[num1] + X2[num2]) / 2.0\n",
    "        y_data = (Y1_cat[num1], Y2_cat[num2])\n",
    "        yield x_data, y_data\n",
    "\n",
    "datagen = datagenerator(cifar10_x_train_1, cifar10_x_train_2, cifar10_y_train_1, cifar10_y_train_2, 1)\n",
    "x, y = next(datagen)\n",
    "\n",
    "print(\"first: {}, second = {}\".format(classes[np.argmax(y[0][0])], classes[np.argmax(y[1][0]) + 5]))\n",
    "#print(np.min(x[0]),np.max(x[0]))\n",
    "plt.imshow(x[0])"
   ]
  },
  {
   "cell_type": "code",
   "execution_count": 3,
   "metadata": {},
   "outputs": [],
   "source": [
    "def enhanced_cnn_model():\n",
    "    inputs = tf.keras.Input(shape=(32, 32, 3))\n",
    "\n",
    "    # First convolutional block\n",
    "    x = layers.Conv2D(64, (3, 3), activation='relu', padding='same')(inputs)\n",
    "    x = layers.BatchNormalization()(x)\n",
    "    x = layers.MaxPooling2D((2, 2))(x)\n",
    "\n",
    "    x = layers.Conv2D(128, (3, 3), activation='relu', padding='same')(x)\n",
    "    x = layers.BatchNormalization()(x)\n",
    "    x = layers.MaxPooling2D((2, 2))(x)\n",
    "\n",
    "    # Second convolutional block\n",
    "    x = layers.Conv2D(256, (3, 3), activation='relu', padding='same')(x)\n",
    "    x = layers.BatchNormalization()(x)\n",
    "    x = layers.MaxPooling2D((2, 2))(x)\n",
    "\n",
    "    x = layers.Conv2D(512, (3, 3), activation='relu', padding='same')(x)\n",
    "    x = layers.BatchNormalization()(x)\n",
    "    x = layers.MaxPooling2D((2, 2))(x)\n",
    "\n",
    "    # Global Average Pooling\n",
    "    x = layers.GlobalAveragePooling2D()(x)\n",
    "\n",
    "    # Fully connected layers for output 1\n",
    "    fc1_output1 = layers.Dense(1024, activation='relu')(x)\n",
    "    fc1_output1 = layers.Dropout(0.5)(fc1_output1)\n",
    "    output1 = layers.Dense(5, activation='softmax', name='output1')(fc1_output1)\n",
    "\n",
    "    # Fully connected layers for output 2\n",
    "    fc1_output2 = layers.Dense(1024, activation='relu')(x)\n",
    "    fc1_output2 = layers.Dropout(0.5)(fc1_output2)\n",
    "    output2 = layers.Dense(5, activation='softmax', name='output2')(fc1_output2)\n",
    "\n",
    "    model = Model(inputs=inputs, outputs=[output1, output2])\n",
    "    return model\n",
    "\n"
   ]
  },
  {
   "cell_type": "code",
   "execution_count": null,
   "metadata": {},
   "outputs": [],
   "source": []
  },
  {
   "cell_type": "code",
   "execution_count": 4,
   "metadata": {},
   "outputs": [
    {
     "name": "stdout",
     "output_type": "stream",
     "text": [
      "Epoch 1/20\n",
      "\u001b[1m500/500\u001b[0m \u001b[32m━━━━━━━━━━━━━━━━━━━━\u001b[0m\u001b[37m\u001b[0m \u001b[1m25s\u001b[0m 47ms/step - loss: 3.0055 - output1_accuracy: 0.3897 - output1_loss: 1.5281 - output2_accuracy: 0.4405 - output2_loss: 1.4775 - val_loss: 4.4126 - val_output1_accuracy: 0.2362 - val_output1_loss: 2.4641 - val_output2_accuracy: 0.3964 - val_output2_loss: 1.9485\n",
      "Epoch 2/20\n",
      "\u001b[1m500/500\u001b[0m \u001b[32m━━━━━━━━━━━━━━━━━━━━\u001b[0m\u001b[37m\u001b[0m \u001b[1m23s\u001b[0m 45ms/step - loss: 2.2608 - output1_accuracy: 0.4953 - output1_loss: 1.2225 - output2_accuracy: 0.5966 - output2_loss: 1.0383 - val_loss: 3.0727 - val_output1_accuracy: 0.4062 - val_output1_loss: 1.5499 - val_output2_accuracy: 0.5197 - val_output2_loss: 1.5228\n",
      "Epoch 3/20\n",
      "\u001b[1m500/500\u001b[0m \u001b[32m━━━━━━━━━━━━━━━━━━━━\u001b[0m\u001b[37m\u001b[0m \u001b[1m23s\u001b[0m 45ms/step - loss: 2.0668 - output1_accuracy: 0.5449 - output1_loss: 1.1313 - output2_accuracy: 0.6461 - output2_loss: 0.9355 - val_loss: 3.4467 - val_output1_accuracy: 0.4052 - val_output1_loss: 1.8767 - val_output2_accuracy: 0.4566 - val_output2_loss: 1.5700\n",
      "Epoch 4/20\n",
      "\u001b[1m500/500\u001b[0m \u001b[32m━━━━━━━━━━━━━━━━━━━━\u001b[0m\u001b[37m\u001b[0m \u001b[1m23s\u001b[0m 45ms/step - loss: 1.9212 - output1_accuracy: 0.5804 - output1_loss: 1.0624 - output2_accuracy: 0.6804 - output2_loss: 0.8587 - val_loss: 2.1292 - val_output1_accuracy: 0.5136 - val_output1_loss: 1.1726 - val_output2_accuracy: 0.6417 - val_output2_loss: 0.9566\n",
      "Epoch 5/20\n",
      "\u001b[1m500/500\u001b[0m \u001b[32m━━━━━━━━━━━━━━━━━━━━\u001b[0m\u001b[37m\u001b[0m \u001b[1m23s\u001b[0m 46ms/step - loss: 1.8485 - output1_accuracy: 0.5885 - output1_loss: 1.0357 - output2_accuracy: 0.6954 - output2_loss: 0.8128 - val_loss: 2.1565 - val_output1_accuracy: 0.5163 - val_output1_loss: 1.1937 - val_output2_accuracy: 0.6347 - val_output2_loss: 0.9627\n",
      "Epoch 6/20\n",
      "\u001b[1m500/500\u001b[0m \u001b[32m━━━━━━━━━━━━━━━━━━━━\u001b[0m\u001b[37m\u001b[0m \u001b[1m23s\u001b[0m 46ms/step - loss: 1.7951 - output1_accuracy: 0.6003 - output1_loss: 1.0088 - output2_accuracy: 0.7054 - output2_loss: 0.7863 - val_loss: 2.7222 - val_output1_accuracy: 0.5691 - val_output1_loss: 1.0902 - val_output2_accuracy: 0.4522 - val_output2_loss: 1.6320\n",
      "Epoch 7/20\n",
      "\u001b[1m500/500\u001b[0m \u001b[32m━━━━━━━━━━━━━━━━━━━━\u001b[0m\u001b[37m\u001b[0m \u001b[1m23s\u001b[0m 46ms/step - loss: 1.7117 - output1_accuracy: 0.6181 - output1_loss: 0.9775 - output2_accuracy: 0.7288 - output2_loss: 0.7342 - val_loss: 2.3004 - val_output1_accuracy: 0.5230 - val_output1_loss: 1.2161 - val_output2_accuracy: 0.6266 - val_output2_loss: 1.0843\n",
      "Epoch 8/20\n",
      "\u001b[1m500/500\u001b[0m \u001b[32m━━━━━━━━━━━━━━━━━━━━\u001b[0m\u001b[37m\u001b[0m \u001b[1m23s\u001b[0m 46ms/step - loss: 1.6561 - output1_accuracy: 0.6346 - output1_loss: 0.9365 - output2_accuracy: 0.7367 - output2_loss: 0.7196 - val_loss: 2.1903 - val_output1_accuracy: 0.4875 - val_output1_loss: 1.2807 - val_output2_accuracy: 0.6505 - val_output2_loss: 0.9096\n",
      "Epoch 9/20\n",
      "\u001b[1m500/500\u001b[0m \u001b[32m━━━━━━━━━━━━━━━━━━━━\u001b[0m\u001b[37m\u001b[0m \u001b[1m23s\u001b[0m 46ms/step - loss: 1.6024 - output1_accuracy: 0.6424 - output1_loss: 0.9110 - output2_accuracy: 0.7441 - output2_loss: 0.6915 - val_loss: 2.1812 - val_output1_accuracy: 0.6025 - val_output1_loss: 1.0489 - val_output2_accuracy: 0.6333 - val_output2_loss: 1.1323\n",
      "Epoch 10/20\n",
      "\u001b[1m500/500\u001b[0m \u001b[32m━━━━━━━━━━━━━━━━━━━━\u001b[0m\u001b[37m\u001b[0m \u001b[1m23s\u001b[0m 46ms/step - loss: 1.5719 - output1_accuracy: 0.6478 - output1_loss: 0.9034 - output2_accuracy: 0.7537 - output2_loss: 0.6686 - val_loss: 2.0728 - val_output1_accuracy: 0.5277 - val_output1_loss: 1.2019 - val_output2_accuracy: 0.6798 - val_output2_loss: 0.8709\n",
      "Epoch 11/20\n",
      "\u001b[1m500/500\u001b[0m \u001b[32m━━━━━━━━━━━━━━━━━━━━\u001b[0m\u001b[37m\u001b[0m \u001b[1m23s\u001b[0m 46ms/step - loss: 1.5465 - output1_accuracy: 0.6588 - output1_loss: 0.8778 - output2_accuracy: 0.7502 - output2_loss: 0.6687 - val_loss: 2.2239 - val_output1_accuracy: 0.5327 - val_output1_loss: 1.3135 - val_output2_accuracy: 0.6584 - val_output2_loss: 0.9104\n",
      "Epoch 12/20\n",
      "\u001b[1m500/500\u001b[0m \u001b[32m━━━━━━━━━━━━━━━━━━━━\u001b[0m\u001b[37m\u001b[0m \u001b[1m23s\u001b[0m 46ms/step - loss: 1.4758 - output1_accuracy: 0.6683 - output1_loss: 0.8526 - output2_accuracy: 0.7709 - output2_loss: 0.6233 - val_loss: 1.8644 - val_output1_accuracy: 0.6139 - val_output1_loss: 1.0180 - val_output2_accuracy: 0.6966 - val_output2_loss: 0.8463\n",
      "Epoch 13/20\n",
      "\u001b[1m500/500\u001b[0m \u001b[32m━━━━━━━━━━━━━━━━━━━━\u001b[0m\u001b[37m\u001b[0m \u001b[1m23s\u001b[0m 46ms/step - loss: 1.4914 - output1_accuracy: 0.6682 - output1_loss: 0.8600 - output2_accuracy: 0.7693 - output2_loss: 0.6314 - val_loss: 1.7793 - val_output1_accuracy: 0.6242 - val_output1_loss: 0.9718 - val_output2_accuracy: 0.6984 - val_output2_loss: 0.8075\n",
      "Epoch 14/20\n",
      "\u001b[1m500/500\u001b[0m \u001b[32m━━━━━━━━━━━━━━━━━━━━\u001b[0m\u001b[37m\u001b[0m \u001b[1m23s\u001b[0m 46ms/step - loss: 1.4139 - output1_accuracy: 0.6868 - output1_loss: 0.8107 - output2_accuracy: 0.7787 - output2_loss: 0.6032 - val_loss: 1.7423 - val_output1_accuracy: 0.6153 - val_output1_loss: 0.9531 - val_output2_accuracy: 0.7086 - val_output2_loss: 0.7892\n",
      "Epoch 15/20\n",
      "\u001b[1m500/500\u001b[0m \u001b[32m━━━━━━━━━━━━━━━━━━━━\u001b[0m\u001b[37m\u001b[0m \u001b[1m23s\u001b[0m 46ms/step - loss: 1.3963 - output1_accuracy: 0.6858 - output1_loss: 0.8093 - output2_accuracy: 0.7859 - output2_loss: 0.5870 - val_loss: 2.0150 - val_output1_accuracy: 0.5717 - val_output1_loss: 1.1669 - val_output2_accuracy: 0.6963 - val_output2_loss: 0.8481\n",
      "Epoch 16/20\n",
      "\u001b[1m500/500\u001b[0m \u001b[32m━━━━━━━━━━━━━━━━━━━━\u001b[0m\u001b[37m\u001b[0m \u001b[1m23s\u001b[0m 46ms/step - loss: 1.3880 - output1_accuracy: 0.6940 - output1_loss: 0.7989 - output2_accuracy: 0.7844 - output2_loss: 0.5892 - val_loss: 1.9956 - val_output1_accuracy: 0.5841 - val_output1_loss: 1.1336 - val_output2_accuracy: 0.6925 - val_output2_loss: 0.8620\n",
      "Epoch 17/20\n",
      "\u001b[1m500/500\u001b[0m \u001b[32m━━━━━━━━━━━━━━━━━━━━\u001b[0m\u001b[37m\u001b[0m \u001b[1m23s\u001b[0m 47ms/step - loss: 1.3584 - output1_accuracy: 0.6963 - output1_loss: 0.7867 - output2_accuracy: 0.7909 - output2_loss: 0.5716 - val_loss: 1.8812 - val_output1_accuracy: 0.6153 - val_output1_loss: 1.0240 - val_output2_accuracy: 0.6752 - val_output2_loss: 0.8572\n",
      "Epoch 18/20\n",
      "\u001b[1m500/500\u001b[0m \u001b[32m━━━━━━━━━━━━━━━━━━━━\u001b[0m\u001b[37m\u001b[0m \u001b[1m23s\u001b[0m 46ms/step - loss: 1.3516 - output1_accuracy: 0.6981 - output1_loss: 0.7840 - output2_accuracy: 0.7943 - output2_loss: 0.5676 - val_loss: 1.9393 - val_output1_accuracy: 0.6380 - val_output1_loss: 0.9569 - val_output2_accuracy: 0.6678 - val_output2_loss: 0.9823\n",
      "Epoch 19/20\n",
      "\u001b[1m500/500\u001b[0m \u001b[32m━━━━━━━━━━━━━━━━━━━━\u001b[0m\u001b[37m\u001b[0m \u001b[1m23s\u001b[0m 46ms/step - loss: 1.3024 - output1_accuracy: 0.7103 - output1_loss: 0.7555 - output2_accuracy: 0.8041 - output2_loss: 0.5469 - val_loss: 1.8438 - val_output1_accuracy: 0.6086 - val_output1_loss: 1.0396 - val_output2_accuracy: 0.7059 - val_output2_loss: 0.8042\n",
      "Epoch 20/20\n",
      "\u001b[1m500/500\u001b[0m \u001b[32m━━━━━━━━━━━━━━━━━━━━\u001b[0m\u001b[37m\u001b[0m \u001b[1m23s\u001b[0m 46ms/step - loss: 1.3059 - output1_accuracy: 0.7122 - output1_loss: 0.7523 - output2_accuracy: 0.7985 - output2_loss: 0.5536 - val_loss: 1.8712 - val_output1_accuracy: 0.6025 - val_output1_loss: 1.0203 - val_output2_accuracy: 0.7056 - val_output2_loss: 0.8510\n"
     ]
    }
   ],
   "source": [
    "model = enhanced_cnn_model()\n",
    "model.compile(optimizer='adam',\n",
    "              loss={'output1': 'categorical_crossentropy', 'output2': 'categorical_crossentropy'},\n",
    "              metrics={'output1': 'accuracy', 'output2': 'accuracy'})\n",
    "\n",
    "train_gen = datagenerator(cifar10_x_train_1, cifar10_x_train_2, cifar10_y_train_1, cifar10_y_train_2, 64)\n",
    "val_gen = datagenerator(cifar10_x_val_1, cifar10_x_val_2, cifar10_y_val_1, cifar10_y_val_2, 64)\n",
    "\n",
    "history = model.fit(\n",
    "    train_gen,\n",
    "    steps_per_epoch=500,\n",
    "    epochs=20,\n",
    "    validation_data=val_gen,\n",
    "    validation_steps=100\n",
    ")\n",
    "\n"
   ]
  },
  {
   "cell_type": "code",
   "execution_count": 5,
   "metadata": {},
   "outputs": [
    {
     "name": "stdout",
     "output_type": "stream",
     "text": [
      "\u001b[1m313/313\u001b[0m \u001b[32m━━━━━━━━━━━━━━━━━━━━\u001b[0m\u001b[37m\u001b[0m \u001b[1m2s\u001b[0m 6ms/step\n",
      "\u001b[1m313/313\u001b[0m \u001b[32m━━━━━━━━━━━━━━━━━━━━\u001b[0m\u001b[37m\u001b[0m \u001b[1m2s\u001b[0m 6ms/step\n",
      "\u001b[1m313/313\u001b[0m \u001b[32m━━━━━━━━━━━━━━━━━━━━\u001b[0m\u001b[37m\u001b[0m \u001b[1m2s\u001b[0m 6ms/step\n",
      "\u001b[1m313/313\u001b[0m \u001b[32m━━━━━━━━━━━━━━━━━━━━\u001b[0m\u001b[37m\u001b[0m \u001b[1m2s\u001b[0m 5ms/step\n",
      "\u001b[1m313/313\u001b[0m \u001b[32m━━━━━━━━━━━━━━━━━━━━\u001b[0m\u001b[37m\u001b[0m \u001b[1m2s\u001b[0m 6ms/step\n",
      "\u001b[1m313/313\u001b[0m \u001b[32m━━━━━━━━━━━━━━━━━━━━\u001b[0m\u001b[37m\u001b[0m \u001b[1m2s\u001b[0m 5ms/step\n",
      "\u001b[1m313/313\u001b[0m \u001b[32m━━━━━━━━━━━━━━━━━━━━\u001b[0m\u001b[37m\u001b[0m \u001b[1m2s\u001b[0m 6ms/step\n",
      "\u001b[1m313/313\u001b[0m \u001b[32m━━━━━━━━━━━━━━━━━━━━\u001b[0m\u001b[37m\u001b[0m \u001b[1m2s\u001b[0m 5ms/step\n",
      "\u001b[1m313/313\u001b[0m \u001b[32m━━━━━━━━━━━━━━━━━━━━\u001b[0m\u001b[37m\u001b[0m \u001b[1m2s\u001b[0m 5ms/step\n",
      "\u001b[1m313/313\u001b[0m \u001b[32m━━━━━━━━━━━━━━━━━━━━\u001b[0m\u001b[37m\u001b[0m \u001b[1m2s\u001b[0m 5ms/step\n",
      "Mean accuracy = 0.6496599999999999\n",
      "Standard deviation = 0.0033699999999999993\n"
     ]
    }
   ],
   "source": [
    "def eval_model(model):\n",
    "    testgen = datagenerator(cifar10_x_test_1, cifar10_x_test_2, cifar10_y_test_1, cifar10_y_test_2, 10000)\n",
    "    eval_samples_x, eval_samples_y = next(testgen)\n",
    "    predictions = model.predict(eval_samples_x)\n",
    "    pred1 = np.argmax(predictions[0], axis=1)\n",
    "    pred2 = np.argmax(predictions[1], axis=1)\n",
    "    correct_guesses_1 = pred1 == np.argmax(eval_samples_y[0], axis=1)\n",
    "    correct_guesses_2 = pred2 == np.argmax(eval_samples_y[1], axis=1)\n",
    "    return (np.mean(correct_guesses_1) + np.mean(correct_guesses_2)) / 2\n",
    "\n",
    "repeat_eval = 10\n",
    "eval_results = []\n",
    "for i in range(repeat_eval):\n",
    "    eval_results.append(eval_model(model))\n",
    "\n",
    "print(\"Mean accuracy =\", np.mean(eval_results))\n",
    "print(\"Standard deviation =\", np.std(eval_results))"
   ]
  }
 ],
 "metadata": {
  "kernelspec": {
   "display_name": "Python 3",
   "language": "python",
   "name": "python3"
  },
  "language_info": {
   "codemirror_mode": {
    "name": "ipython",
    "version": 3
   },
   "file_extension": ".py",
   "mimetype": "text/x-python",
   "name": "python",
   "nbconvert_exporter": "python",
   "pygments_lexer": "ipython3",
   "version": "3.11.9"
  }
 },
 "nbformat": 4,
 "nbformat_minor": 2
}
